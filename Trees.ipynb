{
 "cells": [
  {
   "cell_type": "markdown",
   "id": "48a70bc5",
   "metadata": {},
   "source": [
    "#### Implementation of Binary Tree"
   ]
  },
  {
   "cell_type": "code",
   "execution_count": null,
   "id": "7a36e012",
   "metadata": {},
   "outputs": [],
   "source": [
    "class Node:\n",
    "    def __init__(self,val):\n",
    "        self.val = val\n",
    "        self.right = None\n",
    "        self.left = None\n",
    "\n",
    "root = Node(1)\n",
    "root.left = Node(2)\n",
    "root.right = Node(3)\n",
    "root.left.left = Node(4)\n",
    "root.left.right = Node(5)"
   ]
  },
  {
   "cell_type": "markdown",
   "id": "8d409c03",
   "metadata": {},
   "source": [
    "A Tree Data Structure can be traversed in following ways: <br>\n",
    "    1.Depth First Search or DFS:<br>\n",
    "        * Inorder Traversal<br>\n",
    "        * Preorder Traversal<br>\n",
    "        * Postorder Traversal<br>\n",
    "    2. Level Order Traversal or Breadth First Search or BFS<br>\n",
    "    3. Boundary Traversal<br>\n",
    "    4. Diagonal Traversal<br>"
   ]
  },
  {
   "cell_type": "code",
   "execution_count": 5,
   "id": "1af0c34a",
   "metadata": {},
   "outputs": [
    {
     "name": "stdout",
     "output_type": "stream",
     "text": [
      "Preorde Traversal of Tree:\n",
      "1 2 4 5 3 "
     ]
    }
   ],
   "source": [
    "# Inorder\n",
    "# left subtree -> root > right subtree\n",
    "class Node:\n",
    "    def __init__(self,val):\n",
    "        self.val = val\n",
    "        self.right = None\n",
    "        self.left = None\n",
    "def printInorder(root):\n",
    "    if root:\n",
    "        printInorder(root.left)\n",
    "        print(root.val,end=\" \")\n",
    "        printInorder(root.right)\n",
    "\n",
    "def printPreorder(root):\n",
    "    if root:\n",
    "        print(root.val,end=\" \")\n",
    "        printPreorder(root.left)\n",
    "        printPreorder(root.right)\n",
    "\n",
    "\n",
    "root = Node(1)\n",
    "root.left = Node(2)\n",
    "root.right = Node(3)\n",
    "root.left.left = Node(4)\n",
    "root.left.right = Node(5)\n",
    "print(\"Preorde Traversal of Tree:\")\n",
    "printPreorder(root)"
   ]
  },
  {
   "cell_type": "code",
   "execution_count": 20,
   "id": "64b99972",
   "metadata": {},
   "outputs": [
    {
     "name": "stdout",
     "output_type": "stream",
     "text": [
      "Level Order Traversal of Tree:\n",
      "1 2 3 4 5 7 6 "
     ]
    }
   ],
   "source": [
    "#Level Order Traversal\n",
    "class Node:\n",
    "    def __init__(self,val):\n",
    "        self.val = val\n",
    "        self.right = None\n",
    "        self.left = None\n",
    "        \n",
    "class Queue:\n",
    "    def __init__(self):\n",
    "        self.queue = []\n",
    "    def add_child(self,vals):\n",
    "        self.queue.extend(vals)\n",
    "    def dequeue(self):\n",
    "        if len(self.queue) > 0:\n",
    "            node = self.queue.pop(0)\n",
    "            return node\n",
    "        else:\n",
    "            return None\n",
    "        \n",
    "def get_child_nodes(root):\n",
    "    child_nodes = []\n",
    "    if root.left:\n",
    "        child_nodes.append(root.left)\n",
    "    if root.right:\n",
    "        child_nodes.append(root.right)\n",
    "    return child_nodes\n",
    "        \n",
    "def LevelOrderTraversal(root,queue):\n",
    "    if root:\n",
    "        print(root.val, end=\" \")\n",
    "        child_nodes = get_child_nodes(root)\n",
    "#         for each in child_nodes:\n",
    "#             print(f\"root node: {root.val} child_node {each.val}\",end=\" \")\n",
    "        queue.add_child(child_nodes)\n",
    "        LevelOrderTraversal(queue.dequeue(),queue)\n",
    "\n",
    "\n",
    "root = Node(1)\n",
    "root.left = Node(2)\n",
    "root.right = Node(3)\n",
    "root.left.left = Node(4)\n",
    "root.right.left = Node(5)\n",
    "root.right.left.right = Node(6)\n",
    "root.left.left.left = Node(7)\n",
    "queue = Queue()\n",
    "print(\"Level Order Traversal of Tree:\")\n",
    "LevelOrderTraversal(root,queue)       \n",
    "        \n",
    "        "
   ]
  },
  {
   "cell_type": "code",
   "execution_count": 1,
   "id": "e79b025c",
   "metadata": {},
   "outputs": [],
   "source": [
    "# Iteratively Preorder\n",
    "def preorderTraversal(self, root):\n",
    "        \"\"\"\n",
    "        :type root: TreeNode\n",
    "        :rtype: List[int]\n",
    "        \"\"\"\n",
    "        stack = []\n",
    "        if root:\n",
    "            stack.append(root)\n",
    "        ans = []\n",
    "        while len(stack) > 0:\n",
    "            curr_node = stack.pop()\n",
    "            ans.append(curr_node.val)\n",
    "            if curr_node.right:\n",
    "                stack.append(curr_node.right)\n",
    "            if curr_node.left:\n",
    "                stack.append(curr_node.left)\n",
    "        return ans\n",
    "            "
   ]
  },
  {
   "cell_type": "markdown",
   "id": "3c4a8711",
   "metadata": {},
   "source": [
    "# Preorder, Inorder, postorder in one Traversal"
   ]
  },
  {
   "cell_type": "code",
   "execution_count": 10,
   "id": "ea6d385b",
   "metadata": {},
   "outputs": [
    {
     "name": "stdout",
     "output_type": "stream",
     "text": [
      "[3, 2, 4, 1, 6, 5, 7] [1, 2, 3, 4, 5, 6, 7] [3, 4, 2, 6, 7, 5, 1]\n"
     ]
    }
   ],
   "source": [
    "class Node:\n",
    "    def __init__(self,val):\n",
    "        self.val = val\n",
    "        self.right = None\n",
    "        self.left = None\n",
    "\n",
    "def traverse_all_3(root):\n",
    "    stack = []\n",
    "    if root:\n",
    "        stack.append((root,1))\n",
    "    inorder = []\n",
    "    preorder = []\n",
    "    postorder = []\n",
    "    \n",
    "    while len(stack) > 0:\n",
    "        curr = stack.pop()\n",
    "        if curr[1] == 1:\n",
    "            preorder.append(curr[0].val)\n",
    "            stack.append((curr[0],2))\n",
    "            if curr[0].left:\n",
    "                stack.append((curr[0].left,1))\n",
    "            \n",
    "        elif curr[1] == 2:\n",
    "            inorder.append(curr[0].val)\n",
    "            stack.append((curr[0],3))\n",
    "            if curr[0].right:\n",
    "                stack.append((curr[0].right,1)) \n",
    "        else:\n",
    "            postorder.append(curr[0].val)\n",
    "    return inorder, preorder, postorder\n",
    "\n",
    "\n",
    "root = Node(1)\n",
    "root.left = Node(2)\n",
    "root.right = Node(5)\n",
    "root.left.left = Node(3)\n",
    "root.left.right = Node(4)\n",
    "root.right.left = Node(6)\n",
    "root.right.right = Node(7)\n",
    "\n",
    "inorder, preorder, postorder = traverse_all_3(root)\n",
    "print(inorder, preorder, postorder)\n",
    "        \n",
    "        \n",
    "        \n",
    "        \n",
    "        \n",
    "        \n",
    "        \n",
    "        "
   ]
  },
  {
   "cell_type": "markdown",
   "id": "bf5bedad",
   "metadata": {},
   "source": [
    "##  Inorder using Stacks"
   ]
  },
  {
   "cell_type": "code",
   "execution_count": 17,
   "id": "58ded556",
   "metadata": {},
   "outputs": [
    {
     "data": {
      "text/plain": [
       "[3, 2, 4, 1, 6, 5, 7]"
      ]
     },
     "execution_count": 17,
     "metadata": {},
     "output_type": "execute_result"
    }
   ],
   "source": [
    "def inorder(root):\n",
    "    stack = []\n",
    "    curr = root\n",
    "    ans = []\n",
    "    while True:\n",
    "        if curr:\n",
    "            stack.append(curr)\n",
    "            curr = curr.left\n",
    "        else:\n",
    "            if len(stack) == 0:\n",
    "                break\n",
    "            curr = stack.pop()\n",
    "            ans.append(curr.val)\n",
    "            curr = curr.right\n",
    "            \n",
    "    return ans\n",
    "\n",
    "root = Node(1)\n",
    "root.left = Node(2)\n",
    "root.right = Node(5)\n",
    "root.left.left = Node(3)\n",
    "root.left.right = Node(4)\n",
    "root.right.left = Node(6)\n",
    "root.right.right = Node(7)\n",
    "inorder(root)            \n",
    "        "
   ]
  },
  {
   "cell_type": "code",
   "execution_count": null,
   "id": "1568215a",
   "metadata": {},
   "outputs": [],
   "source": []
  }
 ],
 "metadata": {
  "kernelspec": {
   "display_name": "Python 3 (ipykernel)",
   "language": "python",
   "name": "python3"
  },
  "language_info": {
   "codemirror_mode": {
    "name": "ipython",
    "version": 3
   },
   "file_extension": ".py",
   "mimetype": "text/x-python",
   "name": "python",
   "nbconvert_exporter": "python",
   "pygments_lexer": "ipython3",
   "version": "3.11.3"
  }
 },
 "nbformat": 4,
 "nbformat_minor": 5
}
