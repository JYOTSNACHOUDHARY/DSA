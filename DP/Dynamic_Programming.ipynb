{
 "cells": [
  {
   "cell_type": "markdown",
   "id": "302c7d82",
   "metadata": {},
   "source": [
    "# Frog Jump"
   ]
  },
  {
   "cell_type": "code",
   "execution_count": 13,
   "id": "d5e9700a",
   "metadata": {},
   "outputs": [
    {
     "data": {
      "text/plain": [
       "7"
      ]
     },
     "execution_count": 13,
     "metadata": {},
     "output_type": "execute_result"
    }
   ],
   "source": [
    "#Recusive solution\n",
    "def get_min_total_recursion(index,arr):\n",
    "    if index == 0:\n",
    "        return 0\n",
    "    left = get_min_total_recursion(index-1,arr) + abs(arr[index]-arr[index-1])\n",
    "    right = float('inf')\n",
    "    if index > 1:\n",
    "        right = get_min_total_recursion(index-2,arr) + abs(arr[index]-arr[index-2])\n",
    "    return min(left,right)\n",
    "\n",
    "#DP solution using Memoization \n",
    "def get_min_total_mem(index,arr,dp):\n",
    "    if index == 0:\n",
    "        return 0\n",
    "    if dp[index] != -1:\n",
    "        return dp[index]\n",
    "    \n",
    "    left = get_min_total_mem(index-1,arr,dp) + abs(arr[index]-arr[index-1])\n",
    "    right = float('inf')\n",
    "    if index > 1:\n",
    "        right = get_min_total_mem(index-2,arr,dp) + abs(arr[index]-arr[index-2])\n",
    "    dp[index] = min(left,right)\n",
    "    return dp[index]\n",
    "\n",
    "#DP with tabulaization\n",
    "def get_min_total_tab(arr):\n",
    "    n = len(arr)\n",
    "    dp = [-1]*len(arr)\n",
    "    dp[0] = 0\n",
    "    for i in range(1,len(arr)):\n",
    "        fs = dp[i-1] + abs(arr[i]-arr[i-1])\n",
    "        ss = float('inf')\n",
    "        if i > 1:\n",
    "            ss = dp[i-2] + abs(arr[i]-arr[i-2])\n",
    "        dp[i] = min(fs,ss)\n",
    "    return dp[n-1]\n",
    "\n",
    "# we can still optimize the space. Whenever we use only n-1 and n-2, we can optimize it\n",
    "def get_min_total_tab_opt(arr):\n",
    "    n = len(arr)\n",
    "    prev = 0\n",
    "    prev_to_prev = float('inf')\n",
    "    for i in range(1,len(arr)):\n",
    "        fs = prev + abs(arr[i]-arr[i-1])\n",
    "        ss = float('inf')\n",
    "        if i > 1:\n",
    "            ss = prev_to_prev + abs(arr[i]-arr[i-2])\n",
    "        curr = min(fs,ss)\n",
    "        prev_to_prev = prev\n",
    "        prev = curr\n",
    "    return curr\n",
    "\n",
    "arr = [7, 4, 4, 2, 6, 6, 3, 4]\n",
    "dp = [-1]*len(arr)\n",
    "#get_min_total_mem(7,arr,dp)\n",
    "get_min_total_tab_opt(arr)\n"
   ]
  },
  {
   "cell_type": "markdown",
   "id": "d9bcbfbc",
   "metadata": {},
   "source": [
    "# Frog K Jumps\n"
   ]
  },
  {
   "cell_type": "code",
   "execution_count": 19,
   "id": "b137714c",
   "metadata": {},
   "outputs": [
    {
     "data": {
      "text/plain": [
       "13"
      ]
     },
     "execution_count": 19,
     "metadata": {},
     "output_type": "execute_result"
    }
   ],
   "source": [
    "def get_min_total_k_jumps_mem(index,arr,dp,k):\n",
    "    if index == 0:\n",
    "        return 0\n",
    "    if dp[index] != -1:\n",
    "        return dp[index]\n",
    "    min_jump_score = float('inf')\n",
    "    for i in range(1,k):\n",
    "        i_jump_score = get_min_total_k_jumps_mem(index-i,arr,dp,k)+abs(arr[index]-arr[index-i])\n",
    "        min_jump_score = min(min_jump_score,i_jump_score)\n",
    "    dp[index] = min_jump_score\n",
    "    return dp[index]\n",
    "\n",
    "arr = [7, 4, 4, 2, 6, 6, 3, 4]\n",
    "k = 2\n",
    "dp = [-1]*len(arr)\n",
    "get_min_total_k_jumps_mem(7,arr,dp,k)\n",
    "    "
   ]
  },
  {
   "cell_type": "markdown",
   "id": "e740c6f0",
   "metadata": {},
   "source": [
    "# Find Maximum Sum of Non-adjacent nums"
   ]
  },
  {
   "cell_type": "code",
   "execution_count": 22,
   "id": "554138fa",
   "metadata": {},
   "outputs": [
    {
     "data": {
      "text/plain": [
       "5"
      ]
     },
     "execution_count": 22,
     "metadata": {},
     "output_type": "execute_result"
    }
   ],
   "source": [
    "def get_max_non_ad_sum(nums,index,dp):\n",
    "    if index == 0:\n",
    "        return nums[0]\n",
    "    if index < 0:\n",
    "        return 0\n",
    "    if dp[index] != -1:\n",
    "        return dp[index]\n",
    "    #pick\n",
    "    left = nums[index] + get_max_non_ad_sum(nums,index-2,dp)\n",
    "    right = 0 + get_max_non_ad_sum(nums,index-1,dp)\n",
    "    dp[index] = max(left,right)\n",
    "    return dp[index]\n",
    "\n",
    "arr = [1,2,4]\n",
    "dp = [-1]*len(arr)\n",
    "get_max_non_ad_sum(arr,len(arr)-1,dp)"
   ]
  },
  {
   "cell_type": "markdown",
   "id": "874d6e92",
   "metadata": {},
   "source": [
    "# House Robber - 2\n"
   ]
  },
  {
   "cell_type": "code",
   "execution_count": 24,
   "id": "7244a5bf",
   "metadata": {},
   "outputs": [
    {
     "data": {
      "text/plain": [
       "7"
      ]
     },
     "execution_count": 24,
     "metadata": {},
     "output_type": "execute_result"
    }
   ],
   "source": [
    "def get_max_money(nums,index,dp,leave_out_first=False):\n",
    "    if index == 0 and leave_out_first:\n",
    "        return 0\n",
    "    elif index == 0 and not leave_out_first:\n",
    "        return nums[0]\n",
    "    if index < 0:\n",
    "        return 0\n",
    "    if dp[index] != -1:\n",
    "        return dp[index]\n",
    "    #pick\n",
    "    left = nums[index] + get_max_money(nums,index-2,dp,leave_out_first)\n",
    "    right = 0 + get_max_money(nums,index-1,dp,leave_out_first)\n",
    "    dp[index] = max(left,right)\n",
    "    return dp[index]\n",
    "\n",
    "def houseRobber(valueInHouse):\n",
    "    if len(valueInHouse) == 1:\n",
    "        return valueInHouse[0]\n",
    "    dp = [-1]*len(valueInHouse)\n",
    "    n = len(valueInHouse)-1 \n",
    "    leave_last = get_max_money(valueInHouse,n-1,dp)\n",
    "    dp = [-1]*len(valueInHouse)\n",
    "    leave_first = get_max_money(valueInHouse,n,dp,leave_out_first=True)\n",
    "    return max(leave_last,leave_first)\n",
    "\n",
    "valueInHouse = [2,3,2,4]\n",
    "houseRobber(valueInHouse)"
   ]
  },
  {
   "cell_type": "markdown",
   "id": "d8a217b8",
   "metadata": {},
   "source": [
    "# Ninja's Training (Memoization)"
   ]
  },
  {
   "cell_type": "code",
   "execution_count": 25,
   "id": "1d86f043",
   "metadata": {},
   "outputs": [
    {
     "data": {
      "text/plain": [
       "11"
      ]
     },
     "execution_count": 25,
     "metadata": {},
     "output_type": "execute_result"
    }
   ],
   "source": [
    "from typing import *\n",
    "\n",
    "\n",
    "def get_max_points(day,last_task,points,dp):\n",
    "    if day == 0:\n",
    "        max_pt = float('-inf')\n",
    "        for i in range(3):\n",
    "            if i != last_task:\n",
    "                max_pt = max(max_pt,points[0][i])\n",
    "        return max_pt\n",
    "    if dp[day][last_task] != -1:\n",
    "        return dp[day][last_task]\n",
    "\n",
    "    max_pt = float('-inf') \n",
    "    for i in range(3):\n",
    "        if i != last_task:\n",
    "            curr_pt = points[day][i] + get_max_points(day-1,i,points,dp)\n",
    "            max_pt = max(max_pt,curr_pt)\n",
    "    dp[day][last_task] = max_pt\n",
    "    return max_pt\n",
    "\n",
    "  \n",
    "def ninjaTraining(n: int, points: List[List[int]]) -> int:\n",
    "    dp = []\n",
    "    for i in range(n):\n",
    "        dp.append([-1]*4)\n",
    "\n",
    "    max_score = get_max_points(n-1,3,points,dp)\n",
    "    return max_score\n",
    "\n",
    "\n",
    "points = [[1,2,5],[3,1,1],[3,3,3]]\n",
    "ninjaTraining(3,points)"
   ]
  },
  {
   "cell_type": "markdown",
   "id": "037055ef",
   "metadata": {},
   "source": [
    "# Ninja's Training (Tabulation)"
   ]
  },
  {
   "cell_type": "code",
   "execution_count": 26,
   "id": "f7f68f9c",
   "metadata": {},
   "outputs": [
    {
     "data": {
      "text/plain": [
       "11"
      ]
     },
     "execution_count": 26,
     "metadata": {},
     "output_type": "execute_result"
    }
   ],
   "source": [
    "def get_max_points(days,last_task,points,dp):\n",
    "    max_pt = float('-inf')\n",
    "    for j in range(3):\n",
    "        for i in range(3):\n",
    "            if i != j:\n",
    "                max_pt = max(max_pt,points[0][i])\n",
    "        dp[0][j] = max_pt\n",
    "        max_pt = float('-inf')\n",
    "\n",
    "    for day in range(1,days):\n",
    "        max_pt = float('-inf')\n",
    "        for j in range(3):\n",
    "            for i in range(3):\n",
    "                if i != j:\n",
    "                    curr_pt =  points[day][i] + dp[day-1][i]\n",
    "                    max_pt = max(max_pt,curr_pt)\n",
    "            dp[day][j] = max_pt \n",
    "            max_pt = float('-inf')\n",
    "    max_ans = float('-inf')\n",
    "    for i in range(4):\n",
    "        max_ans = max(max_ans,dp[day][i])\n",
    "    return max_ans\n",
    "\n",
    "\n",
    "def ninjaTraining_tab(n: int, points: List[List[int]]) -> int:\n",
    "    dp = []\n",
    "    for i in range(n):\n",
    "        dp.append([-1]*4)\n",
    "\n",
    "    max_score = get_max_points(n,3,points,dp)\n",
    "    return max_score\n",
    "\n",
    "points = [[1,2,5],[3,1,1],[3,3,3]]\n",
    "ninjaTraining_tab(3,points)"
   ]
  },
  {
   "cell_type": "markdown",
   "id": "7a6e65f5",
   "metadata": {},
   "source": [
    "# Unique path with Obstacle"
   ]
  },
  {
   "cell_type": "code",
   "execution_count": null,
   "id": "daf2c4d8",
   "metadata": {},
   "outputs": [],
   "source": [
    "def get_unique_paths_mem(self,i,j,grid,dp):\n",
    "        if i >= 0 and j>= 0 and grid[i][j] == 1:\n",
    "            return 0\n",
    "        if i == 0 and j == 0:\n",
    "            return 1\n",
    "        if i < 0 or j < 0:\n",
    "            return 0\n",
    "        if dp[i][j] != -1:\n",
    "            return dp[i][j]\n",
    "        \n",
    "        top = self.get_unique_paths(i-1,j,grid,dp)\n",
    "        left = self.get_unique_paths(i,j-1,grid,dp)\n",
    "        dp[i][j] = top + left\n",
    "        return dp[i][j]\n",
    "\n",
    "def get_unique_paths_tab(self,m,n,grid,dp):\n",
    "       \n",
    "        for i in range(m):\n",
    "            for j in range(n):\n",
    "                if i == 0 and j == 0 and grid[i][j] == 0:\n",
    "                    dp[i][j] = 1\n",
    "                elif i >= 0 and j>= 0  and grid[i][j] == 0:\n",
    "                    top = 0\n",
    "                    left = 0\n",
    "                    if i > 0 and grid[i-1][j] == 0:\n",
    "                        top = dp[i-1][j]\n",
    "                    if j > 0 and grid[i][j-1] == 0:\n",
    "                        left = dp[i][j-1]\n",
    "                    dp[i][j] = top + left\n",
    "                else:\n",
    "                    dp[i][j] = 0\n",
    "        return dp[i][j]"
   ]
  },
  {
   "cell_type": "markdown",
   "id": "25bf26a1",
   "metadata": {},
   "source": [
    "# Mininum cost of a path"
   ]
  },
  {
   "cell_type": "code",
   "execution_count": 28,
   "id": "717775b4",
   "metadata": {},
   "outputs": [
    {
     "data": {
      "text/plain": [
       "7"
      ]
     },
     "execution_count": 28,
     "metadata": {},
     "output_type": "execute_result"
    }
   ],
   "source": [
    " def get_min_path_sum(i,j,grid,dp):\n",
    "        if i == 0 and j == 0:\n",
    "            return grid[i][j]\n",
    "        if i < 0 or j < 0:\n",
    "            return 0\n",
    "        if dp[i][j] != -1:\n",
    "            return dp[i][j]\n",
    "        top = float('inf')\n",
    "        left = float('inf')\n",
    "        if i > 0:\n",
    "            top = get_min_path_sum(i-1,j,grid,dp)\n",
    "        if j > 0:\n",
    "            left = get_min_path_sum(i,j-1,grid,dp)\n",
    "        dp[i][j] = min(top,left) + grid[i][j]\n",
    "        return dp[i][j]\n",
    "\n",
    "\n",
    "def minPathSum(grid):\n",
    "    \"\"\"\n",
    "    :type grid: List[List[int]]\n",
    "    :rtype: int\n",
    "    \"\"\"\n",
    "    dp = []\n",
    "    m,n = len(grid), len(grid[0])\n",
    "    for i in range(m):\n",
    "        dp.append([-1]*n)\n",
    "\n",
    "    min_cost = get_min_path_sum(m-1,n-1,grid,dp)\n",
    "    return min_cost\n",
    "\n",
    "grid = [[1,3,1],[1,5,1],[4,2,1]]\n",
    "minPathSum(grid)\n"
   ]
  },
  {
   "cell_type": "markdown",
   "id": "194a0e5f",
   "metadata": {},
   "source": [
    "# Variable Starting and End point"
   ]
  },
  {
   "cell_type": "code",
   "execution_count": 29,
   "id": "50f0c93b",
   "metadata": {},
   "outputs": [
    {
     "data": {
      "text/plain": [
       "13"
      ]
     },
     "execution_count": 29,
     "metadata": {},
     "output_type": "execute_result"
    }
   ],
   "source": [
    "def get_min_path(matrix,dp):\n",
    "        m, n = len(matrix), len(matrix[0])\n",
    "        # initialize first row with matrix values\n",
    "        for j in range(n):\n",
    "            dp[0][j] = matrix[0][j]\n",
    "        \n",
    "        for i in range(1,m):\n",
    "            for j in range(n):\n",
    "                one_up =  dp[i-1][j]\n",
    "                diag_l = float('inf')\n",
    "                if j > 0:\n",
    "                    diag_l =  dp[i-1][j-1]\n",
    "                diag_r = float('inf')\n",
    "                if j < n-1:\n",
    "                    diag_r =  dp[i-1][j+1]\n",
    "                dp[i][j] = matrix[i][j] + min(one_up,diag_l,diag_r)\n",
    "\n",
    "        min_path = float('inf')\n",
    "        for j in range(n):\n",
    "            min_path = min(min_path,dp[m-1][j])\n",
    "        return min_path\n",
    "        \n",
    "\n",
    "def minFallingPathSum(matrix):\n",
    "    \"\"\"\n",
    "    :type matrix: List[List[int]]\n",
    "    :rtype: int\n",
    "    \"\"\"\n",
    "    m, n = len(matrix), len(matrix[0])\n",
    "    min_path_overall = float('inf')\n",
    "    dp = []\n",
    "    for i in range(m):\n",
    "        dp.append([-1]*n)\n",
    "    min_path = get_min_path(matrix,dp)\n",
    "    return min_path\n",
    "\n",
    "matrix = [[2,1,3],[6,5,4],[7,8,9]]\n",
    "minFallingPathSum(matrix)"
   ]
  },
  {
   "cell_type": "code",
   "execution_count": 34,
   "id": "5183da35",
   "metadata": {},
   "outputs": [
    {
     "ename": "IndexError",
     "evalue": "list assignment index out of range",
     "output_type": "error",
     "traceback": [
      "\u001b[1;31m---------------------------------------------------------------------------\u001b[0m",
      "\u001b[1;31mIndexError\u001b[0m                                Traceback (most recent call last)",
      "Cell \u001b[1;32mIn[34], line 32\u001b[0m\n\u001b[0;32m     29\u001b[0m         \u001b[38;5;28;01mreturn\u001b[39;00m ans_min\n\u001b[0;32m     31\u001b[0m nums \u001b[38;5;241m=\u001b[39m [\u001b[38;5;241m-\u001b[39m\u001b[38;5;241m36\u001b[39m,\u001b[38;5;241m36\u001b[39m]\n\u001b[1;32m---> 32\u001b[0m \u001b[43mminimumDifference\u001b[49m\u001b[43m(\u001b[49m\u001b[43mnums\u001b[49m\u001b[43m)\u001b[49m\n",
      "Cell \u001b[1;32mIn[34], line 13\u001b[0m, in \u001b[0;36mminimumDifference\u001b[1;34m(nums)\u001b[0m\n\u001b[0;32m     11\u001b[0m     dp[i][\u001b[38;5;241m0\u001b[39m] \u001b[38;5;241m=\u001b[39m \u001b[38;5;28;01mTrue\u001b[39;00m\n\u001b[0;32m     12\u001b[0m     \u001b[38;5;28;01mif\u001b[39;00m nums[i] \u001b[38;5;241m<\u001b[39m\u001b[38;5;241m=\u001b[39m target: \n\u001b[1;32m---> 13\u001b[0m         dp[i][nums[i]] \u001b[38;5;241m=\u001b[39m \u001b[38;5;28;01mTrue\u001b[39;00m\n\u001b[0;32m     15\u001b[0m \u001b[38;5;28;01mfor\u001b[39;00m i \u001b[38;5;129;01min\u001b[39;00m \u001b[38;5;28mrange\u001b[39m(\u001b[38;5;241m1\u001b[39m, n):\n\u001b[0;32m     16\u001b[0m     \u001b[38;5;28;01mfor\u001b[39;00m j \u001b[38;5;129;01min\u001b[39;00m \u001b[38;5;28mrange\u001b[39m(\u001b[38;5;241m1\u001b[39m, target \u001b[38;5;241m+\u001b[39m \u001b[38;5;241m1\u001b[39m):\n",
      "\u001b[1;31mIndexError\u001b[0m: list assignment index out of range"
     ]
    }
   ],
   "source": [
    "def minimumDifference(nums):\n",
    "        n = len(nums)\n",
    "        target = sum(nums)\n",
    "        if n == 1:\n",
    "            return nums[0]\n",
    "        \n",
    "        dp = []\n",
    "        for i in range(n):\n",
    "            dp.append([False] * (target + 1))\n",
    "        for i in range(n):\n",
    "            dp[i][0] = True\n",
    "            if nums[i] <= target: \n",
    "                dp[i][nums[i]] = True\n",
    "            \n",
    "        for i in range(1, n):\n",
    "            for j in range(1, target + 1):\n",
    "                non_pick = dp[i-1][j]\n",
    "                pick = False\n",
    "                if nums[i] <= j:\n",
    "                    pick = dp[i-1][j - nums[i]]\n",
    "                dp[i][j] = pick or non_pick\n",
    "\n",
    "        ans_min = float('inf')\n",
    "        for j in range(target + 1):\n",
    "            if dp[n-1][j]:\n",
    "                curr_min = abs(j - (target - j))\n",
    "                ans_min = min(ans_min, curr_min)\n",
    "                \n",
    "        return ans_min\n",
    "\n",
    "nums = [-36,36]\n",
    "minimumDifference(nums)"
   ]
  },
  {
   "cell_type": "code",
   "execution_count": 46,
   "id": "90e393ba",
   "metadata": {},
   "outputs": [],
   "source": [
    "def get_max_val_mem(index,bag,val,weight,total_sum,dp):\n",
    "    if bag == 0:\n",
    "        return total_sum\n",
    "    if index == 0:\n",
    "        if weight[0] >= bag:\n",
    "            total_sum = total_sum + val[0]\n",
    "        return total_sum\n",
    "    if dp[index][bag] != -1:\n",
    "        return dp[index][bag]\n",
    "    \n",
    "    non_pick = get_max_val_mem(index-1,bag,val,weight,total_sum,dp)\n",
    "    pick = float('-inf')\n",
    "    if weight[index] <= bag:\n",
    "        pick = val[index] + get_max_val_mem(index-1,bag-weight[index],val,weight,total_sum,dp)\n",
    "    total_sum = max(non_pick, pick)\n",
    "    dp[index][bag] = total_sum\n",
    "    return total_sum\n",
    "        \n",
    "    \n"
   ]
  },
  {
   "cell_type": "code",
   "execution_count": null,
   "id": "0ed48db4",
   "metadata": {},
   "outputs": [],
   "source": [
    "def get_max_val_mem(index,bag,val,weight,total_sum,dp):\n",
    "    bag = 0\n",
    "    n = len(bag)\n",
    "    for i in range()\n",
    "    \n",
    "    \n",
    "    for i in range()\n",
    "  "
   ]
  },
  {
   "cell_type": "code",
   "execution_count": 47,
   "id": "69479c02",
   "metadata": {},
   "outputs": [
    {
     "name": "stdout",
     "output_type": "stream",
     "text": [
      "index:3, bag: 5\n",
      "index:2, bag: 5\n",
      "index:1, bag: 5\n",
      "total_sum 4\n",
      "index:1, bag: 1\n",
      "total_sum 5\n",
      "total_sum 13\n",
      "total_sum 13\n"
     ]
    },
    {
     "data": {
      "text/plain": [
       "13"
      ]
     },
     "execution_count": 47,
     "metadata": {},
     "output_type": "execute_result"
    }
   ],
   "source": [
    "weight = [1, 2, 4, 5]\n",
    "val = [5, 4, 8, 6]\n",
    "bag = 5\n",
    "dp = []\n",
    "n = len(weight)\n",
    "for i in range(len(weight)):\n",
    "    dp.append([-1]*(bag+1))\n",
    "\n",
    "total_sum = 0\n",
    "max_val = get_max_val_mem(n-1,bag,val,weight,total_sum,dp)\n",
    "max_val\n",
    "\n",
    "        "
   ]
  },
  {
   "cell_type": "code",
   "execution_count": 48,
   "id": "7b3e30a0",
   "metadata": {},
   "outputs": [
    {
     "name": "stdout",
     "output_type": "stream",
     "text": [
      "Union of arr1 and arr2 is:\n",
      "1 2 3 4 5 6 7 8 9 10 11 12\n"
     ]
    }
   ],
   "source": [
    "def find_union(arr1, arr2):\n",
    "    s = set()\n",
    "    union = []\n",
    "    \n",
    "    for num in arr1:\n",
    "        s.add(num)\n",
    "    \n",
    "    for num in arr2:\n",
    "        s.add(num)\n",
    "    \n",
    "    for num in s:\n",
    "        union.append(num)\n",
    "    \n",
    "    return union\n",
    "\n",
    "arr1 = [1, 2, 3, 4, 5, 6, 7, 8, 9, 10]\n",
    "arr2 = [2, 3, 4, 4, 5, 11, 12]\n",
    "\n",
    "union = find_union(arr1, arr2)\n",
    "\n",
    "print(\"Union of arr1 and arr2 is:\")\n",
    "print(*union)"
   ]
  },
  {
   "cell_type": "markdown",
   "id": "bb795cf0",
   "metadata": {},
   "source": [
    "# Get Longest Common Subsequence"
   ]
  },
  {
   "cell_type": "code",
   "execution_count": 2,
   "id": "df46e404",
   "metadata": {},
   "outputs": [
    {
     "name": "stdout",
     "output_type": "stream",
     "text": [
      "0\n",
      "0\n",
      "0\n",
      "0\n",
      "\n",
      "\n",
      "0\n",
      "1\n",
      "1\n",
      "1\n",
      "\n",
      "\n",
      "0\n",
      "1\n",
      "1\n",
      "1\n",
      "\n",
      "\n",
      "0\n",
      "1\n",
      "2\n",
      "2\n",
      "\n",
      "\n",
      "0\n",
      "1\n",
      "2\n",
      "2\n",
      "\n",
      "\n",
      "-1\n",
      "1\n",
      "2\n",
      "3\n",
      "\n",
      "\n"
     ]
    },
    {
     "data": {
      "text/plain": [
       "3"
      ]
     },
     "execution_count": 2,
     "metadata": {},
     "output_type": "execute_result"
    }
   ],
   "source": [
    "def get_longest_ss(n1,n2,text1,text2,dp):\n",
    "        dp[0] = [0]*(n2+1)\n",
    "        for i in range(n1):\n",
    "            dp[i][0] = 0\n",
    "        for index_1 in range(1,n1+1):\n",
    "            for index_2 in range(1,n2+1):\n",
    "                if text1[index_1-1] == text2[index_2-1]:\n",
    "                    dp[index_1][index_2] =  1 + dp[index_1-1][index_2-1]\n",
    "                else:\n",
    "                    dp[index_1][index_2] = max(dp[index_1-1][index_2], dp[index_1][index_2-1])\n",
    "        for i in range(n1+1):\n",
    "            for j in range(n2+1):\n",
    "                print(dp[i][j])\n",
    "        return dp[index_1][index_2]\n",
    "\n",
    "def longestCommonSubsequence(text1, text2):\n",
    "    \"\"\"\n",
    "    :type text1: str\n",
    "    :type text2: str\n",
    "    :rtype: int\n",
    "    \"\"\"\n",
    "    n1 = len(text1)\n",
    "    n2 = len(text2)\n",
    "    dp = []\n",
    "    for i in range(n1+1):\n",
    "        dp.append([-1]*(n2+1))\n",
    "    ss_len = get_longest_ss(n1,n2,text1,text2,dp)\n",
    "    return ss_len\n",
    "\n",
    "text1 = \"abcde\"\n",
    "text2 = \"ace\" \n",
    "longestCommonSubsequence(text1, text2)"
   ]
  }
 ],
 "metadata": {
  "kernelspec": {
   "display_name": "Python 3 (ipykernel)",
   "language": "python",
   "name": "python3"
  },
  "language_info": {
   "codemirror_mode": {
    "name": "ipython",
    "version": 3
   },
   "file_extension": ".py",
   "mimetype": "text/x-python",
   "name": "python",
   "nbconvert_exporter": "python",
   "pygments_lexer": "ipython3",
   "version": "3.11.3"
  }
 },
 "nbformat": 4,
 "nbformat_minor": 5
}
