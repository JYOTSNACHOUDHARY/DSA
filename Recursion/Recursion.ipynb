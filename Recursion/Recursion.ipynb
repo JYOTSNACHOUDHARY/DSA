{
 "cells": [
  {
   "cell_type": "markdown",
   "id": "bd4d41a4",
   "metadata": {},
   "source": [
    "# Sort a stack using Recursion\n",
    "https://www.geeksforgeeks.org/sort-a-stack-using-recursion/"
   ]
  },
  {
   "cell_type": "code",
   "execution_count": 8,
   "id": "cf0e2d27",
   "metadata": {},
   "outputs": [
    {
     "name": "stdout",
     "output_type": "stream",
     "text": [
      "30 15 4 2 1 \n",
      "\n"
     ]
    }
   ],
   "source": [
    "\n",
    "def insert_into_sorted_stack(s,ele):\n",
    "    if len(s) == 0 or ele > s[-1]:\n",
    "        s.append(ele)\n",
    "    \n",
    "    else:\n",
    "        temp = s.pop()\n",
    "        insert_into_sorted_stack(s,ele)\n",
    "        s.append(temp)\n",
    "        \n",
    "\n",
    "def sort_stack(s):\n",
    "    if len(s) != 0:\n",
    "        top = s.pop()\n",
    "        sort_stack(s)\n",
    "        insert_into_sorted_stack(s,top)\n",
    "        \n",
    "        \n",
    "\n",
    "def print_stack(s):\n",
    "    while len(s) > 0:\n",
    "        ele = s.pop()\n",
    "        print(ele, end=\" \")\n",
    "    print(\"\\n\")\n",
    "\n",
    "s = [30,1,4,2,15]\n",
    "#print_stack(s)\n",
    "sort_stack(s)\n",
    "print_stack(s)"
   ]
  },
  {
   "cell_type": "markdown",
   "id": "38e50650",
   "metadata": {},
   "source": [
    "# Reverse a Stack using Recursion"
   ]
  },
  {
   "cell_type": "code",
   "execution_count": 12,
   "id": "9b27aa0b",
   "metadata": {},
   "outputs": [
    {
     "name": "stdout",
     "output_type": "stream",
     "text": [
      "1 2 3 4 5 \n",
      "\n"
     ]
    }
   ],
   "source": [
    "def insert_into_reverse(s, ele):\n",
    "    if len(s) == 0:\n",
    "        s.append(ele)\n",
    "    else:\n",
    "        top = s.pop()\n",
    "        insert_into_reverse(s,ele)\n",
    "        s.append(top)\n",
    "\n",
    "def reverse_stack(s):\n",
    "    if len(s) != 0:\n",
    "        top = s.pop()\n",
    "        reverse_stack(s)\n",
    "        insert_into_reverse(s,top)\n",
    "\n",
    "def print_stack(s):\n",
    "    while len(s) > 0:\n",
    "        ele = s.pop()\n",
    "        print(ele, end=\" \")\n",
    "    print(\"\\n\")\n",
    "\n",
    "\n",
    "s = [1,2,3,4,5]\n",
    "reverse_stack(s)\n",
    "print_stack(s)\n"
   ]
  },
  {
   "cell_type": "markdown",
   "id": "fb0f884a",
   "metadata": {},
   "source": [
    "# Print All Subsequences with sum is k"
   ]
  },
  {
   "cell_type": "code",
   "execution_count": 23,
   "id": "e3a74906",
   "metadata": {},
   "outputs": [
    {
     "name": "stdout",
     "output_type": "stream",
     "text": [
      "[1, 2, -1]\n",
      "[1, 1]\n",
      "[2, 1, -1]\n",
      "[2]\n"
     ]
    }
   ],
   "source": [
    "def print_ss_with_sum(idx, ss, sum_ss, arr,k):\n",
    "    if idx == len(arr):\n",
    "        if sum_ss == k:\n",
    "           print(ss)\n",
    "        return\n",
    "    ss.append(arr[idx])\n",
    "    sum_ss += arr[idx]\n",
    "    print_ss_with_sum(idx+1, ss, sum_ss, arr,k)\n",
    "       \n",
    "    ss.pop()\n",
    "    sum_ss -= arr[idx]\n",
    "    print_ss_with_sum(idx+1, ss, sum_ss, arr,k)\n",
    "        \n",
    "\n",
    "arr = [1,2,1,4,-1]\n",
    "k = 2\n",
    "ss = []\n",
    "print_ss_with_sum(0, ss, 0, arr,k)\n",
    "    \n",
    "    "
   ]
  },
  {
   "cell_type": "markdown",
   "id": "470d1a1c",
   "metadata": {},
   "source": [
    "# Print only One Subsequence with sum K: <br>\n",
    "    Here instead of searching for all ss recursively, we stop the search once we find one of them, by adding a return True statement"
   ]
  },
  {
   "cell_type": "code",
   "execution_count": 20,
   "id": "52078ee3",
   "metadata": {},
   "outputs": [
    {
     "name": "stdout",
     "output_type": "stream",
     "text": [
      "[1, 2, -1]\n"
     ]
    },
    {
     "data": {
      "text/plain": [
       "True"
      ]
     },
     "execution_count": 20,
     "metadata": {},
     "output_type": "execute_result"
    }
   ],
   "source": [
    "def print_ss_with_sum(idx, ss, sum_ss, arr,k):\n",
    "    if idx == len(arr):\n",
    "       if sum_ss == k:\n",
    "           print(ss)\n",
    "           return True\n",
    "       return False\n",
    "    ss.append(arr[idx])\n",
    "    sum_ss += arr[idx]\n",
    "    if print_ss_with_sum(idx+1, ss, sum_ss, arr,k) == True:\n",
    "        return True\n",
    "    ss.pop()\n",
    "    sum_ss -= arr[idx]\n",
    "    if print_ss_with_sum(idx+1, ss, sum_ss, arr,k) == True:\n",
    "        return True\n",
    "    return False\n",
    "\n",
    "arr = [1,2,1,4,-1]\n",
    "k = 2\n",
    "ss = []\n",
    "print_ss_with_sum(0, ss, 0, arr,k)\n",
    "    \n",
    "    "
   ]
  },
  {
   "cell_type": "markdown",
   "id": "6e1b78e8",
   "metadata": {},
   "source": [
    "# Count the Subsequenes with sum is k"
   ]
  },
  {
   "cell_type": "code",
   "execution_count": 29,
   "id": "06dde4f6",
   "metadata": {},
   "outputs": [
    {
     "name": "stdout",
     "output_type": "stream",
     "text": [
      "[1, 2, -1]\n",
      "[1, 1]\n",
      "[2, 1, -1]\n",
      "[2]\n"
     ]
    },
    {
     "data": {
      "text/plain": [
       "4"
      ]
     },
     "execution_count": 29,
     "metadata": {},
     "output_type": "execute_result"
    }
   ],
   "source": [
    "def count_ss_with_sum(idx, ss, sum_ss, arr,k):\n",
    "    if idx == len(arr):\n",
    "        if sum_ss == k:\n",
    "            print(ss)\n",
    "            return 1\n",
    "        return 0\n",
    "    ss.append(arr[idx])\n",
    "    sum_ss += arr[idx]\n",
    "    take = count_ss_with_sum(idx+1, ss, sum_ss, arr,k)\n",
    "    ss.pop()\n",
    "    sum_ss -= arr[idx]\n",
    "    not_take = count_ss_with_sum(idx+1, ss, sum_ss, arr,k)\n",
    "    return take + not_take\n",
    "\n",
    "arr = [1,2,1,4,-1]\n",
    "k = 2\n",
    "ss = []\n",
    "count_ss_with_sum(0, ss, 0, arr,k)\n",
    "        \n",
    "    "
   ]
  },
  {
   "cell_type": "markdown",
   "id": "d435875c",
   "metadata": {},
   "source": [
    "# Implement Merge Sort"
   ]
  },
  {
   "cell_type": "code",
   "execution_count": 39,
   "id": "52ca8c20",
   "metadata": {},
   "outputs": [
    {
     "data": {
      "text/plain": [
       "[1, 2, 3, 3, 4, 5]"
      ]
     },
     "execution_count": 39,
     "metadata": {},
     "output_type": "execute_result"
    }
   ],
   "source": [
    "def merge_sorted_arr(low,mid,high,arr):\n",
    "    left = low\n",
    "    right = mid+1\n",
    "    temp_arr = []\n",
    "    while left <= mid and right <= high:\n",
    "        if arr[left] <= arr[right]:\n",
    "            temp_arr.append(arr[left])\n",
    "            left += 1\n",
    "        else:\n",
    "            temp_arr.append(arr[right])\n",
    "            right += 1\n",
    "    if left <= mid:\n",
    "        temp_arr.extend(arr[left:mid+1])\n",
    "    elif right <= high:\n",
    "        temp_arr.extend(arr[right:high+1])\n",
    "    arr[low:high+1] = temp_arr[:]\n",
    "    return arr\n",
    "        \n",
    "            \n",
    "            \n",
    "\n",
    "\n",
    "def merge_sort(low,high,arr):\n",
    "    if low >= high:\n",
    "        return\n",
    "    mid = (low+high)//2\n",
    "    merge_sort(low,mid,arr)\n",
    "    merge_sort(mid+1,high,arr)\n",
    "    return merge_sorted_arr(low,mid,high,arr)\n",
    "\n",
    "arr = [4,1,3,2,5,3]\n",
    "merge_sort(0,5,arr)"
   ]
  },
  {
   "cell_type": "markdown",
   "id": "83faf6e5",
   "metadata": {},
   "source": [
    "# Implement Quick Sort"
   ]
  },
  {
   "cell_type": "code",
   "execution_count": 54,
   "id": "92fc8215",
   "metadata": {},
   "outputs": [
    {
     "name": "stdout",
     "output_type": "stream",
     "text": [
      "[1, 1, 3, 3, 4, 4, 7, 8]\n"
     ]
    }
   ],
   "source": [
    "def sort_and_position(low,high,arr,pivot):\n",
    "    i = low\n",
    "    j = high\n",
    "    while i < j:\n",
    "        while (pivot >= arr[i]) and (i <= high-1):\n",
    "            i +=1\n",
    "        while (pivot < arr[j]) and (j >= low + 1):\n",
    "            j -= 1\n",
    "        if i < j:\n",
    "            arr[i],arr[j] = arr[j],arr[i]\n",
    "    arr[j],arr[low] = arr[low], arr[j]\n",
    "    return j\n",
    "            \n",
    "\n",
    "def quicksort(low,high,arr):\n",
    "    if low <high:\n",
    "        pivot = arr[low]\n",
    "        sorted_idx = sort_and_position(low,high,arr,pivot)\n",
    "        quicksort(low,sorted_idx-1,arr)\n",
    "        quicksort(sorted_idx+1,high,arr)\n",
    "\n",
    "arr = [3,1,4,1,7,8,4,3]\n",
    "quicksort(0,7,arr)\n",
    "print(arr)    \n",
    "    "
   ]
  },
  {
   "cell_type": "markdown",
   "id": "6c5c1092",
   "metadata": {},
   "source": [
    "# Given n pairs of parentheses, write a function to generate all combinations of well-formed parentheses. <br>\n",
    "Input: n = 3 <br>\n",
    "Output: [\"((()))\",\"(()())\",\"(())()\",\"()(())\",\"()()()\"]"
   ]
  },
  {
   "cell_type": "code",
   "execution_count": 55,
   "id": "74951275",
   "metadata": {},
   "outputs": [
    {
     "data": {
      "text/plain": [
       "['((()))', '(()())', '(())()', '()(())', '()()()']"
      ]
     },
     "execution_count": 55,
     "metadata": {},
     "output_type": "execute_result"
    }
   ],
   "source": [
    "def get_parantheses(o,c,p_list,ss):\n",
    "        if o == 0:\n",
    "            if c != 0:\n",
    "                ss += ')'*c\n",
    "            p_list.append(ss)\n",
    "            return\n",
    "        ss += '('\n",
    "        o -= 1\n",
    "        get_parantheses(o,c,p_list,ss)\n",
    "        o += 1\n",
    "        ss = ss[:-1]\n",
    "        if c > o:\n",
    "            ss += ')'\n",
    "            c -= 1\n",
    "            get_parantheses(o,c,p_list,ss)\n",
    "        return p_list\n",
    "\n",
    "n = 3\n",
    "get_parantheses(3,3,[],\"\")"
   ]
  },
  {
   "cell_type": "markdown",
   "id": "384ce439",
   "metadata": {},
   "source": [
    "# Binary strings with no consecutive 1s."
   ]
  },
  {
   "cell_type": "code",
   "execution_count": 60,
   "id": "9f4290f3",
   "metadata": {},
   "outputs": [
    {
     "data": {
      "text/plain": [
       "['1010', '1001', '1000', '0101', '0100', '0010', '0001', '0000']"
      ]
     },
     "execution_count": 60,
     "metadata": {},
     "output_type": "execute_result"
    }
   ],
   "source": [
    "n = 4\n",
    "def generate_binary(idx,ss,b_list):\n",
    "    if idx >= n:\n",
    "        b_list.append(ss)\n",
    "        return\n",
    "    if len(ss) == 0 or (len(ss) >0 and ss[-1] != '1'):\n",
    "        ss += '1'\n",
    "        generate_binary(idx+1,ss,b_list)\n",
    "        ss = ss[:-1]\n",
    "    ss += '0'\n",
    "    generate_binary(idx+1,ss,b_list)\n",
    "    return b_list\n",
    "\n",
    "\n",
    "generate_binary(0,\"\",[])    \n",
    "        \n",
    "        "
   ]
  },
  {
   "cell_type": "markdown",
   "id": "6728dc9f",
   "metadata": {},
   "source": [
    "# Combibnation Sum - 1\n",
    "\n",
    "Get all the combinations (with repeatation)"
   ]
  },
  {
   "cell_type": "code",
   "execution_count": 61,
   "id": "7e78d2e1",
   "metadata": {},
   "outputs": [
    {
     "data": {
      "text/plain": [
       "[[2, 2, 3], [7]]"
      ]
     },
     "execution_count": 61,
     "metadata": {},
     "output_type": "execute_result"
    }
   ],
   "source": [
    "def get_combination_list(arr,target,index,c_list,ds):\n",
    "        if index == len(arr):\n",
    "            if target == 0:\n",
    "                c_list.append(ds.copy())\n",
    "            return \n",
    "        if arr[index] <= target:\n",
    "            ds.append(arr[index])\n",
    "            get_combination_list(arr,target-arr[index],index,c_list,ds)\n",
    "            ds.pop()\n",
    "        get_combination_list(arr,target,index+1,c_list,ds)\n",
    "        return c_list\n",
    "\n",
    "arr = [2,3,6,7]\n",
    "target = 7\n",
    "get_combination_list(arr,target,0,[],[])"
   ]
  },
  {
   "cell_type": "markdown",
   "id": "0f35e0cc",
   "metadata": {},
   "source": [
    "# Combination - Sum- 2\n",
    "Find all combinations by once one element only once"
   ]
  },
  {
   "cell_type": "code",
   "execution_count": 62,
   "id": "89b3a274",
   "metadata": {},
   "outputs": [
    {
     "data": {
      "text/plain": [
       "[[1, 1, 6], [1, 2, 5], [1, 7], [2, 6]]"
      ]
     },
     "execution_count": 62,
     "metadata": {},
     "output_type": "execute_result"
    }
   ],
   "source": [
    "def get_comb_ans(arr,target,index,ans,ds):\n",
    "        if target == 0:\n",
    "            ans.append(ds.copy())\n",
    "            return\n",
    "        curr_idx = index\n",
    "        for i in range(curr_idx, len(arr)):\n",
    "            if i > curr_idx and arr[i] == arr[i-1]:\n",
    "                continue\n",
    "            if arr[i] > target:\n",
    "                    break\n",
    "           \n",
    "            ds.append(arr[i])\n",
    "            get_comb_ans(arr,target-arr[i],i+1,ans,ds)\n",
    "            ds.pop()\n",
    "        return ans\n",
    "\n",
    "arr = [10,1,2,7,6,1,5]\n",
    "target = 8\n",
    "arr.sort()\n",
    "\n",
    "get_comb_ans(arr,target,0,[],[])"
   ]
  },
  {
   "cell_type": "markdown",
   "id": "71ae6926",
   "metadata": {},
   "source": [
    "# Subset Sum - 1\n",
    "Find all the subset sums in a given array"
   ]
  },
  {
   "cell_type": "code",
   "execution_count": 71,
   "id": "a186c212",
   "metadata": {},
   "outputs": [
    {
     "data": {
      "text/plain": [
       "[0, 1, 3, 4, 4, 5, 7, 8]"
      ]
     },
     "execution_count": 71,
     "metadata": {},
     "output_type": "execute_result"
    }
   ],
   "source": [
    "def find_subset_sum1(arr,index,curr_sum,ans):\n",
    "    if index == len(arr):\n",
    "        ans.append(curr_sum)\n",
    "        return \n",
    "    \n",
    "    curr_sum += arr[index]\n",
    "    find_subset_sum1(arr,index+1,curr_sum,ans)\n",
    "    curr_sum -= arr[index]\n",
    "    find_subset_sum1(arr,index+1,curr_sum,ans)\n",
    "    return ans\n",
    "\n",
    "arr = [3,1,4]\n",
    "ans = find_subset_sum1(arr,0,0,[])\n",
    "ans.sort()\n",
    "ans  "
   ]
  },
  {
   "cell_type": "markdown",
   "id": "3d119cb6",
   "metadata": {},
   "source": [
    "# Subset Sum - 2"
   ]
  },
  {
   "cell_type": "code",
   "execution_count": 72,
   "id": "88d8d72a",
   "metadata": {},
   "outputs": [
    {
     "ename": "TypeError",
     "evalue": "'str' object does not support item assignment",
     "output_type": "error",
     "traceback": [
      "\u001b[1;31m---------------------------------------------------------------------------\u001b[0m",
      "\u001b[1;31mTypeError\u001b[0m                                 Traceback (most recent call last)",
      "Cell \u001b[1;32mIn[72], line 2\u001b[0m\n\u001b[0;32m      1\u001b[0m s \u001b[38;5;241m=\u001b[39m \u001b[38;5;124m\"\u001b[39m\u001b[38;5;124m....\u001b[39m\u001b[38;5;124m\"\u001b[39m\n\u001b[1;32m----> 2\u001b[0m s[\u001b[38;5;241m1\u001b[39m] \u001b[38;5;241m=\u001b[39m \u001b[38;5;124m'\u001b[39m\u001b[38;5;124mQ\u001b[39m\u001b[38;5;124m'\u001b[39m\n",
      "\u001b[1;31mTypeError\u001b[0m: 'str' object does not support item assignment"
     ]
    }
   ],
   "source": [
    "s = \"....\"\n",
    "s[1] = 'Q'"
   ]
  },
  {
   "cell_type": "markdown",
   "id": "6d8c6b2d",
   "metadata": {},
   "source": [
    "# N- Queen"
   ]
  },
  {
   "cell_type": "code",
   "execution_count": 74,
   "id": "441751f1",
   "metadata": {},
   "outputs": [
    {
     "name": "stdout",
     "output_type": "stream",
     "text": [
      "[['.Q..', '...Q', 'Q...', '..Q.'], ['..Q.', 'Q...', '...Q', '.Q..']]\n"
     ]
    }
   ],
   "source": [
    "def is_good_pos(ss_list,row,pos):\n",
    "    n = len(ss_list[0])\n",
    "    i = row - 1\n",
    "    while i >= 0:\n",
    "        if ss_list[i][pos] == 'Q':\n",
    "            return False\n",
    "        i -= 1\n",
    "    i = row - 1\n",
    "    j = pos - 1 \n",
    "    while i >= 0 and j >= 0:\n",
    "        if ss_list[i][j] == 'Q':\n",
    "            return False\n",
    "        i -= 1\n",
    "        j -= 1\n",
    "    i,j = row -1 , pos+1\n",
    "    while i >= 0 and j < n:\n",
    "        if ss_list[i][j] == 'Q':\n",
    "            return False\n",
    "        i -= 1\n",
    "        j += 1\n",
    "    return True\n",
    "\n",
    "\n",
    "def get_solutions(n,row,ss_list,ans):\n",
    "    if row >= n:\n",
    "        ans.append(ss_list.copy())\n",
    "        return\n",
    "    for i in range(n):\n",
    "        curr_str = \".\"*n\n",
    "        curr_str = curr_str[:i] + 'Q' + curr_str[i+1:]\n",
    "        ss_list.append(curr_str)\n",
    "        if row > 0:\n",
    "            if is_good_pos(ss_list,row,i):\n",
    "                get_solutions(n,row+1,ss_list,ans)\n",
    "        else:\n",
    "            get_solutions(n,row+1,ss_list,ans)\n",
    "\n",
    "        ss_list.pop()\n",
    "    return ans\n",
    "\n",
    "\n",
    "def solveNQueens(n: int):\n",
    "    row = 0\n",
    "    ss_list = []\n",
    "    ans = []\n",
    "    ans = get_solutions(n,row,ss_list,ans)\n",
    "    return ans\n",
    "\n",
    "print(solveNQueens(4))"
   ]
  },
  {
   "cell_type": "markdown",
   "id": "a0c2eeeb",
   "metadata": {},
   "source": [
    "# Palindrome Partitioning"
   ]
  },
  {
   "cell_type": "code",
   "execution_count": 77,
   "id": "0ee50f39",
   "metadata": {},
   "outputs": [
    {
     "data": {
      "text/plain": [
       "[['a', 'a', 'b'], ['aa', 'b']]"
      ]
     },
     "execution_count": 77,
     "metadata": {},
     "output_type": "execute_result"
    }
   ],
   "source": [
    "def ispalindrome(ss):\n",
    "        left,right = 0, len(ss)-1\n",
    "        while left <= right:\n",
    "            if ss[left] != ss[right]:\n",
    "                return False\n",
    "            left += 1\n",
    "            right -= 1\n",
    "        return True\n",
    "\n",
    "def get_solutions(s,ss_list,ans):\n",
    "    if len(s) == 0:\n",
    "        ans.append(ss_list.copy())\n",
    "        return\n",
    "    for i in range(len(s)):\n",
    "        s_copy = s\n",
    "        if ispalindrome(s[:i+1]):\n",
    "            ss_list.append(s[:i+1])\n",
    "            s = s[i+1:]\n",
    "            get_solutions(s,ss_list,ans)\n",
    "            s = s_copy\n",
    "            ss_list.pop()\n",
    "    return ans\n",
    "\n",
    "s = \"aab\"\n",
    "get_solutions(s,[],[])"
   ]
  },
  {
   "cell_type": "code",
   "execution_count": null,
   "id": "87f6704c",
   "metadata": {},
   "outputs": [],
   "source": []
  },
  {
   "cell_type": "code",
   "execution_count": null,
   "id": "e59b6109",
   "metadata": {},
   "outputs": [],
   "source": []
  },
  {
   "cell_type": "code",
   "execution_count": null,
   "id": "48d8e6ee",
   "metadata": {},
   "outputs": [],
   "source": []
  },
  {
   "cell_type": "code",
   "execution_count": null,
   "id": "408a9155",
   "metadata": {},
   "outputs": [],
   "source": []
  },
  {
   "cell_type": "code",
   "execution_count": null,
   "id": "e450aecd",
   "metadata": {},
   "outputs": [],
   "source": []
  },
  {
   "cell_type": "code",
   "execution_count": null,
   "id": "21f0c8fb",
   "metadata": {},
   "outputs": [],
   "source": []
  },
  {
   "cell_type": "code",
   "execution_count": null,
   "id": "5d672b4d",
   "metadata": {},
   "outputs": [],
   "source": []
  }
 ],
 "metadata": {
  "kernelspec": {
   "display_name": "Python 3 (ipykernel)",
   "language": "python",
   "name": "python3"
  },
  "language_info": {
   "codemirror_mode": {
    "name": "ipython",
    "version": 3
   },
   "file_extension": ".py",
   "mimetype": "text/x-python",
   "name": "python",
   "nbconvert_exporter": "python",
   "pygments_lexer": "ipython3",
   "version": "3.10.9"
  }
 },
 "nbformat": 4,
 "nbformat_minor": 5
}
