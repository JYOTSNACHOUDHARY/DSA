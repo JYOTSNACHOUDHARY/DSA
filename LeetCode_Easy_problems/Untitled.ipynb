{
 "cells": [
  {
   "cell_type": "markdown",
   "id": "7521839f",
   "metadata": {},
   "source": [
    "# Minimum Depth of Binary Tree\n",
    "\n",
    "Given a binary tree, find its minimum depth.\n",
    "\n",
    "The minimum depth is the number of nodes along the shortest path from the root node down to the nearest leaf node.\n",
    "\n",
    "Note: A leaf is a node with no children."
   ]
  },
  {
   "cell_type": "code",
   "execution_count": 2,
   "id": "0de04388",
   "metadata": {},
   "outputs": [],
   "source": [
    "def minDepth(root):\n",
    "        if not root:\n",
    "            return 0 #if node not there\n",
    "\n",
    "        if not root.right and not root.left: #leaf node\n",
    "            return 1\n",
    "\n",
    "        left , right = float(\"inf\"), float(\"inf\")\n",
    "        \n",
    "        if root.left:\n",
    "            left = minDepth(root.left)\n",
    "        if root.right:\n",
    "            right = minDepth(root.right)\n",
    "        \n",
    "        return 1 + min(left, right)"
   ]
  },
  {
   "cell_type": "code",
   "execution_count": 7,
   "id": "2da4108f",
   "metadata": {},
   "outputs": [
    {
     "data": {
      "text/plain": [
       "2"
      ]
     },
     "execution_count": 7,
     "metadata": {},
     "output_type": "execute_result"
    }
   ],
   "source": [
    "class Node:\n",
    "    def __init__(self,val):\n",
    "        self.val = val\n",
    "        self.right = None\n",
    "        self.left = None\n",
    "root = Node(1)\n",
    "root.left = Node(2)\n",
    "root.right = Node(3)\n",
    "root.left.left = Node(4)\n",
    "root.left.right = Node(5)\n",
    "#root.right.left = Node(6)\n",
    "#root.right.right = Node(7)\n",
    "min_depth = minDepth(root)\n",
    "min_depth"
   ]
  },
  {
   "cell_type": "markdown",
   "id": "378886d9",
   "metadata": {},
   "source": [
    "# Path Sum\n",
    "Given the root of a binary tree and an integer targetSum, return true if the tree has a root-to-leaf path such that adding up all the values along the path equals targetSum."
   ]
  },
  {
   "cell_type": "code",
   "execution_count": 60,
   "id": "00d9c198",
   "metadata": {},
   "outputs": [],
   "source": [
    "def hasPathSum(root, targetSum) -> bool:\n",
    "    if not root:\n",
    "        return False\n",
    "    if not root.left and not root.right:\n",
    "        if targetSum == root.val:\n",
    "            return True\n",
    "        else:\n",
    "            return False\n",
    "    return hasPathSum(root.left,targetSum-root.val) or hasPathSum(root.right,targetSum-root.val)"
   ]
  },
  {
   "cell_type": "code",
   "execution_count": 61,
   "id": "5e20639a",
   "metadata": {},
   "outputs": [
    {
     "data": {
      "text/plain": [
       "True"
      ]
     },
     "execution_count": 61,
     "metadata": {},
     "output_type": "execute_result"
    }
   ],
   "source": [
    "class Node:\n",
    "    def __init__(self,val):\n",
    "        self.val = val\n",
    "        self.right = None\n",
    "        self.left = None\n",
    "root = Node(1)\n",
    "root.left = Node(2)\n",
    "root.right = Node(3)\n",
    "root.left.left = Node(4)\n",
    "root.left.right = Node(5)\n",
    "#root.right.left = Node(6)\n",
    "#root.right.right = Node(7)\n",
    "min_depth = hasPathSum(root,4)\n",
    "min_depth"
   ]
  },
  {
   "cell_type": "code",
   "execution_count": null,
   "id": "8fe8b594",
   "metadata": {},
   "outputs": [],
   "source": []
  },
  {
   "cell_type": "code",
   "execution_count": null,
   "id": "3d1afa07",
   "metadata": {},
   "outputs": [],
   "source": []
  },
  {
   "cell_type": "code",
   "execution_count": null,
   "id": "b208f844",
   "metadata": {},
   "outputs": [],
   "source": []
  },
  {
   "cell_type": "code",
   "execution_count": null,
   "id": "dd51cef9",
   "metadata": {},
   "outputs": [],
   "source": []
  },
  {
   "cell_type": "code",
   "execution_count": null,
   "id": "813f92b4",
   "metadata": {},
   "outputs": [],
   "source": []
  },
  {
   "cell_type": "code",
   "execution_count": null,
   "id": "cda5756c",
   "metadata": {},
   "outputs": [],
   "source": []
  },
  {
   "cell_type": "code",
   "execution_count": null,
   "id": "33c4823f",
   "metadata": {},
   "outputs": [],
   "source": []
  },
  {
   "cell_type": "code",
   "execution_count": null,
   "id": "d680942e",
   "metadata": {},
   "outputs": [],
   "source": []
  }
 ],
 "metadata": {
  "kernelspec": {
   "display_name": "Python 3 (ipykernel)",
   "language": "python",
   "name": "python3"
  },
  "language_info": {
   "codemirror_mode": {
    "name": "ipython",
    "version": 3
   },
   "file_extension": ".py",
   "mimetype": "text/x-python",
   "name": "python",
   "nbconvert_exporter": "python",
   "pygments_lexer": "ipython3",
   "version": "3.10.9"
  }
 },
 "nbformat": 4,
 "nbformat_minor": 5
}
