{
 "cells": [
  {
   "cell_type": "markdown",
   "id": "0da6ecac",
   "metadata": {},
   "source": [
    "### Construct the linked list from arr and return the head of the linked list."
   ]
  },
  {
   "cell_type": "code",
   "execution_count": 3,
   "id": "7b6cea5e",
   "metadata": {},
   "outputs": [
    {
     "name": "stdout",
     "output_type": "stream",
     "text": [
      "1->2->3->4->5\n"
     ]
    }
   ],
   "source": [
    "# Node Class\n",
    "class Node:\n",
    "    def __init__(self, data):   # data -> value stored in node\n",
    "        self.data = data\n",
    "        self.next = None\n",
    "\n",
    "def printLL(head):\n",
    "    curr = head\n",
    "    while curr.next:\n",
    "        print(curr.data,end=\"->\")\n",
    "        curr = curr.next\n",
    "    print(curr.data)\n",
    "\n",
    "\n",
    "def constructLL(arr):\n",
    "    ll = Node(arr[0])\n",
    "    head = ll\n",
    "    if len(arr) == 1:\n",
    "        return head\n",
    "\n",
    "    for i in range(1,len(arr)):\n",
    "        ll.next = Node(arr[i])\n",
    "        ll = ll.next\n",
    "    \n",
    "    printLL(head)\n",
    "\n",
    "arr = [1,2,3,4,5]\n",
    "constructLL(arr)\n",
    "    \n"
   ]
  },
  {
   "cell_type": "markdown",
   "id": "9b4b9c25",
   "metadata": {},
   "source": [
    "# Doubly Linked List"
   ]
  },
  {
   "cell_type": "markdown",
   "id": "6b2a68f7",
   "metadata": {},
   "source": [
    "1. Given an integer array arr of size n. Construct the doubly linked list from arr and return the head of it."
   ]
  },
  {
   "cell_type": "code",
   "execution_count": 2,
   "id": "9b7a5491",
   "metadata": {},
   "outputs": [
    {
     "data": {
      "text/plain": [
       "1"
      ]
     },
     "execution_count": 2,
     "metadata": {},
     "output_type": "execute_result"
    }
   ],
   "source": [
    "# Node Class\n",
    "class Node:\n",
    "    def __init__(self, data):   # data -> value stored in node\n",
    "        self.data = data\n",
    "        self.next = None\n",
    "        self.prev = None\n",
    "\n",
    "\n",
    "def constructDLL(arr):\n",
    "    head = Node(arr[0])\n",
    "    curr = head\n",
    "    if len(arr) == 1:\n",
    "        return head\n",
    "    for i in range(1, len(arr)):\n",
    "        new_node = Node(arr[i])\n",
    "        curr.next = new_node\n",
    "        new_node.prev = curr\n",
    "        curr = new_node\n",
    "\n",
    "    return head\n",
    "\n",
    "\n",
    "arr = [1,2,3,4,5]\n",
    "constructDLL(arr).data\n"
   ]
  },
  {
   "cell_type": "markdown",
   "id": "2f9e6d1a",
   "metadata": {},
   "source": [
    "**2 Insert an element after a node with index p**"
   ]
  },
  {
   "cell_type": "code",
   "execution_count": 5,
   "id": "f8c2ac4c",
   "metadata": {},
   "outputs": [
    {
     "name": "stdout",
     "output_type": "stream",
     "text": [
      "DLL: 1 -> <-2 -> <-3 -> <-9 -> <-4 -> <-5\n",
      "Reversed DLL: 5 -> <-4 -> <-9 -> <-3 -> <-2 -> <-1\n"
     ]
    }
   ],
   "source": [
    "\n",
    "class Node:\n",
    "    def __init__(self, data):\n",
    "        self.data = data\n",
    "        self.next = None\n",
    "        self.prev = None\n",
    "\n",
    "\n",
    "#Function to insert a new node at given position in doubly linked list.\n",
    "def addNode(head, p, data):\n",
    "    curr =  head\n",
    "    #traverse to find p\n",
    "    x = 0\n",
    "    while curr:\n",
    "        if x == p:\n",
    "            p_node = curr\n",
    "            break\n",
    "        x += 1\n",
    "        prev = curr\n",
    "        curr = curr.next\n",
    "        \n",
    "    new_node = Node(data)\n",
    "    if x == p and not curr:\n",
    "        prev.next = new_node\n",
    "        new_node.prev = prev\n",
    "        \n",
    "    elif p_node.next is None:\n",
    "        p_node.next = new_node\n",
    "        new_node.prev = p_node\n",
    "    else:\n",
    "        new_node.prev, new_node.next = p_node,p_node.next\n",
    "        p_node.next.prev, p_node.next = new_node, new_node\n",
    "    return head\n",
    "\n",
    "def reverse_DLL(head):\n",
    "    curr = head\n",
    "    while curr.next is not None:\n",
    "        next_ele = curr.next\n",
    "        curr.prev,curr.next = curr.next, curr.prev\n",
    "        curr = next_ele\n",
    "    \n",
    "    if curr:\n",
    "        curr.prev,curr.next = curr.next, curr.prev\n",
    "        head = curr\n",
    "    return head\n",
    "\n",
    "\n",
    "def print_LL(title, head):\n",
    "    curr = head\n",
    "    print(title, end=\": \")\n",
    "    while curr.next:\n",
    "        print(curr.data,end=\" -> <-\")\n",
    "        curr = curr.next\n",
    "    print(curr.data)\n",
    "\n",
    "\n",
    "head = Node(1)\n",
    "head = addNode(head,1,2)\n",
    "head = addNode(head,2,3)\n",
    "head = addNode(head,3,4)\n",
    "head = addNode(head,4,5)\n",
    "head = addNode(head,2,9)\n",
    "print_LL(\"DLL\",head)\n",
    "head = reverse_DLL(head)\n",
    "print_LL(\"Reversed DLL\", head)\n",
    "\n",
    "\n",
    "        "
   ]
  },
  {
   "cell_type": "markdown",
   "id": "ad235507",
   "metadata": {},
   "source": [
    "# Problems on SLL"
   ]
  },
  {
   "cell_type": "code",
   "execution_count": 2,
   "id": "9b986acd",
   "metadata": {},
   "outputs": [
    {
     "name": "stdout",
     "output_type": "stream",
     "text": [
      "LL: 1->2->3->4->5\n",
      "middle_node: 3->4->5\n",
      "Reversed List: 5->4->3->2->1\n",
      "Original LL: 1->2->3->4->5\n"
     ]
    }
   ],
   "source": [
    "class Node:\n",
    "    def __init__(self, data):   # data -> value stored in node\n",
    "        self.data = data\n",
    "        self.next = None\n",
    "\n",
    "def printLL(message,head):\n",
    "    curr = head\n",
    "    print(message,end = \": \")\n",
    "    while curr.next:\n",
    "        print(curr.data,end=\"->\")\n",
    "        curr = curr.next\n",
    "    print(curr.data)\n",
    "\n",
    "\n",
    "def constructLL(arr):\n",
    "    ll = Node(arr[0])\n",
    "    head = ll\n",
    "    if len(arr) == 1:\n",
    "        return head\n",
    "\n",
    "    for i in range(1,len(arr)):\n",
    "        ll.next = Node(arr[i])\n",
    "        ll = ll.next\n",
    "    \n",
    "    printLL(\"LL\", head)\n",
    "    return head\n",
    "\n",
    "#reverse Linked List\n",
    "def reverseList(head):\n",
    "        curr = head\n",
    "        prev = None\n",
    "        while curr:\n",
    "            temp = curr.next\n",
    "            curr.next =  prev\n",
    "            prev = curr\n",
    "            curr = temp\n",
    "        if prev:\n",
    "            head = prev\n",
    "            return head \n",
    "\n",
    "#recursive LL\n",
    "def reverseLL(curr,prev):\n",
    "        if curr is None:\n",
    "            return prev\n",
    "            \n",
    "        temp = curr.next\n",
    "        curr.next,prev,curr = prev,curr,temp\n",
    "        return reverseLL(curr,prev)\n",
    "\n",
    "\n",
    "#Find the Middle of the Single LL\n",
    "def middleNode(head):\n",
    "        fast,slow = head, head\n",
    "        while fast.next and fast.next.next:\n",
    "            fast = fast.next.next\n",
    "            slow = slow.next\n",
    "        if fast.next:\n",
    "            return slow.next\n",
    "        else:\n",
    "            return slow\n",
    "        \n",
    "arr = [1,2,3,4,5]\n",
    "head = constructLL(arr)\n",
    "mid = middleNode(head)\n",
    "printLL(\"middle_node\",mid)\n",
    "head = reverseList(head)\n",
    "printLL(\"Reversed List\",head)\n",
    "head = reverseLL(head,None)\n",
    "printLL(\"Original LL\",head)"
   ]
  },
  {
   "cell_type": "markdown",
   "id": "26df28a7",
   "metadata": {},
   "source": [
    "## Detect a loop in LL"
   ]
  },
  {
   "cell_type": "code",
   "execution_count": 2,
   "id": "32154677",
   "metadata": {},
   "outputs": [],
   "source": [
    "#Modifying LL using visited flag\n",
    "def hasCycle(head) -> bool:\n",
    "        slow = head\n",
    "        while(slow):\n",
    "            if slow.val == None:\n",
    "                # This was already visited\n",
    "                return True\n",
    "            slow.val = None # a way to mark visited\n",
    "            slow = slow.next\n",
    "        return False\n",
    "    \n",
    "#using slow and fast pointer\n",
    "def hasCycle(head) -> bool:\n",
    "        s, f = head,head\n",
    "        while f and f.next: \n",
    "            s = s.next\n",
    "            f = f.next.next\n",
    "            if f == s: return True\n",
    "        return False"
   ]
  },
  {
   "cell_type": "markdown",
   "id": "b9de2b2e",
   "metadata": {},
   "source": [
    "### Remove Duplicates from Sorted LL"
   ]
  },
  {
   "cell_type": "code",
   "execution_count": 5,
   "id": "f9802ad4",
   "metadata": {},
   "outputs": [
    {
     "name": "stdout",
     "output_type": "stream",
     "text": [
      "1->2->3->3->4->5\n",
      "1->2->3->4->5\n"
     ]
    }
   ],
   "source": [
    "# Node Class\n",
    "class Node:\n",
    "    def __init__(self, data):   # data -> value stored in node\n",
    "        self.data = data\n",
    "        self.next = None\n",
    "\n",
    "def printLL(head):\n",
    "    curr = head\n",
    "    while curr.next:\n",
    "        print(curr.data,end=\"->\")\n",
    "        curr = curr.next\n",
    "    print(curr.data)\n",
    "\n",
    "\n",
    "def constructLL(arr):\n",
    "    ll = Node(arr[0])\n",
    "    head = ll\n",
    "    if len(arr) == 1:\n",
    "        return head\n",
    "\n",
    "    for i in range(1,len(arr)):\n",
    "        ll.next = Node(arr[i])\n",
    "        ll = ll.next\n",
    "    \n",
    "    printLL(head)\n",
    "    return head\n",
    "\n",
    "\n",
    "def deleteDuplicates(head):\n",
    "        \"\"\"\n",
    "        :type head: ListNode\n",
    "        :rtype: ListNode\n",
    "        \"\"\"\n",
    "        prev = head\n",
    "        if head:\n",
    "            curr = head.next\n",
    "        else:\n",
    "            return head\n",
    "        while curr and curr.next:\n",
    "            while curr and curr.data == prev.data:\n",
    "                prev.next = curr.next\n",
    "                curr = curr.next\n",
    "            if curr:\n",
    "                prev = curr\n",
    "                curr = curr.next\n",
    "            else:\n",
    "                return head\n",
    "\n",
    "        if curr and prev.data == curr.data:\n",
    "            prev.next = None\n",
    "            del curr\n",
    "        return head\n",
    "\n",
    "arr = [1,2,3,3,4,5]\n",
    "head = constructLL(arr)\n",
    "deleteDuplicates(head)\n",
    "printLL(head)\n"
   ]
  },
  {
   "cell_type": "code",
   "execution_count": null,
   "id": "24731ff8",
   "metadata": {},
   "outputs": [],
   "source": []
  }
 ],
 "metadata": {
  "kernelspec": {
   "display_name": "Python 3 (ipykernel)",
   "language": "python",
   "name": "python3"
  },
  "language_info": {
   "codemirror_mode": {
    "name": "ipython",
    "version": 3
   },
   "file_extension": ".py",
   "mimetype": "text/x-python",
   "name": "python",
   "nbconvert_exporter": "python",
   "pygments_lexer": "ipython3",
   "version": "3.11.3"
  }
 },
 "nbformat": 4,
 "nbformat_minor": 5
}
