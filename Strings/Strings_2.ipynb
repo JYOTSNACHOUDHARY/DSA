{
 "cells": [
  {
   "cell_type": "markdown",
   "id": "5c6f409f",
   "metadata": {},
   "source": [
    "# Reverse a Sentence"
   ]
  },
  {
   "cell_type": "code",
   "execution_count": 2,
   "id": "c473f9a9",
   "metadata": {},
   "outputs": [
    {
     "name": "stdout",
     "output_type": "stream",
     "text": [
      "I am learning DSA\n"
     ]
    }
   ],
   "source": [
    "def reverseWords(s) -> str:\n",
    "\n",
    "        list_of_words = []\n",
    "        word =\"\"\n",
    "        i =0 \n",
    "        while i < len(s):\n",
    "            if s[i].isalnum():\n",
    "                word += s[i]\n",
    "                j = i+1\n",
    "                while(j < len(s) and s[j].isalnum()):\n",
    "                    word += s[j]\n",
    "                    j += 1 \n",
    "                \n",
    "                \n",
    "                list_of_words.append(word)\n",
    "                word = \"\"\n",
    "                i = j - 1\n",
    "            i += 1\n",
    "        \n",
    "        list_of_words = list_of_words[::-1]\n",
    "        new_str = \" \".join(list_of_words)\n",
    "\n",
    "        return new_str\n",
    "\n",
    "input_str = \"  DSA learning am I\"\n",
    "print(reverseWords(input_str))"
   ]
  },
  {
   "cell_type": "markdown",
   "id": "a71df2fd",
   "metadata": {},
   "source": [
    "# Get Largest odd substring\n",
    "\n",
    "## Approach:\n",
    "    we check from right and the first odd digit would make the entire string to the left an odd no, so we return that substring"
   ]
  },
  {
   "cell_type": "code",
   "execution_count": 3,
   "id": "de0b8e81",
   "metadata": {},
   "outputs": [],
   "source": [
    " def largestOddNumber(self, num: str) -> str:\n",
    "        \n",
    "        for i in range(len(num)-1,-1,-1):\n",
    "            if int(num[i]) % 2 == 1:\n",
    "                return num[:i+1]\n",
    "        \n",
    "        return \"\"\n",
    "\n",
    "num = \"12345678\"\n",
    "print(largestOddNumber(num))"
   ]
  },
  {
   "cell_type": "markdown",
   "id": "ff1144f0",
   "metadata": {},
   "source": [
    "# Largest Common Prefix"
   ]
  },
  {
   "cell_type": "code",
   "execution_count": 5,
   "id": "d40fd869",
   "metadata": {},
   "outputs": [
    {
     "name": "stdout",
     "output_type": "stream",
     "text": [
      "fl\n"
     ]
    }
   ],
   "source": [
    "def longestCommonPrefix(strs) -> str:\n",
    "        prefix_set_list = []\n",
    "        for i in range(len(strs)):\n",
    "            prefix_set = set()\n",
    "            for j in range(len(strs[i])):\n",
    "                prefix_set.add(strs[i][:j+1])\n",
    "            \n",
    "            prefix_set_list.append(prefix_set)\n",
    "        \n",
    "        ## intersection of all sets\n",
    "        curr_set = prefix_set_list[0]\n",
    "        for i in range(1,len(prefix_set_list)):\n",
    "            common_prefix = curr_set.intersection(prefix_set_list[i])\n",
    "            curr_set = common_prefix\n",
    "        \n",
    "        common_pref_list = list(curr_set)\n",
    "\n",
    "        largest_prefix = \"\"\n",
    "        if len(common_pref_list) > 0:\n",
    "            max_len = float(\"-inf\")\n",
    "            \n",
    "            for i in range(len(common_pref_list)):\n",
    "                if len(common_pref_list[i]) > max_len:\n",
    "                    max_len = len(common_pref_list[i])\n",
    "                    largest_prefix = common_pref_list[i]\n",
    "        \n",
    "        return largest_prefix\n",
    "    \n",
    "str_lst = [\"flower\",\"flow\",\"flea\"]\n",
    "print(longestCommonPrefix(str_lst))"
   ]
  },
  {
   "cell_type": "code",
   "execution_count": 9,
   "id": "50d06c04",
   "metadata": {},
   "outputs": [],
   "source": [
    "# Another approach found on LC\n",
    "\n",
    "def longestCommonPrefix(strs) -> str:\n",
    "        res = \"\"\n",
    "        for a in zip(*strs):\n",
    "            if len(set(a)) == 1: \n",
    "                res += a[0]\n",
    "            else: \n",
    "                return res\n",
    "        return res"
   ]
  },
  {
   "cell_type": "markdown",
   "id": "2a5e15a5",
   "metadata": {},
   "source": [
    "# Isomorphic Strings\n",
    "\n",
    "Approach: create a mapping of characters to integer.\n",
    "          if we have similar list then they are isomorphic\n",
    "            "
   ]
  },
  {
   "cell_type": "code",
   "execution_count": 11,
   "id": "3e19049a",
   "metadata": {},
   "outputs": [
    {
     "name": "stdout",
     "output_type": "stream",
     "text": [
      "True\n"
     ]
    }
   ],
   "source": [
    "def get_num_mapping(s):\n",
    "        char_tracker = {}\n",
    "        str_1_num_repr = []\n",
    "        char_count = 1\n",
    "        for i in range(len(s)):\n",
    "            if s[i] in char_tracker.keys():\n",
    "                str_1_num_repr.append(char_tracker[s[i]])\n",
    "            else:\n",
    "                str_1_num_repr.append(char_count)\n",
    "                char_tracker[s[i]] = char_count\n",
    "                char_count += 1\n",
    "        return str_1_num_repr\n",
    "\n",
    "def isIsomorphic(s, t):\n",
    "    num_map_1 = get_num_mapping(s)\n",
    "    num_map_2 = get_num_mapping(t)\n",
    "    is_isomorphic = False \n",
    "    for i,j in zip(num_map_1,num_map_2):\n",
    "        if i == j:\n",
    "            is_isomorphic = True\n",
    "\n",
    "        else:\n",
    "            is_isomorphic = False\n",
    "            return is_isomorphic\n",
    "\n",
    "    return is_isomorphic\n",
    "\n",
    "\n",
    "s = \"add\"\n",
    "t = \"ass\"\n",
    "\n",
    "print(isIsomorphic(s,t))"
   ]
  },
  {
   "cell_type": "code",
   "execution_count": 12,
   "id": "1a5b09c1",
   "metadata": {},
   "outputs": [],
   "source": [
    "# Another Approach\n",
    "\n",
    "def isIsomorphic(s: str, t: str) -> bool:\n",
    "        if len(s) != len(t):\n",
    "            return False\n",
    "    \n",
    "        s_to_t = {}\n",
    "        t_to_s = {}\n",
    "    \n",
    "        for i in range(len(s)):\n",
    "            if s[i] in s_to_t:\n",
    "                if s_to_t[s[i]] != t[i]:\n",
    "                    return False\n",
    "            else:\n",
    "                if t[i] in t_to_s:\n",
    "                    return False\n",
    "                s_to_t[s[i]] = t[i]\n",
    "                t_to_s[t[i]] = s[i]\n",
    "    \n",
    "        return True"
   ]
  },
  {
   "cell_type": "code",
   "execution_count": 13,
   "id": "4b484e3e",
   "metadata": {},
   "outputs": [
    {
     "name": "stdout",
     "output_type": "stream",
     "text": [
      "True\n"
     ]
    }
   ],
   "source": [
    "if \"\" in \"jyot\":\n",
    "    print(True)"
   ]
  },
  {
   "cell_type": "markdown",
   "id": "a8b08732",
   "metadata": {},
   "source": [
    "## Given two strings s and goal, return true if and only if s can become goal after some number of shifts on s.\n",
    "\n",
    "A shift on s consists of moving the leftmost character of s to the rightmost position.\n",
    "\n",
    "For example, if s = \"abcde\", then it will be \"bcdea\" after one shift."
   ]
  },
  {
   "cell_type": "code",
   "execution_count": 14,
   "id": "1234d202",
   "metadata": {},
   "outputs": [
    {
     "name": "stdout",
     "output_type": "stream",
     "text": [
      "True\n"
     ]
    }
   ],
   "source": [
    "def rotateString(s: str, goal: str) -> bool:\n",
    "        return len(s) == len(goal) and s in goal+goal \n",
    "\n",
    "print(rotateString(\"abcde\",\"cdeab\"))"
   ]
  },
  {
   "cell_type": "code",
   "execution_count": null,
   "id": "ee777fa4",
   "metadata": {},
   "outputs": [],
   "source": []
  }
 ],
 "metadata": {
  "kernelspec": {
   "display_name": "Python 3 (ipykernel)",
   "language": "python",
   "name": "python3"
  },
  "language_info": {
   "codemirror_mode": {
    "name": "ipython",
    "version": 3
   },
   "file_extension": ".py",
   "mimetype": "text/x-python",
   "name": "python",
   "nbconvert_exporter": "python",
   "pygments_lexer": "ipython3",
   "version": "3.11.3"
  }
 },
 "nbformat": 4,
 "nbformat_minor": 5
}
