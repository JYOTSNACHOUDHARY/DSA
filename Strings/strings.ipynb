{
 "cells": [
  {
   "cell_type": "markdown",
   "id": "aa97a9c5",
   "metadata": {},
   "source": [
    "# Reverse a Sentence"
   ]
  },
  {
   "cell_type": "code",
   "execution_count": 2,
   "id": "c4ad4a4d",
   "metadata": {},
   "outputs": [
    {
     "name": "stdout",
     "output_type": "stream",
     "text": [
      "I am learning DSA\n"
     ]
    }
   ],
   "source": [
    "def reverseWords(s) -> str:\n",
    "\n",
    "        list_of_words = []\n",
    "        word =\"\"\n",
    "        i =0 \n",
    "        while i < len(s):\n",
    "            if s[i].isalnum():\n",
    "                word += s[i]\n",
    "                j = i+1\n",
    "                while(j < len(s) and s[j].isalnum()):\n",
    "                    word += s[j]\n",
    "                    j += 1 \n",
    "                \n",
    "                \n",
    "                list_of_words.append(word)\n",
    "                word = \"\"\n",
    "                i = j - 1\n",
    "            i += 1\n",
    "        \n",
    "        list_of_words = list_of_words[::-1]\n",
    "        new_str = \" \".join(list_of_words)\n",
    "\n",
    "        return new_str\n",
    "\n",
    "input_str = \"  DSA learning am I\"\n",
    "print(reverseWords(input_str))"
   ]
  },
  {
   "cell_type": "markdown",
   "id": "adb32be2",
   "metadata": {},
   "source": [
    "# Get Largest odd substring\n",
    "\n",
    "## Approach:\n",
    "    we check from right and the first odd digit would make the entire string to the left an odd no, so we return that substring"
   ]
  },
  {
   "cell_type": "code",
   "execution_count": 1,
   "id": "8aec1e44",
   "metadata": {},
   "outputs": [
    {
     "ename": "TypeError",
     "evalue": "largestOddNumber() missing 1 required positional argument: 'num'",
     "output_type": "error",
     "traceback": [
      "\u001b[1;31m---------------------------------------------------------------------------\u001b[0m",
      "\u001b[1;31mTypeError\u001b[0m                                 Traceback (most recent call last)",
      "Cell \u001b[1;32mIn[1], line 10\u001b[0m\n\u001b[0;32m      7\u001b[0m        \u001b[38;5;28;01mreturn\u001b[39;00m \u001b[38;5;124m\"\u001b[39m\u001b[38;5;124m\"\u001b[39m\n\u001b[0;32m      9\u001b[0m num \u001b[38;5;241m=\u001b[39m \u001b[38;5;124m\"\u001b[39m\u001b[38;5;124m12345678\u001b[39m\u001b[38;5;124m\"\u001b[39m\n\u001b[1;32m---> 10\u001b[0m \u001b[38;5;28mprint\u001b[39m(\u001b[43mlargestOddNumber\u001b[49m\u001b[43m(\u001b[49m\u001b[43mnum\u001b[49m\u001b[43m)\u001b[49m)\n",
      "\u001b[1;31mTypeError\u001b[0m: largestOddNumber() missing 1 required positional argument: 'num'"
     ]
    }
   ],
   "source": [
    " def largestOddNumber(self, num: str) -> str:\n",
    "        \n",
    "        for i in range(len(num)-1,-1,-1):\n",
    "            if int(num[i]) % 2 == 1:\n",
    "                return num[:i+1]\n",
    "        \n",
    "        return \"\"\n",
    "\n",
    "num = \"12345678\"\n",
    "print(largestOddNumber(num))"
   ]
  },
  {
   "cell_type": "markdown",
   "id": "bdc745d7",
   "metadata": {},
   "source": [
    "# Largest Common Prefix"
   ]
  },
  {
   "cell_type": "code",
   "execution_count": 5,
   "id": "d5f4ba69",
   "metadata": {},
   "outputs": [
    {
     "name": "stdout",
     "output_type": "stream",
     "text": [
      "fl\n"
     ]
    }
   ],
   "source": [
    "def longestCommonPrefix(strs) -> str:\n",
    "        prefix_set_list = []\n",
    "        for i in range(len(strs)):\n",
    "            prefix_set = set()\n",
    "            for j in range(len(strs[i])):\n",
    "                prefix_set.add(strs[i][:j+1])\n",
    "            \n",
    "            prefix_set_list.append(prefix_set)\n",
    "        \n",
    "        ## intersection of all sets\n",
    "        curr_set = prefix_set_list[0]\n",
    "        for i in range(1,len(prefix_set_list)):\n",
    "            common_prefix = curr_set.intersection(prefix_set_list[i])\n",
    "            curr_set = common_prefix\n",
    "        \n",
    "        common_pref_list = list(curr_set)\n",
    "\n",
    "        largest_prefix = \"\"\n",
    "        if len(common_pref_list) > 0:\n",
    "            max_len = float(\"-inf\")\n",
    "            \n",
    "            for i in range(len(common_pref_list)):\n",
    "                if len(common_pref_list[i]) > max_len:\n",
    "                    max_len = len(common_pref_list[i])\n",
    "                    largest_prefix = common_pref_list[i]\n",
    "        \n",
    "        return largest_prefix\n",
    "    \n",
    "str_lst = [\"flower\",\"flow\",\"flea\"]\n",
    "print(longestCommonPrefix(str_lst))"
   ]
  },
  {
   "cell_type": "code",
   "execution_count": 9,
   "id": "46a8b64e",
   "metadata": {},
   "outputs": [],
   "source": [
    "# Another approach found on LC\n",
    "\n",
    "def longestCommonPrefix(strs) -> str:\n",
    "        res = \"\"\n",
    "        for a in zip(*strs):\n",
    "            if len(set(a)) == 1: \n",
    "                res += a[0]\n",
    "            else: \n",
    "                return res\n",
    "        return res"
   ]
  },
  {
   "cell_type": "markdown",
   "id": "feced08c",
   "metadata": {},
   "source": [
    "# Isomorphic Strings\n",
    "\n",
    "Approach: create a mapping of characters to integer.\n",
    "          if we have similar list then they are isomorphic\n",
    "            "
   ]
  },
  {
   "cell_type": "code",
   "execution_count": 11,
   "id": "fc9b60c3",
   "metadata": {},
   "outputs": [
    {
     "name": "stdout",
     "output_type": "stream",
     "text": [
      "True\n"
     ]
    }
   ],
   "source": [
    "def get_num_mapping(s):\n",
    "        char_tracker = {}\n",
    "        str_1_num_repr = []\n",
    "        char_count = 1\n",
    "        for i in range(len(s)):\n",
    "            if s[i] in char_tracker.keys():\n",
    "                str_1_num_repr.append(char_tracker[s[i]])\n",
    "            else:\n",
    "                str_1_num_repr.append(char_count)\n",
    "                char_tracker[s[i]] = char_count\n",
    "                char_count += 1\n",
    "        return str_1_num_repr\n",
    "\n",
    "def isIsomorphic(s, t):\n",
    "    num_map_1 = get_num_mapping(s)\n",
    "    num_map_2 = get_num_mapping(t)\n",
    "    is_isomorphic = False \n",
    "    for i,j in zip(num_map_1,num_map_2):\n",
    "        if i == j:\n",
    "            is_isomorphic = True\n",
    "\n",
    "        else:\n",
    "            is_isomorphic = False\n",
    "            return is_isomorphic\n",
    "\n",
    "    return is_isomorphic\n",
    "\n",
    "\n",
    "s = \"add\"\n",
    "t = \"ass\"\n",
    "\n",
    "print(isIsomorphic(s,t))"
   ]
  },
  {
   "cell_type": "code",
   "execution_count": 12,
   "id": "bcc5094e",
   "metadata": {},
   "outputs": [],
   "source": [
    "# Another Approach\n",
    "\n",
    "def isIsomorphic(s: str, t: str) -> bool:\n",
    "        if len(s) != len(t):\n",
    "            return False\n",
    "    \n",
    "        s_to_t = {}\n",
    "        t_to_s = {}\n",
    "    \n",
    "        for i in range(len(s)):\n",
    "            if s[i] in s_to_t:\n",
    "                if s_to_t[s[i]] != t[i]:\n",
    "                    return False\n",
    "            else:\n",
    "                if t[i] in t_to_s:\n",
    "                    return False\n",
    "                s_to_t[s[i]] = t[i]\n",
    "                t_to_s[t[i]] = s[i]\n",
    "    \n",
    "        return True"
   ]
  },
  {
   "cell_type": "code",
   "execution_count": 13,
   "id": "9bc17af0",
   "metadata": {},
   "outputs": [
    {
     "name": "stdout",
     "output_type": "stream",
     "text": [
      "True\n"
     ]
    }
   ],
   "source": [
    "if \"\" in \"jyot\":\n",
    "    print(True)"
   ]
  },
  {
   "cell_type": "markdown",
   "id": "656e0ca1",
   "metadata": {},
   "source": [
    "## Given two strings s and goal, return true if and only if s can become goal after some number of shifts on s.\n",
    "\n",
    "A shift on s consists of moving the leftmost character of s to the rightmost position.\n",
    "\n",
    "For example, if s = \"abcde\", then it will be \"bcdea\" after one shift."
   ]
  },
  {
   "cell_type": "code",
   "execution_count": 14,
   "id": "e919cd15",
   "metadata": {},
   "outputs": [
    {
     "name": "stdout",
     "output_type": "stream",
     "text": [
      "True\n"
     ]
    }
   ],
   "source": [
    "def rotateString(s: str, goal: str) -> bool:\n",
    "        return len(s) == len(goal) and s in goal+goal \n",
    "\n",
    "print(rotateString(\"abcde\",\"cdeab\"))"
   ]
  },
  {
   "cell_type": "markdown",
   "id": "c9fbe8d5",
   "metadata": {},
   "source": [
    "# Anagrams\n",
    "\n",
    "An Anagram is a word or phrase formed by rearranging the letters of a different word or phrase, typically using all the original letters exactly once."
   ]
  },
  {
   "cell_type": "code",
   "execution_count": 21,
   "id": "3ff09544",
   "metadata": {},
   "outputs": [
    {
     "name": "stdout",
     "output_type": "stream",
     "text": [
      "True\n"
     ]
    }
   ],
   "source": [
    "def isAnagram(s: str, t: str) -> bool:\n",
    "        if len(s) != len(t):\n",
    "            return False\n",
    "    \n",
    "\n",
    "        char_tracker = [0]*26\n",
    "\n",
    "        # get count of each character\n",
    "        for i in range(len(s)):\n",
    "            char_tracker[ord(s[i])-ord('a')] += 1\n",
    "        \n",
    "        \n",
    "\n",
    "        for i in range(len(t)):\n",
    "            if char_tracker[ord(t[i])-ord('a')] > 0:\n",
    "                char_tracker[ord(t[i])-ord('a')] -= 1\n",
    "            else:\n",
    "                return False\n",
    "            \n",
    "        return True\n",
    "\n",
    "print(isAnagram(\"anagram\",\"nagaram\"))"
   ]
  },
  {
   "cell_type": "markdown",
   "id": "8781404d",
   "metadata": {},
   "source": [
    "# Remove Outermost Parentheses\n"
   ]
  },
  {
   "cell_type": "code",
   "execution_count": 22,
   "id": "938a8816",
   "metadata": {},
   "outputs": [
    {
     "name": "stdout",
     "output_type": "stream",
     "text": [
      "()()()\n"
     ]
    }
   ],
   "source": [
    "def removeOuterParentheses(s: str) -> str:\n",
    "        pt_check_counter = 0\n",
    "        ans_str = \"\"\n",
    "        curr_str = \"\"\n",
    "        for i in range(len(s)):\n",
    "            if s[i] == \"(\":\n",
    "                pt_check_counter += 1\n",
    "            else:\n",
    "                pt_check_counter -= 1\n",
    "\n",
    "            curr_str += s[i]\n",
    "            if pt_check_counter == 0:\n",
    "                ans_str += curr_str[1:-1]\n",
    "                curr_str = \"\"\n",
    "        b\n",
    "        if pt_check_counter == 0:\n",
    "            return ans_str\n",
    "        else:\n",
    "            return -1\n",
    "        \n",
    "\n",
    "s = \"(()())(())\"\n",
    "print(removeOuterParentheses(s))\n"
   ]
  },
  {
   "cell_type": "markdown",
   "id": "003ccd50",
   "metadata": {},
   "source": [
    "#  Sort Characters By Frequency\n",
    "Approach : 1. create a frequency dictionay\n",
    "           2. sort it reverse and iterate to print result "
   ]
  },
  {
   "cell_type": "code",
   "execution_count": 32,
   "id": "9ef05dd7",
   "metadata": {},
   "outputs": [
    {
     "name": "stdout",
     "output_type": "stream",
     "text": [
      "eetr\n"
     ]
    }
   ],
   "source": [
    "def frequencySort(s: str) -> str:\n",
    "        freq_count_map = {}\n",
    "        \n",
    "        for i in range(len(s)):\n",
    "            if s[i] in freq_count_map.keys():\n",
    "                freq_count_map[s[i]] += 1\n",
    "            else:\n",
    "                freq_count_map[s[i]] = 1\n",
    "        \n",
    "        freq_count_map = dict(sorted(freq_count_map.items(),key=lambda x: x[1],reverse=True))\n",
    "\n",
    "\n",
    "\n",
    "        ans_str = \"\"\n",
    "\n",
    "        for key,value in freq_count_map.items():\n",
    "            ans_str += key*value\n",
    "        \n",
    "        return ans_str\n",
    "\n",
    "print(frequencySort(\"tree\"))\n"
   ]
  },
  {
   "cell_type": "markdown",
   "id": "931f3fc7",
   "metadata": {},
   "source": [
    "# Max Depth\n",
    "\n",
    "Approach: if increase the level for each ( encountered and once we come accross ) , we compare the counter so far with max and decrease the counter by once\n",
    "\n",
    "Inuition: Every consecutive ( (before a \")\" means the depth is increasing by one)"
   ]
  },
  {
   "cell_type": "code",
   "execution_count": 34,
   "id": "aca550c8",
   "metadata": {},
   "outputs": [
    {
     "name": "stdout",
     "output_type": "stream",
     "text": [
      "3\n"
     ]
    }
   ],
   "source": [
    "def maxDepth(s: str) -> int:\n",
    "        max_depth = float(\"-inf\")\n",
    "        pt_counter = 0\n",
    "        for i in range(len(s)):\n",
    "            if s[i] == \"(\":\n",
    "                pt_counter += 1\n",
    "\n",
    "            if s[i] == \")\":\n",
    "                max_depth = max(max_depth,pt_counter)\n",
    "                pt_counter -= 1\n",
    "            \n",
    "        if max_depth < 0:\n",
    "            max_depth = 0\n",
    "        return max_depth\n",
    "\n",
    "print(maxDepth(\"(1+(2*3)+((8)/4))+1\"))"
   ]
  },
  {
   "cell_type": "markdown",
   "id": "cfa1524b",
   "metadata": {},
   "source": [
    "# Roman Numbers"
   ]
  },
  {
   "cell_type": "code",
   "execution_count": 35,
   "id": "3c3eb999",
   "metadata": {},
   "outputs": [],
   "source": [
    "  def romanToInt(s: str) -> int:\n",
    "        symbol_val_map = {\"I\":1,\"V\": 5, \"X\":10, \"L\": 50, \"C\": 100, \"D\": 500, \"M\": 1000 }\n",
    "        num = 0\n",
    "        num += symbol_val_map[s[0]]\n",
    "        for i in range(1, len(s)):\n",
    "            print(s[i-1])\n",
    "            if s[i] in [\"V\",\"X\"] and s[i-1] == \"I\":\n",
    "                num += symbol_val_map[s[i]] - 2\n",
    "            \n",
    "            elif s[i] in [\"L\",\"C\"] and s[i-1] == \"X\":\n",
    "                num += symbol_val_map[s[i]] - 20\n",
    "            \n",
    "            elif s[i] in [\"D\",\"M\"] and s[i-1] == \"C\":\n",
    "                num += symbol_val_map[s[i]] - 200\n",
    "            \n",
    "            else:\n",
    "                num += symbol_val_map[s[i]]\n",
    "\n",
    "            print(num)\n",
    "        return num"
   ]
  },
  {
   "cell_type": "code",
   "execution_count": 41,
   "id": "bfd2b361",
   "metadata": {},
   "outputs": [
    {
     "data": {
      "text/plain": [
       "False"
      ]
     },
     "execution_count": 41,
     "metadata": {},
     "output_type": "execute_result"
    }
   ],
   "source": [
    "\"s\".isdigit()"
   ]
  },
  {
   "cell_type": "markdown",
   "id": "952b0438",
   "metadata": {},
   "source": [
    "### Given a string of lowercase alphabets, count all possible substrings (not necessarily distinct) that have exactly k distinct characters. "
   ]
  },
  {
   "cell_type": "markdown",
   "id": "64d81bd6",
   "metadata": {},
   "source": [
    "Input:\n",
    "S = \"aba\", K = 2\n",
    "Output:\n",
    "3\n",
    "Explanation:\n",
    "The substrings are:\n",
    "\"ab\", \"ba\" and \"aba\"."
   ]
  },
  {
   "cell_type": "code",
   "execution_count": null,
   "id": "afd1efa2",
   "metadata": {},
   "outputs": [],
   "source": []
  },
  {
   "cell_type": "code",
   "execution_count": null,
   "id": "7dbca5ed",
   "metadata": {},
   "outputs": [],
   "source": [
    "Longest Palindromic Substring\n",
    "\n",
    "At any point i, all possible substrings will be (i:i),(i-1:i+1),(i-2:i+2).... and (i:i+1), (i-1:i+2),(i-2:i+3)...etc\n",
    "both brackets are inclusive"
   ]
  },
  {
   "cell_type": "code",
   "execution_count": 2,
   "id": "763029ff",
   "metadata": {},
   "outputs": [
    {
     "name": "stdout",
     "output_type": "stream",
     "text": [
      "aba\n"
     ]
    }
   ],
   "source": [
    " def longestPalindrome(s):\n",
    "        l, n1, n2 = len(s), 0, 1   #n1,n2 = start and end ptr of answer\n",
    "        \n",
    "        for i in range(l):\n",
    "            for a, b in (i, i), (i, i+1):\n",
    "                while 0 <= a and b < l and s[a] == s[b]: \n",
    "                    a, b = a-1, b+1\n",
    "                if b-a > n2-n1: \n",
    "                    n1, n2 = a+1, b\n",
    "        \n",
    "        return s[n1:n2]\n",
    "\n",
    "print(longestPalindrome(\"babad\"))"
   ]
  },
  {
   "cell_type": "markdown",
   "id": "85d55af5",
   "metadata": {},
   "source": [
    "### Sum of Beauty of All Substrings\n",
    "The beauty of a string is the difference in frequencies between the most frequent and least frequent characters.\n",
    "\n",
    "For example, the beauty of \"abaacc\" is 3 - 1 = 2.\n",
    "Given a string s, return the sum of beauty of all of its substrings.\n",
    "\n",
    " "
   ]
  },
  {
   "cell_type": "code",
   "execution_count": 4,
   "id": "606b1886",
   "metadata": {},
   "outputs": [
    {
     "name": "stdout",
     "output_type": "stream",
     "text": [
      "12\n"
     ]
    }
   ],
   "source": [
    " def beautySum(s: str) -> int:\n",
    "        ans = 0\n",
    "        for i in range(len(s)):\n",
    "            freq_table = [0]*26\n",
    "            for j in range(i,len(s)):\n",
    "                freq_table[ord(s[j])-ord('a')] += 1\n",
    "                ans += max(freq_table) - min([f for f in freq_table if f])\n",
    "\n",
    "        return ans\n",
    "\n",
    "print(beautySum(\"abaacc\"))"
   ]
  },
  {
   "cell_type": "code",
   "execution_count": 1,
   "id": "f7f83570",
   "metadata": {},
   "outputs": [],
   "source": [
    "def find_largest_in_m_swaps(n,m):\n",
    "    if len(n) == 1:\n",
    "        return n\n",
    "    elif len(n) < m:\n",
    "        m = len(n)-1\n",
    "    \n",
    "    list_n = list(n)\n",
    "    i = m\n",
    "    j = i-1\n",
    "    count = m\n",
    "    while count > 0:\n",
    "        if int(list_n[i]) > int(list_n[j]):\n",
    "            list_n[i], list_n[j] = list_n[j],list_n[i]\n",
    "        i -= 1\n",
    "        j -= 1\n",
    "        count -= 1\n",
    "    return \"\".join(list_n)"
   ]
  },
  {
   "cell_type": "code",
   "execution_count": 8,
   "id": "24844bfd",
   "metadata": {},
   "outputs": [
    {
     "name": "stdout",
     "output_type": "stream",
     "text": [
      "32114\n"
     ]
    }
   ],
   "source": [
    "print(find_largest_in_m_swaps(\"21134\",3))"
   ]
  },
  {
   "cell_type": "code",
   "execution_count": null,
   "id": "bb7408b4",
   "metadata": {},
   "outputs": [],
   "source": []
  }
 ],
 "metadata": {
  "kernelspec": {
   "display_name": "Python 3 (ipykernel)",
   "language": "python",
   "name": "python3"
  },
  "language_info": {
   "codemirror_mode": {
    "name": "ipython",
    "version": 3
   },
   "file_extension": ".py",
   "mimetype": "text/x-python",
   "name": "python",
   "nbconvert_exporter": "python",
   "pygments_lexer": "ipython3",
   "version": "3.10.9"
  }
 },
 "nbformat": 4,
 "nbformat_minor": 5
}
