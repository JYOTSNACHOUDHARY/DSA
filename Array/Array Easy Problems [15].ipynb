{
 "cells": [
  {
   "cell_type": "markdown",
   "id": "4b480f7b",
   "metadata": {},
   "source": [
    "# Find the Largest element in an array\n"
   ]
  },
  {
   "cell_type": "markdown",
   "id": "c266dad5",
   "metadata": {},
   "source": [
    "1. Sorting - Time Complexity - O(nlogn), Space - O(n)\n",
    "2. Traversing Array once with max var - Time - O(n), Space - O(1)"
   ]
  },
  {
   "cell_type": "markdown",
   "id": "d1426307",
   "metadata": {},
   "source": [
    "# Find Second Smallest and Second Largest Element in an array"
   ]
  },
  {
   "cell_type": "code",
   "execution_count": 18,
   "id": "a2bdf732",
   "metadata": {},
   "outputs": [
    {
     "name": "stdout",
     "output_type": "stream",
     "text": [
      "Second largest is 10\n"
     ]
    }
   ],
   "source": [
    "def print2largest(arr, n):\n",
    "    largest,second_largest = float('-inf'),float('-inf')\n",
    "    for i in range(n):\n",
    "        if arr[i] > largest:\n",
    "            second_largest = largest\n",
    "            largest = arr[i]\n",
    "        elif arr[i] > second_largest and arr[i] != largest:\n",
    "            second_largest = arr[i]\n",
    "\n",
    "\n",
    "    return -1 if second_largest == float('-inf') else second_largest\n",
    "\n",
    "arr = [1,-3,4,6,0,15,9,6,5,10,15,-9,10]\n",
    "\n",
    "print(\"Second largest is\", print2largest(arr, len(arr)))\n",
    "            "
   ]
  },
  {
   "cell_type": "markdown",
   "id": "99aed90e",
   "metadata": {},
   "source": [
    "# Check if an Array is Sorted"
   ]
  },
  {
   "cell_type": "code",
   "execution_count": 21,
   "id": "a45ead13",
   "metadata": {},
   "outputs": [
    {
     "name": "stdout",
     "output_type": "stream",
     "text": [
      "False\n"
     ]
    }
   ],
   "source": [
    "def arraySortedOrNot(arr, n):\n",
    "        if n == 0 or n ==1:\n",
    "            return True\n",
    "        for i in range(1,n):\n",
    "            if arr[i-1] <= arr[i]:\n",
    "                continue\n",
    "            else:\n",
    "                return False\n",
    "        return True\n",
    " \n",
    "\n",
    "arr = [1,2,2,3,4,5,6,1]\n",
    "n = len(arr)\n",
    "print(arraySortedOrNot(arr,n))"
   ]
  },
  {
   "cell_type": "markdown",
   "id": "1605218a",
   "metadata": {},
   "source": [
    "# Remove Duplicates"
   ]
  },
  {
   "cell_type": "code",
   "execution_count": 1,
   "id": "ae09c0e9",
   "metadata": {},
   "outputs": [
    {
     "name": "stdout",
     "output_type": "stream",
     "text": [
      "[1, 2, 3, 4, 5, 6]\n"
     ]
    }
   ],
   "source": [
    "def removeDuplicates(nums):\n",
    "        \"\"\"\n",
    "        :type nums: List[int]\n",
    "        :rtype: int\n",
    "        \"\"\"\n",
    "        dist_ptr = 0\n",
    "        for i in range(1, len(nums)):\n",
    "            if nums[i] != nums[i-1]:\n",
    "                dist_ptr += 1\n",
    "                nums[dist_ptr] = nums[i]\n",
    "        nums = nums[:dist_ptr+1]\n",
    "        return nums\n",
    "   \n",
    "\n",
    "arr = [1,2,2,3,4,5,6]\n",
    "\n",
    "print(removeDuplicates(arr))\n"
   ]
  },
  {
   "cell_type": "markdown",
   "id": "9f59cca6",
   "metadata": {},
   "source": [
    "# Move all Zeroes to End"
   ]
  },
  {
   "cell_type": "code",
   "execution_count": 25,
   "id": "04b60e98",
   "metadata": {},
   "outputs": [
    {
     "name": "stdout",
     "output_type": "stream",
     "text": [
      "[1, 2, 3, 2, -3, 34, 0, 0, 0]\n"
     ]
    }
   ],
   "source": [
    "#Solution 1 - O(N^2)\n",
    "def moveZeroes1(nums):\n",
    "        \"\"\"\n",
    "        :type nums: List[int]\n",
    "        :rtype: None Do not return anything, modify nums in-place instead.\n",
    "        \"\"\"\n",
    "        n = len(nums)\n",
    "        if n == 1:\n",
    "            return nums\n",
    "        for i in range(len(nums)-1):\n",
    "            if nums[i] == 0:\n",
    "                j = i+1\n",
    "                while j<n:\n",
    "                    if j==(n-1) and nums[j] == 0:\n",
    "                        return nums\n",
    "                    if nums[j]!=0:\n",
    "                        temp = nums[j]\n",
    "                        nums[j] = 0\n",
    "                        nums[i] = temp\n",
    "                        break\n",
    "                    j+=1\n",
    "        return nums\n",
    "\n",
    "# Better Solution\n",
    "\n",
    "#***Take two pointers, One will keep mark of last non-zero element, \n",
    "#another will traverse the array and if we encounter a non-zero element, \n",
    "#we swap it with first pointer value and increase the pointer by one\n",
    "\n",
    "def moveZeroes2(nums):\n",
    "        \"\"\"\n",
    "        :type nums: List[int]\n",
    "        :rtype: None Do not return anything, modify nums in-place instead.\n",
    "        \"\"\"\n",
    "        n = len(nums)\n",
    "        if n == 1:\n",
    "            return nums\n",
    "        i = 0\n",
    "        for j in range(len(nums)):\n",
    "            if nums[j] != 0:\n",
    "                temp = nums[i]\n",
    "                nums[i] = nums[j]\n",
    "                nums[j] = temp\n",
    "                i += 1\n",
    "        return nums\n",
    "    \n",
    "arr = [1,2,3,0,2,-3,0,34,0]\n",
    "print(moveZeroes2(arr))"
   ]
  },
  {
   "cell_type": "markdown",
   "id": "4341a57c",
   "metadata": {},
   "source": [
    "# Union of Two Sorted arrays"
   ]
  },
  {
   "cell_type": "code",
   "execution_count": 2,
   "id": "bbddecd5",
   "metadata": {},
   "outputs": [
    {
     "name": "stdout",
     "output_type": "stream",
     "text": [
      "[1, 2, 3, 4, 5, 6, 6]\n"
     ]
    }
   ],
   "source": [
    "def findUnion(a,b,n,m):\n",
    "        '''\n",
    "        :param a: given sorted array a\n",
    "        :param n: size of sorted array a\n",
    "        :param b: given sorted array b\n",
    "        :param m: size of sorted array b\n",
    "        :return:  The union of both arrays as a list\n",
    "        '''\n",
    "        # code here \n",
    "        \n",
    "        if n < m:\n",
    "            x = n\n",
    "        else:\n",
    "            x = m\n",
    "        \n",
    "        i,j = 0,0 \n",
    "        new_arr = []\n",
    "        while i < n and j < m:\n",
    "             \n",
    "            if a[i] < b[j]:\n",
    "                    new_arr.append(a[i])\n",
    "                    i += 1\n",
    "            elif a[i] > b[j]:\n",
    "                new_arr.append(b[j])\n",
    "                j += 1\n",
    "            elif a[i] == b[j]:\n",
    "                    new_arr.append(a[i])\n",
    "                    i += 1\n",
    "                    j += 1\n",
    "                \n",
    "        if n > m:\n",
    "            new_arr.extend(a[i:])\n",
    "        elif m > n:\n",
    "            new_arr.extend(b[j:])\n",
    "        \n",
    "        seen = set()\n",
    "        arr = [x for x in new_arr if not (x in seen or seen.add(x))]\n",
    "           \n",
    "        \n",
    "        return arr\n",
    "\n",
    "arr1 = [1,2,4,5]\n",
    "arr2 = [2,3,4,5]\n",
    "\n",
    "print(findUnion(arr1,arr2,4,4))"
   ]
  },
  {
   "cell_type": "markdown",
   "id": "e2a33e1c",
   "metadata": {},
   "source": [
    "# Find Missing numbers from a list of n natural numbers"
   ]
  },
  {
   "cell_type": "code",
   "execution_count": 3,
   "id": "52f758db",
   "metadata": {},
   "outputs": [
    {
     "name": "stdout",
     "output_type": "stream",
     "text": [
      "2\n"
     ]
    }
   ],
   "source": [
    "def missingNumber(nums):\n",
    "        \"\"\"\n",
    "        :type nums: List[int]\n",
    "        :rtype: int\n",
    "        \"\"\"\n",
    "        return ((len(nums) * (len(nums)+1)) // 2 ) - sum(nums)\n",
    "    \n",
    "arr = [0,1,3]\n",
    "print(missingNumber(arr))"
   ]
  },
  {
   "cell_type": "markdown",
   "id": "c7d4befa",
   "metadata": {},
   "source": [
    "# Find Maximum Consecutive Ones"
   ]
  },
  {
   "cell_type": "code",
   "execution_count": 4,
   "id": "8c3f132a",
   "metadata": {},
   "outputs": [
    {
     "name": "stdout",
     "output_type": "stream",
     "text": [
      "3\n"
     ]
    }
   ],
   "source": [
    "def findMaxConsecutiveOnes(nums):\n",
    "        \"\"\"\n",
    "        :type nums: List[int]\n",
    "        :rtype: int\n",
    "        \"\"\"\n",
    "        max_count = float(\"-inf\")\n",
    "        curr_count = 0\n",
    "        for i in range(len(nums)):\n",
    "            if nums[i] == 1:\n",
    "                curr_count += 1\n",
    "            else:\n",
    "                if curr_count > max_count:\n",
    "                    max_count = curr_count\n",
    "                curr_count = 0\n",
    "        if curr_count > max_count:\n",
    "            max_count = curr_count\n",
    "        return max_count\n",
    "    \n",
    "arr = [1,1,0,0,1,1,1]\n",
    "print(findMaxConsecutiveOnes(arr))"
   ]
  },
  {
   "cell_type": "markdown",
   "id": "cb53832e",
   "metadata": {},
   "source": [
    "# Find Single Number"
   ]
  },
  {
   "cell_type": "code",
   "execution_count": 7,
   "id": "8a4d26df",
   "metadata": {},
   "outputs": [
    {
     "name": "stdout",
     "output_type": "stream",
     "text": [
      "4\n"
     ]
    }
   ],
   "source": [
    "def singleNumber(nums):\n",
    "        \"\"\"\n",
    "        :type nums: List[int]\n",
    "        :rtype: int\n",
    "        \"\"\"\n",
    "        tracker = {}\n",
    "        for i in range(len(nums)):\n",
    "            if nums[i] in tracker.keys():\n",
    "                tracker.pop(nums[i])\n",
    "            else:\n",
    "                tracker[nums[i]] = 1\n",
    "        if len(tracker.keys()) == 1:\n",
    "            return list(tracker.keys())[0]\n",
    "        else:\n",
    "            return -1\n",
    "\n",
    "nums = [1,1,2,4,2]\n",
    "print(singleNumber(nums))"
   ]
  },
  {
   "cell_type": "markdown",
   "id": "2191c7ae",
   "metadata": {},
   "source": [
    "# Longest Subarray with Given Sum K (Only Positives) (Using Prefix Sum)"
   ]
  },
  {
   "cell_type": "code",
   "execution_count": 9,
   "id": "f51b041d",
   "metadata": {},
   "outputs": [
    {
     "name": "stdout",
     "output_type": "stream",
     "text": [
      "3\n"
     ]
    }
   ],
   "source": [
    "def longest_subarray_with_k_sum(nums, sum_k):\n",
    "    max_length = float(\"-inf\")\n",
    "    curr_subarray_len = 0\n",
    "    cons_sum = 0\n",
    "    pref_sum = {}\n",
    "    for i in range(len(nums)):\n",
    "        cons_sum += nums[i]\n",
    "        if cons_sum == sum_k:\n",
    "            max_length = max(max_length,i+1)\n",
    "        if cons_sum-sum_k in pref_sum.keys():\n",
    "            max_length = max(max_length,i - pref_sum[cons_sum-sum_k])\n",
    "        if cons_sum not in pref_sum.keys():\n",
    "            pref_sum[cons_sum] = i\n",
    "    if max_length > float(\"-inf\"):\n",
    "            return max_length\n",
    "        else: return 0\n",
    "\n",
    "num = [-1,1,1]\n",
    "print(longest_subarray_with_k_sum(num,1))\n",
    "    \n",
    "        \n",
    "            "
   ]
  },
  {
   "cell_type": "markdown",
   "id": "f649a295",
   "metadata": {},
   "source": [
    "# Two Sum Problem\n",
    "Given an array of integers nums and an integer target, return indices of the two numbers such that they add up to target.\n",
    "\n",
    "You may assume that each input would have exactly one solution, and you may not use the same element twice."
   ]
  },
  {
   "cell_type": "code",
   "execution_count": 10,
   "id": "57508c2f",
   "metadata": {},
   "outputs": [
    {
     "name": "stdout",
     "output_type": "stream",
     "text": [
      "[5, 4]\n"
     ]
    }
   ],
   "source": [
    "def twoSum(nums, target):\n",
    "        \"\"\"\n",
    "        :type nums: List[int]\n",
    "        :type target: int\n",
    "        :rtype: List[int]\n",
    "        \"\"\"\n",
    "\n",
    "        tracker_dict = {}\n",
    "        for i in range(len(nums)):\n",
    "            if (target - nums[i]) in tracker_dict.keys():\n",
    "                return [i,tracker_dict[target - nums[i]] ]\n",
    "            \n",
    "            if nums[i] not in tracker_dict.keys():\n",
    "                tracker_dict[nums[i]] = i\n",
    "        return 0\n",
    "\n",
    "nums = [1,3,2,4,6,6]\n",
    "target = 12\n",
    "print(twoSum(nums,target))"
   ]
  },
  {
   "cell_type": "markdown",
   "id": "510c3c7d",
   "metadata": {},
   "source": [
    "# Sort an array of 0s, 1s and 2s\n",
    "\n",
    "Approach :\n",
    "\n",
    "First, we will run a loop that will continue until mid <= high.\n",
    "There can be three different values of mid pointer i.e. arr[mid] <br> <br>\n",
    "i) If arr[mid] == 0, we will swap arr[low] and arr[mid] and will increment both low and mid. Now the subarray from index 0 to (low-1) only contains 0. <br>\n",
    "ii) If arr[mid] == 1, we will just increment the mid pointer and then the index (mid-1) will point to 1 as it should according to the rules. <br>\n",
    "iii) If arr[mid] == 2, we will swap arr[mid] and arr[high] and will decrement high. Now the subarray from index high+1 to (n-1) only contains 2. <br> <br>\n",
    "In this step, we will do nothing to the mid-pointer as even after swapping, the subarray from mid to high(after decrementing high) might be unsorted. So, we will check the value of mid again in the next iteration. <br>\n",
    "Finally, our array should be sorted."
   ]
  },
  {
   "cell_type": "code",
   "execution_count": 12,
   "id": "54e746d3",
   "metadata": {},
   "outputs": [
    {
     "name": "stdout",
     "output_type": "stream",
     "text": [
      "[0, 0, 1, 1, 1, 2, 2]\n"
     ]
    }
   ],
   "source": [
    "def swap_values(i,j,nums):\n",
    "        temp = nums[i]\n",
    "        nums[i] = nums[j]\n",
    "        nums[j] = temp\n",
    "        return nums\n",
    "\n",
    "def sortColors(nums):\n",
    "    \"\"\"\n",
    "    :type nums: List[int]\n",
    "    :rtype: None Do not return anything, modify nums in-place instead.\n",
    "    \"\"\"\n",
    "\n",
    "    ptr_2 = len(nums)-1\n",
    "    ptr_0 = 0\n",
    "    # if nums[ptr_2] == 2:\n",
    "    #     while nums[ptr_2] == 2:\n",
    "    #         ptr_2 = ptr_2 -1\n",
    "    i = 0\n",
    "    while (i <= ptr_2):\n",
    "        if nums[i] == 0:\n",
    "            nums = swap_values(i,ptr_0,nums)\n",
    "            ptr_0 += 1\n",
    "            i +=1\n",
    "\n",
    "        elif nums[i] == 2:\n",
    "            nums = swap_values(i,ptr_2,nums)\n",
    "            ptr_2 = ptr_2 -1\n",
    "\n",
    "        elif nums[i] == 1:\n",
    "            i += 1\n",
    "\n",
    "\n",
    "    return nums\n",
    "\n",
    "nums = [0,1,1,2,2,1,0]\n",
    "print(sortColors(nums))"
   ]
  },
  {
   "cell_type": "markdown",
   "id": "350eae82",
   "metadata": {},
   "source": [
    "# Majority Element"
   ]
  },
  {
   "cell_type": "code",
   "execution_count": 14,
   "id": "391d3d3f",
   "metadata": {},
   "outputs": [
    {
     "name": "stdout",
     "output_type": "stream",
     "text": [
      "2\n"
     ]
    }
   ],
   "source": [
    "def majorityElement(nums):\n",
    "        \"\"\"\n",
    "        :type nums: List[int]\n",
    "        :rtype: int\n",
    "        \"\"\"\n",
    "        candidate = nums[0]\n",
    "        votes = 1\n",
    "        if len(nums) == 1:\n",
    "            return nums[0]\n",
    "        for i in range(1,len(nums)):\n",
    "            if votes == 0:\n",
    "                candidate = nums[i]\n",
    "                votes = 1\n",
    "            elif nums[i] == candidate:\n",
    "                votes += 1\n",
    "            elif nums[i] != candidate:\n",
    "                votes = votes-1\n",
    "        return candidate\n",
    "\n",
    "nums = [1,2,2,2,2,2,3,3,3]\n",
    "print(majorityElement(nums))"
   ]
  },
  {
   "cell_type": "markdown",
   "id": "5b8e5d3f",
   "metadata": {},
   "source": [
    "# Kadanne's Algorithm (Find Maximum Sum of a subarray)"
   ]
  },
  {
   "cell_type": "code",
   "execution_count": null,
   "id": "df7e5917",
   "metadata": {},
   "outputs": [],
   "source": [
    "def maxSubArray(self, nums):\n",
    "        maxi = -sys.maxsize-1 # maximum sum\n",
    "        sum = 0\n",
    "        n = len(nums)\n",
    "        arr = nums\n",
    "\n",
    "        for i in range(n):\n",
    "            sum += arr[i]\n",
    "\n",
    "            if sum > maxi:\n",
    "                maxi = sum\n",
    "\n",
    "            # If sum < 0: discard the sum calculated\n",
    "            if sum < 0:\n",
    "                sum = 0\n",
    "\n",
    "        # To consider the sum of the empty subarray\n",
    "        # uncomment the following check:\n",
    "\n",
    "        #if maxi < 0: maxi = 0\n",
    "\n",
    "        return maxi"
   ]
  },
  {
   "cell_type": "markdown",
   "id": "d68db970",
   "metadata": {},
   "source": [
    " ## Print the Sub array too"
   ]
  },
  {
   "cell_type": "code",
   "execution_count": 16,
   "id": "68926288",
   "metadata": {},
   "outputs": [
    {
     "name": "stdout",
     "output_type": "stream",
     "text": [
      "The subarray is: [4 -1 2 1 ]\n",
      "6\n"
     ]
    }
   ],
   "source": [
    "def maxSubarraySum(arr, n):\n",
    "    maxi = float(\"-inf\")  # maximum sum\n",
    "    sum = 0\n",
    "\n",
    "    start = 0\n",
    "    ansStart, ansEnd = -1, -1\n",
    "    for i in range(n):\n",
    "\n",
    "        if sum == 0:\n",
    "            start = i  # starting index\n",
    "\n",
    "        sum += arr[i]\n",
    "\n",
    "        if sum > maxi:\n",
    "            maxi = sum\n",
    "\n",
    "            ansStart = start\n",
    "            ansEnd = i\n",
    "\n",
    "        # If sum < 0: discard the sum calculated\n",
    "        if sum < 0:\n",
    "            sum = 0\n",
    "\n",
    "    # printing the subarray:\n",
    "    print(\"The subarray is: [\", end=\"\")\n",
    "    for i in range(ansStart, ansEnd + 1):\n",
    "        print(arr[i], end=\" \")\n",
    "    print(\"]\")\n",
    "\n",
    "    # To consider the sum of the empty subarray\n",
    "    # uncomment the following check:\n",
    "\n",
    "    # if maxi < 0:\n",
    "    #     maxi = 0\n",
    "\n",
    "    return maxi\n",
    "\n",
    "arr = [-2,1,-3,4,-1,2,1,-5,4]\n",
    "print(maxSubarraySum(arr,len(arr)))"
   ]
  },
  {
   "cell_type": "markdown",
   "id": "1df7277a",
   "metadata": {},
   "source": [
    "# Next Permutation"
   ]
  },
  {
   "cell_type": "code",
   "execution_count": 18,
   "id": "1c384b9b",
   "metadata": {},
   "outputs": [
    {
     "name": "stdout",
     "output_type": "stream",
     "text": [
      "pivot pt 0\n",
      "[2, 1, 3]\n"
     ]
    }
   ],
   "source": [
    "def nextPermutation(nums):\n",
    "        \"\"\"\n",
    "        :type nums: List[int]\n",
    "        :rtype: None Do not return anything, modify nums in-place instead.\n",
    "        \"\"\"\n",
    "        pivot_pt = -1\n",
    "        for i in range(len(nums)-1,0,-1):          # Traverse from end to reach point where array stopped becoming decreasing\n",
    "            if nums[i] > nums[i-1]:\n",
    "                pivot_pt = i-1\n",
    "                print(\"pivot pt\",pivot_pt)           #Found Pivot point where num is smaller than prev no\n",
    "                break\n",
    "        \n",
    "        if pivot_pt != -1:                           # Swap pivot with next biggest num from end\n",
    "            for i in range(len(nums)-1,pivot_pt,-1):\n",
    "                if nums[i] > nums[pivot_pt]:\n",
    "                    temp = nums[pivot_pt]\n",
    "                    nums[pivot_pt] = nums[i]\n",
    "                    nums[i] = temp\n",
    "                    \n",
    "                    break\n",
    "            \n",
    "            nums[pivot_pt+1:] = sorted(nums[pivot_pt+1:])   #Sort the array right to pivot to get the just next permut     \n",
    "            \n",
    "        \n",
    "        else:\n",
    "            nums = nums.reverse()  # if array is entirely decreasing means it's the last permutation. Reverse to reach first permut\n",
    "        return nums\n",
    "\n",
    "nums = [1,3,2]\n",
    "print(nextPermutation(nums))"
   ]
  },
  {
   "cell_type": "code",
   "execution_count": 24,
   "id": "38e428e1",
   "metadata": {},
   "outputs": [
    {
     "name": "stdout",
     "output_type": "stream",
     "text": [
      "[0, 1, 7]\n"
     ]
    }
   ],
   "source": [
    "\n",
    "def leaders_in_array(nums):\n",
    "    max_so_far = float(\"-inf\")\n",
    "    leaders = []\n",
    "    for i in range(len(nums)-1,-1,-1):\n",
    "        if nums[i] > max_so_far:\n",
    "            max_so_far = nums[i]\n",
    "            leaders. (max_so_far)\n",
    "    \n",
    "    return leaders\n",
    "            \n",
    "\n",
    "nums = [4, 7, 1, 0]\n",
    "print(leaders_in_array(nums))\n",
    "    "
   ]
  },
  {
   "cell_type": "markdown",
   "id": "3b07cc43",
   "metadata": {},
   "source": [
    "# Given an unsorted array of integers nums, return the length of the longest consecutive elements sequence.\n",
    "\n",
    "You must write an algorithm that runs in O(n) time.\n",
    "Approach: 1.Store all the elements in map\n",
    "          2. Traverse the array and check if any number-1 exists in hashmap. If not then it's the starting no.<br>\n",
    "             Check for n+1, n+2.... until its not present. compare the streak with max length"
   ]
  },
  {
   "cell_type": "code",
   "execution_count": 25,
   "id": "26591d88",
   "metadata": {},
   "outputs": [
    {
     "name": "stdout",
     "output_type": "stream",
     "text": [
      "4\n"
     ]
    }
   ],
   "source": [
    "def longestConsecutive(nums):\n",
    "        \"\"\"\n",
    "        :type nums: List[int]\n",
    "        :rtype: int\n",
    "        \"\"\"\n",
    "        max_length = float(\"-inf\")\n",
    "        #storing array in HashMap\n",
    "        nums_set = set(nums)\n",
    "        \n",
    "        # traverse array and check start point and streaks\n",
    "        for i in range(len(nums)):\n",
    "            if nums[i]-1 not in nums_set:\n",
    "                candidate = nums[i]\n",
    "                streak = 1\n",
    "                j = candidate+1\n",
    "                while j in nums_set:\n",
    "                    streak += 1\n",
    "                    j += 1\n",
    "                max_length = max(streak,max_length)\n",
    "        \n",
    "        if max_length > 0:\n",
    "            return max_length\n",
    "        else:\n",
    "            return 0\n",
    "\n",
    "nums = [100,1,200,3,4,2]\n",
    "print(longestConsecutive(nums))"
   ]
  },
  {
   "cell_type": "markdown",
   "id": "cc840958",
   "metadata": {},
   "source": [
    "# Set Matrix Zeroes\n",
    "Input: matrix = [[0,1,2,0],[3,4,5,2],[1,3,1,5]]\n",
    "Output: [[0,0,0,0],[0,4,5,0],[0,3,1,0]]"
   ]
  },
  {
   "cell_type": "code",
   "execution_count": 36,
   "id": "7ecf5d66",
   "metadata": {},
   "outputs": [
    {
     "name": "stdout",
     "output_type": "stream",
     "text": [
      "[[0, 0, 0, 0], [0, 4, 5, 0], [0, 3, 1, 0]]\n"
     ]
    }
   ],
   "source": [
    "#1st Approach -> using O(m+n) space \n",
    "def setZeroes(matrix):\n",
    "        \"\"\"\n",
    "        :type matrix: List[List[int]]\n",
    "        :rtype: None Do not return anything, modify matrix in-place instead.\n",
    "        \"\"\"\n",
    "        row_idx,col_idx = set(), set()\n",
    "\n",
    "        # for m x n matrix\n",
    "        m = len(matrix)\n",
    "        n = len(matrix[0])\n",
    "        \n",
    "        for i in range(m):\n",
    "            for j in range(n):\n",
    "                if matrix[i][j] == 0:\n",
    "                    row_idx.add(i)\n",
    "                    col_idx.add(j)\n",
    "        \n",
    "        for each in list(row_idx):\n",
    "            \n",
    "            matrix[each] = [0]*n\n",
    "            \n",
    "        for each in list(col_idx):\n",
    "            for row in matrix:\n",
    "                row[each] = 0\n",
    "            \n",
    "        \n",
    "        return matrix\n",
    "\n",
    "matrix = [[0,1,2,0],[3,4,5,2],[1,3,1,5]]\n",
    "print(setZeroes(matrix))"
   ]
  },
  {
   "cell_type": "code",
   "execution_count": null,
   "id": "af1f22b0",
   "metadata": {},
   "outputs": [],
   "source": [
    "# Better Approach - O(1) Space\n",
    "# Idea is to use first row and first column to track zeroes for their respective rows and columns\n",
    "\n",
    "def setZeroes(matrix: List[List[int]]) -> None:\n",
    "\n",
    "        m = len(matrix)\n",
    "        n = len(matrix[0])\n",
    "\t\t\n",
    "        first_row_has_zero = False\n",
    "        first_col_has_zero = False\n",
    "        \n",
    "        # iterate through matrix to mark the zero row and cols\n",
    "        for row in range(m):\n",
    "            for col in range(n):\n",
    "                if matrix[row][col] == 0:\n",
    "                    if row == 0:\n",
    "                        first_row_has_zero = True\n",
    "                    if col == 0:\n",
    "                        first_col_has_zero = True\n",
    "                    matrix[row][0] = matrix[0][col] = 0\n",
    "    \n",
    "        # iterate through matrix to update the cell to be zero if it's in a zero row or col\n",
    "        for row in range(1, m):\n",
    "            for col in range(1, n):\n",
    "                matrix[row][col] = 0 if matrix[0][col] == 0 or matrix[row][0] == 0 else matrix[row][col]\n",
    "        \n",
    "        # update the first row and col if they're zero\n",
    "        if first_row_has_zero:\n",
    "            for col in range(n):\n",
    "                matrix[0][col] = 0\n",
    "        \n",
    "        if first_col_has_zero:\n",
    "            for row in range(m):\n",
    "                matrix[row][0] = 0"
   ]
  },
  {
   "cell_type": "markdown",
   "id": "f63b8962",
   "metadata": {},
   "source": [
    "# Rotate a Matrix by 90 degree\n",
    "\n",
    "Approach : 1. Get transpose of matrix\n",
    "           2. Reverse each row"
   ]
  },
  {
   "cell_type": "code",
   "execution_count": 37,
   "id": "427805ed",
   "metadata": {},
   "outputs": [
    {
     "name": "stdout",
     "output_type": "stream",
     "text": [
      "[[7, 4, 1], [8, 5, 2], [9, 6, 3]]\n"
     ]
    }
   ],
   "source": [
    "def rotate(matrix):\n",
    "        \"\"\"\n",
    "        :type matrix: List[List[int]]\n",
    "        :rtype: None Do not return anything, modify matrix in-place instead.\n",
    "        \"\"\"\n",
    "        m, n  = len(matrix), len(matrix[0])\n",
    "\n",
    "        #Find Transpose by traversing over upper triangle only\n",
    "        for i in range(m):\n",
    "            for j in range(i, n):\n",
    "                temp = matrix[i][j]\n",
    "                matrix[i][j] = matrix[j][i]\n",
    "                matrix[j][i] = temp\n",
    "        \n",
    "        for i in range(m):\n",
    "            matrix[i].reverse()\n",
    "\n",
    "        \n",
    "        return matrix\n",
    "\n",
    "matrix = [[1,2,3],[4,5,6],[7,8,9]]\n",
    "print(rotate(matrix))"
   ]
  },
  {
   "cell_type": "markdown",
   "id": "087e2ac8",
   "metadata": {},
   "source": [
    "# Find number of subarrays with sum K\n",
    "Approach - Use PrefixSum"
   ]
  },
  {
   "cell_type": "code",
   "execution_count": 38,
   "id": "7a5f9814",
   "metadata": {},
   "outputs": [
    {
     "name": "stdout",
     "output_type": "stream",
     "text": [
      "2\n"
     ]
    }
   ],
   "source": [
    "def subarraySum(nums, k):\n",
    "        \"\"\"\n",
    "        :type nums: List[int]\n",
    "        :type k: int\n",
    "        :rtype: int\n",
    "        \"\"\"\n",
    "        \n",
    "        #key: prefixSum, value: count of pref_sum\n",
    "        sum_tracker_dict = {}\n",
    "        subarray_count = 0\n",
    "        pref_sum = 0\n",
    "        for i in range(len(nums)):\n",
    "            pref_sum += nums[i]\n",
    "            if pref_sum == k:\n",
    "                subarray_count += 1\n",
    "\n",
    "            if (pref_sum - k) in sum_tracker_dict:\n",
    "                subarray_count += sum_tracker_dict[pref_sum - k]\n",
    "\n",
    "            if pref_sum not in sum_tracker_dict:\n",
    "                sum_tracker_dict[pref_sum] = 1\n",
    "            else:\n",
    "                sum_tracker_dict[pref_sum] += 1\n",
    "        \n",
    "        return subarray_count\n",
    "    \n",
    "nums, k = [1,2,3], 3\n",
    "print(subarraySum(nums, k))"
   ]
  },
  {
   "cell_type": "markdown",
   "id": "4f8e53cd",
   "metadata": {},
   "source": [
    "# Find longest subarray with Sum equal to K"
   ]
  },
  {
   "cell_type": "code",
   "execution_count": 2,
   "id": "08413aca",
   "metadata": {},
   "outputs": [
    {
     "data": {
      "text/plain": [
       "3"
      ]
     },
     "execution_count": 2,
     "metadata": {},
     "output_type": "execute_result"
    }
   ],
   "source": [
    "import typing\n",
    "\n",
    "def longestSubarrayWithSumK(a: [int], k: int) -> int:\n",
    "    left, right = 0 ,0\n",
    "    sum_arr = 0\n",
    "    ans_len = float('-inf')\n",
    "    n = len(a)\n",
    "    while right < n:\n",
    "        sum_arr += a[right]\n",
    "        while sum_arr > k:\n",
    "            sum_arr -= a[left]\n",
    "            left += 1\n",
    "        if sum_arr == k:\n",
    "            cur_len = right - left + 1\n",
    "            ans_len = max(ans_len,cur_len)\n",
    "        right += 1\n",
    "    return ans_len\n",
    "\n",
    "arr = [1,2,3,1,1,1,1]\n",
    "k = 3\n",
    "longestSubarrayWithSumK(arr,k)"
   ]
  }
 ],
 "metadata": {
  "kernelspec": {
   "display_name": "Python 3 (ipykernel)",
   "language": "python",
   "name": "python3"
  },
  "language_info": {
   "codemirror_mode": {
    "name": "ipython",
    "version": 3
   },
   "file_extension": ".py",
   "mimetype": "text/x-python",
   "name": "python",
   "nbconvert_exporter": "python",
   "pygments_lexer": "ipython3",
   "version": "3.10.9"
  }
 },
 "nbformat": 4,
 "nbformat_minor": 5
}
