{
 "cells": [
  {
   "cell_type": "markdown",
   "id": "48a70bc5",
   "metadata": {},
   "source": [
    "#### Implementation of Binary Tree"
   ]
  },
  {
   "cell_type": "code",
   "execution_count": 2,
   "id": "7a36e012",
   "metadata": {},
   "outputs": [],
   "source": [
    "class Node:\n",
    "    def __init__(self,val):\n",
    "        self.val = val\n",
    "        self.right = None\n",
    "        self.left = None\n",
    "\n",
    "root = Node(1)\n",
    "root.left = Node(2)\n",
    "root.right = Node(3)\n",
    "root.left.left = Node(4)\n",
    "root.left.right = Node(5)"
   ]
  },
  {
   "cell_type": "markdown",
   "id": "8d409c03",
   "metadata": {},
   "source": [
    "A Tree Data Structure can be traversed in following ways: <br>\n",
    "    1.Depth First Search or DFS:<br>\n",
    "        * Inorder Traversal<br>\n",
    "        * Preorder Traversal<br>\n",
    "        * Postorder Traversal<br>\n",
    "    2. Level Order Traversal or Breadth First Search or BFS<br>\n",
    "    3. Boundary Traversal<br>\n",
    "    4. Diagonal Traversal<br>"
   ]
  },
  {
   "cell_type": "code",
   "execution_count": 5,
   "id": "1af0c34a",
   "metadata": {},
   "outputs": [
    {
     "name": "stdout",
     "output_type": "stream",
     "text": [
      "Preorde Traversal of Tree:\n",
      "1 2 4 5 3 "
     ]
    }
   ],
   "source": [
    "# Inorder\n",
    "# left subtree -> root > right subtree\n",
    "class Node:\n",
    "    def __init__(self,val):\n",
    "        self.val = val\n",
    "        self.right = None\n",
    "        self.left = None\n",
    "def printInorder(root):\n",
    "    if root:\n",
    "        printInorder(root.left)\n",
    "        print(root.val,end=\" \")\n",
    "        printInorder(root.right)\n",
    "\n",
    "def printPreorder(root):\n",
    "    if root:\n",
    "        print(root.val,end=\" \")\n",
    "        printPreorder(root.left)\n",
    "        printPreorder(root.right)\n",
    "\n",
    "\n",
    "root = Node(1)\n",
    "root.left = Node(2)\n",
    "root.right = Node(3)\n",
    "root.left.left = Node(4)\n",
    "root.left.right = Node(5)\n",
    "print(\"Preorde Traversal of Tree:\")\n",
    "printPreorder(root)"
   ]
  },
  {
   "cell_type": "code",
   "execution_count": 20,
   "id": "64b99972",
   "metadata": {},
   "outputs": [
    {
     "name": "stdout",
     "output_type": "stream",
     "text": [
      "Level Order Traversal of Tree:\n",
      "1 2 3 4 5 7 6 "
     ]
    }
   ],
   "source": [
    "#Level Order Traversal\n",
    "class Node:\n",
    "    def __init__(self,val):\n",
    "        self.val = val\n",
    "        self.right = None\n",
    "        self.left = None\n",
    "        \n",
    "class Queue:\n",
    "    def __init__(self):\n",
    "        self.queue = []\n",
    "    def add_child(self,vals):\n",
    "        self.queue.extend(vals)\n",
    "    def dequeue(self):\n",
    "        if len(self.queue) > 0:\n",
    "            node = self.queue.pop(0)\n",
    "            return node\n",
    "        else:\n",
    "            return None\n",
    "        \n",
    "def get_child_nodes(root):\n",
    "    child_nodes = []\n",
    "    if root.left:\n",
    "        child_nodes.append(root.left)\n",
    "    if root.right:\n",
    "        child_nodes.append(root.right)\n",
    "    return child_nodes\n",
    "        \n",
    "def LevelOrderTraversal(root,queue):\n",
    "    if root:\n",
    "        print(root.val, end=\" \")\n",
    "        child_nodes = get_child_nodes(root)\n",
    "#         for each in child_nodes:\n",
    "#             print(f\"root node: {root.val} child_node {each.val}\",end=\" \")\n",
    "        queue.add_child(child_nodes)\n",
    "        LevelOrderTraversal(queue.dequeue(),queue)\n",
    "\n",
    "\n",
    "root = Node(1)\n",
    "root.left = Node(2)\n",
    "root.right = Node(3)\n",
    "root.left.left = Node(4)\n",
    "root.right.left = Node(5)\n",
    "root.right.left.right = Node(6)\n",
    "root.left.left.left = Node(7)\n",
    "queue = Queue()\n",
    "print(\"Level Order Traversal of Tree:\")\n",
    "LevelOrderTraversal(root,queue)       \n",
    "        \n",
    "        "
   ]
  },
  {
   "cell_type": "markdown",
   "id": "6a4524d4",
   "metadata": {},
   "source": [
    "# Preorder, Inorder, postorder in one Traversal"
   ]
  },
  {
   "cell_type": "code",
   "execution_count": 1,
   "id": "e79b025c",
   "metadata": {},
   "outputs": [],
   "source": [
    "# Iteratively Preorder\n",
    "def preorderTraversal(self, root):\n",
    "        \"\"\"\n",
    "        :type root: TreeNode\n",
    "        :rtype: List[int]\n",
    "        \"\"\"\n",
    "        stack = []\n",
    "        if root:\n",
    "            stack.append(root)\n",
    "        ans = []\n",
    "        while len(stack) > 0:\n",
    "            curr_node = stack.pop()\n",
    "            ans.append(curr_node.val)\n",
    "            if curr_node.right:\n",
    "                stack.append(curr_node.right)\n",
    "            if curr_node.left:\n",
    "                stack.append(curr_node.left)\n",
    "        return ans\n",
    "            "
   ]
  },
  {
   "cell_type": "markdown",
   "id": "be815bde",
   "metadata": {},
   "source": [
    "# Preorder, Inorder, postorder in one Traversal"
   ]
  },
  {
   "cell_type": "code",
   "execution_count": 10,
   "id": "ea6d385b",
   "metadata": {},
   "outputs": [
    {
     "name": "stdout",
     "output_type": "stream",
     "text": [
      "[3, 2, 4, 1, 6, 5, 7] [1, 2, 3, 4, 5, 6, 7] [3, 4, 2, 6, 7, 5, 1]\n"
     ]
    }
   ],
   "source": [
    "class Node:\n",
    "    def __init__(self,val):\n",
    "        self.val = val\n",
    "        self.right = None\n",
    "        self.left = None\n",
    "\n",
    "def traverse_all_3(root):\n",
    "    stack = []\n",
    "    if root:\n",
    "        stack.append((root,1))\n",
    "    inorder = []\n",
    "    preorder = []\n",
    "    postorder = []\n",
    "    \n",
    "    while len(stack) > 0:\n",
    "        curr = stack.pop()\n",
    "        if curr[1] == 1:\n",
    "            preorder.append(curr[0].val)\n",
    "            stack.append((curr[0],2))\n",
    "            if curr[0].left:\n",
    "                stack.append((curr[0].left,1))\n",
    "            \n",
    "        elif curr[1] == 2:\n",
    "            inorder.append(curr[0].val)\n",
    "            stack.append((curr[0],3))\n",
    "            if curr[0].right:\n",
    "                stack.append((curr[0].right,1)) \n",
    "        else:\n",
    "            postorder.append(curr[0].val)\n",
    "    return inorder, preorder, postorder\n",
    "\n",
    "\n",
    "root = Node(1)\n",
    "root.left = Node(2)\n",
    "root.right = Node(5)\n",
    "root.left.left = Node(3)\n",
    "root.left.right = Node(4)\n",
    "root.right.left = Node(6)\n",
    "root.right.right = Node(7)\n",
    "\n",
    "inorder, preorder, postorder = traverse_all_3(root)\n",
    "print(inorder, preorder, postorder)\n",
    "        \n",
    "        \n",
    "        \n",
    "        \n",
    "        \n",
    "        \n",
    "        \n",
    "        "
   ]
  },
  {
   "cell_type": "markdown",
   "id": "8d7050a4",
   "metadata": {},
   "source": [
    "##  Inorder using Stacks"
   ]
  },
  {
   "cell_type": "code",
   "execution_count": 17,
   "id": "58ded556",
   "metadata": {},
   "outputs": [
    {
     "data": {
      "text/plain": [
       "[3, 2, 4, 1, 6, 5, 7]"
      ]
     },
     "execution_count": 17,
     "metadata": {},
     "output_type": "execute_result"
    }
   ],
   "source": [
    "def inorder(root):\n",
    "    stack = []\n",
    "    curr = root\n",
    "    ans = []\n",
    "    while True:\n",
    "        if curr:\n",
    "            stack.append(curr)\n",
    "            curr = curr.left\n",
    "        else:\n",
    "            if len(stack) == 0:\n",
    "                break\n",
    "            curr = stack.pop()\n",
    "            ans.append(curr.val)\n",
    "            curr = curr.right\n",
    "            \n",
    "    return ans\n",
    "\n",
    "root = Node(1)\n",
    "root.left = Node(2)\n",
    "root.right = Node(5)\n",
    "root.left.left = Node(3)\n",
    "root.left.right = Node(4)\n",
    "root.right.left = Node(6)\n",
    "root.right.right = Node(7)\n",
    "inorder(root)            \n",
    "        "
   ]
  },
  {
   "cell_type": "markdown",
   "id": "0d88ed3a",
   "metadata": {},
   "source": [
    "# Find the depth of the Tree\n",
    "\n",
    "* The function maxDepth takes a binary tree node 'root' as input and returns an integer, which is the maximum depth of the tree.\n",
    "* The base case is when 'root' is None, which means the tree is empty and has no depth, so the function returns 0.\n",
    "* If the tree is not empty, the function recursively calculates the maximum depth of the left and right subtrees.\n",
    "* It then takes the maximum of these two values and adds 1 to account for the current level.\n",
    "* The result is the maximum depth of the tree.\n",
    "\n",
    "Complexity\n",
    "\n",
    "Time complexity: O(n) where 'n' is the number of nodes in the tree. The function visits each node exactly once.\n",
    "\n",
    "Space complexity: O(h) where 'h' is the height of the tree. This represents the maximum depth of the call stack during recursion."
   ]
  },
  {
   "cell_type": "code",
   "execution_count": 22,
   "id": "e59c4892",
   "metadata": {},
   "outputs": [
    {
     "data": {
      "text/plain": [
       "3"
      ]
     },
     "execution_count": 22,
     "metadata": {},
     "output_type": "execute_result"
    }
   ],
   "source": [
    "def maxDepth(root):\n",
    "        \"\"\"\n",
    "        :type root: TreeNode\n",
    "        :rtype: int\n",
    "        \"\"\"\n",
    "        if not root:\n",
    "            return 0\n",
    "        \n",
    "        left = 1 + maxDepth(root.left)\n",
    "        right = 1 + maxDepth(root.right)\n",
    "\n",
    "        max_depth = max(left,right)\n",
    "        return max_depth\n",
    "\n",
    "maxDepth(root)"
   ]
  },
  {
   "cell_type": "markdown",
   "id": "2c7d4387",
   "metadata": {},
   "source": [
    "# Check if a Binary Tree is Balanaced\n",
    "### Intuition\n",
    "\n",
    "To determine if a binary tree is balanced, we need to check if the heights of its left and right subtrees differ by at most 1. We can recursively traverse the tree and calculate the height of each subtree, comparing them as we go.\n",
    "\n",
    "* Time complexity: O(n) where 'n' is the number of nodes in the tree. The function visits each node exactly once.\n",
    "* Space complexity: O(h) where 'h' is the height of the tree. This represents the maximum depth of the call stack during recursion."
   ]
  },
  {
   "cell_type": "code",
   "execution_count": 21,
   "id": "8b5af328",
   "metadata": {},
   "outputs": [
    {
     "data": {
      "text/plain": [
       "True"
      ]
     },
     "execution_count": 21,
     "metadata": {},
     "output_type": "execute_result"
    }
   ],
   "source": [
    "def check_if_balanced(root,curr):\n",
    "        if not curr:\n",
    "            return True \n",
    "    \n",
    "        left_depth = check_if_balanced(root, curr.left)\n",
    "        right_depth = check_if_balanced(root, curr.right)\n",
    "        \n",
    "        if left_depth == False or right_depth == False or abs(left_depth - right_depth) > 1:\n",
    "            return False\n",
    "\n",
    "        if curr == root:\n",
    "            return True\n",
    "\n",
    "        return max(left_depth, right_depth) + 1\n",
    "        \n",
    "\n",
    "def isBalanced(root):\n",
    "    \"\"\"\n",
    "    :type root: TreeNode\n",
    "    :rtype: bool\n",
    "    \"\"\"\n",
    "    curr = root\n",
    "    is_balanced = check_if_balanced(root,curr)\n",
    "    return is_balanced \n",
    "\n",
    "isBalanced(root)\n"
   ]
  },
  {
   "cell_type": "markdown",
   "id": "19ffc4a7",
   "metadata": {},
   "source": [
    "# Find the Diameter of the Tree\n",
    "\n",
    "The diameter of a binary tree is the length of the longest path between any two nodes in a tree. This path may or may not pass through the root.\n",
    "\n",
    "The length of a path between two nodes is represented by the number of edges between them.\n",
    "\n",
    "**Approach** -\n",
    "\n",
    "* This function calculates the length of the longest path starting from a given node.\n",
    "* It recursively calls itself on the left and right subtrees to find the longest paths in those directions.\n",
    "* The maximum diameter is updated using max(max_length[0], left_path + right_path).\n",
    "* The function returns 1 + max(left_path, right_path) to represent the depth of the current node.\n",
    "* Function: diameterOfBinaryTree - wrapper function\n",
    "    -- It initializes max_length as a list with a single element\n",
    "    -- It then calls get_longest_path with the root node and the max_length list and the ans is update in max_length array.\n",
    "    Complexity\n",
    "\n",
    "Time complexity:O(n). The code visits each node exactly once.\n",
    "\n",
    "Space complexity: O(h) where 'h' is the height of the binary tree. This represents the maximum depth of the call stack during recursion."
   ]
  },
  {
   "cell_type": "code",
   "execution_count": 24,
   "id": "e21fd22d",
   "metadata": {},
   "outputs": [
    {
     "data": {
      "text/plain": [
       "4"
      ]
     },
     "execution_count": 24,
     "metadata": {},
     "output_type": "execute_result"
    }
   ],
   "source": [
    "def get_longest_path(root, max_length):\n",
    "        if not root:\n",
    "            return 0\n",
    "        left_path = get_longest_path(root.left,max_length)\n",
    "        right_path = get_longest_path(root.right,max_length)\n",
    "        max_length[0] = max(max_length[0],left_path + right_path)\n",
    "        return 1 + max(left_path, right_path)\n",
    "        \n",
    "def diameterOfBinaryTree(root):\n",
    "    max_length = [float(\"-inf\")]\n",
    "    get_longest_path(root, max_length)\n",
    "    return max_length[0]\n",
    "\n",
    "diameterOfBinaryTree(root)"
   ]
  },
  {
   "cell_type": "markdown",
   "id": "a9f1d6b1",
   "metadata": {},
   "source": [
    "# Binary Tree Maximum Path Sum\n",
    "A path in a binary tree is a sequence of nodes where each pair of adjacent nodes in the sequence has an edge connecting them. A node can only appear in the sequence at most once. Note that the path does not need to pass through the root.\n",
    "\n",
    "The path sum of a path is the sum of the node's values in the path\n",
    "\n",
    "Solution:\n",
    "### Intuition\n",
    "My initial thought is that we should determine the highest potential path sum at every node. To do this, we'll recursively examine the maximum sum achieved from the left node followed by the right node.\n",
    "\n",
    "### Approach\n",
    "* First call the function recursively on the left node and right node to get max possible sum at respective nodes.\n",
    "\n",
    "* Given that nodes can hold negative values, I'm utilizing a fixed-size list to retain the output of right and left subtree recursion only when those values are positive.\n",
    "\n",
    "* The sum of positive values stored in the list are compared with global max to get the max sum of the path passing through the current node.\n",
    "\n",
    "* Next, we send back the sum of the root value and the maximum between the left and right subtree values to the parent node.\n",
    "\n",
    "Time complexity: O(n) since each node is visited exactly once\n",
    "\n",
    "Space complexity: O(h) height of recursion tree"
   ]
  },
  {
   "cell_type": "code",
   "execution_count": 3,
   "id": "918763de",
   "metadata": {},
   "outputs": [
    {
     "name": "stdout",
     "output_type": "stream",
     "text": [
      "Max Path sum of Tree:\n"
     ]
    },
    {
     "data": {
      "text/plain": [
       "28"
      ]
     },
     "execution_count": 3,
     "metadata": {},
     "output_type": "execute_result"
    }
   ],
   "source": [
    "def get_max_sum(root, max_sum):\n",
    "        if not root:\n",
    "            return 0\n",
    "        left_st = get_max_sum(root.left, max_sum)\n",
    "        right_st = get_max_sum(root.right, max_sum)\n",
    "\n",
    "        list = [root.val]\n",
    "        if left_st >= 0:\n",
    "            list.append(left_st)\n",
    "        if right_st > 0:\n",
    "            list.append(right_st)\n",
    "\n",
    "        max_sum[0] = max(max_sum[0], sum(list))\n",
    "        \n",
    "        if  max(left_st,right_st) >= 0:\n",
    "            return root.val + max(left_st,right_st)\n",
    "        else:\n",
    "            return root.val\n",
    "\n",
    "def maxPathSum(root):\n",
    "        \"\"\"\n",
    "        :type root: TreeNode\n",
    "        :rtype: int\n",
    "        \"\"\"\n",
    "        max_sum = [float('-inf')]\n",
    "        get_max_sum(root,max_sum)\n",
    "        return max_sum[0]\n",
    "\n",
    "root = Node(1)\n",
    "root.left = Node(2)\n",
    "root.right = Node(3)\n",
    "root.left.left = Node(4)\n",
    "root.right.left = Node(5)\n",
    "root.right.left.right = Node(6)\n",
    "root.left.left.left = Node(7)\n",
    "print(\"Max Path sum of Tree:\")\n",
    "maxPathSum(root)      \n",
    "           "
   ]
  },
  {
   "cell_type": "markdown",
   "id": "de82b2ea",
   "metadata": {},
   "source": [
    "# Given the roots of two binary trees p and q, write a function to check if they are the same or not.\n",
    "\n",
    "Approrach - \n",
    "* The base case is when both trees, p and q, are None. In this case, they are considered identical, so we return True.\n",
    "* If either p or q is None (but not both), it means the trees have different structures, so we return False.\n",
    "* If the values of the current nodes in p and q are not equal, we return False, as the trees cannot be identical.\n",
    "* We recursively check if the left subtrees of p and q are identical, and likewise for the right subtrees.\n",
    "* The function returns True only if all conditions are met.\n",
    "\n",
    "**Complexities:**\n",
    "\n",
    "Time complexity:\n",
    "The function recursively visits every node in both trees once. Therefore, the time complexity is O(n)\n",
    "\n",
    "Space complexity:\n",
    "In the worst case, when the trees are completely unbalanced, the depth could be n. In the best case, for balanced trees, the depth is log(n). Thus, the space complexity is O(n) in the worst case and O(log n) in the best case."
   ]
  },
  {
   "cell_type": "code",
   "execution_count": 4,
   "id": "1568215a",
   "metadata": {},
   "outputs": [],
   "source": [
    "def isSameTree(self, p, q):\n",
    "        \"\"\"\n",
    "        :type p: TreeNode\n",
    "        :type q: TreeNode\n",
    "        :rtype: bool\n",
    "        \"\"\"\n",
    "        if not p and not q:\n",
    "            return True\n",
    "\n",
    "        if not p or not q or p.val != q.val:\n",
    "            return False\n",
    "        \n",
    "\n",
    "        ltree = self.isSameTree(p.left, q.left)\n",
    "        rtree = self.isSameTree(p.right, q.right)\n",
    "\n",
    "        return self.isSameTree(p.left, q.left) and self.isSameTree(p.right, q.right)"
   ]
  },
  {
   "cell_type": "code",
   "execution_count": null,
   "id": "3f5d9e46",
   "metadata": {},
   "outputs": [],
   "source": []
  },
  {
   "cell_type": "code",
   "execution_count": null,
   "id": "664ae04f",
   "metadata": {},
   "outputs": [],
   "source": []
  },
  {
   "cell_type": "code",
   "execution_count": null,
   "id": "32f3525d",
   "metadata": {},
   "outputs": [],
   "source": []
  },
  {
   "cell_type": "code",
   "execution_count": null,
   "id": "9f49d993",
   "metadata": {},
   "outputs": [],
   "source": []
  },
  {
   "cell_type": "code",
   "execution_count": null,
   "id": "8dde1053",
   "metadata": {},
   "outputs": [],
   "source": []
  },
  {
   "cell_type": "code",
   "execution_count": null,
   "id": "d4a14969",
   "metadata": {},
   "outputs": [],
   "source": []
  }
 ],
 "metadata": {
  "kernelspec": {
   "display_name": "Python 3 (ipykernel)",
   "language": "python",
   "name": "python3"
  },
  "language_info": {
   "codemirror_mode": {
    "name": "ipython",
    "version": 3
   },
   "file_extension": ".py",
   "mimetype": "text/x-python",
   "name": "python",
   "nbconvert_exporter": "python",
   "pygments_lexer": "ipython3",
   "version": "3.11.3"
  }
 },
 "nbformat": 4,
 "nbformat_minor": 5
}
