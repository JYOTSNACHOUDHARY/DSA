{
 "cells": [
  {
   "cell_type": "markdown",
   "id": "48a70bc5",
   "metadata": {},
   "source": [
    "#### Implementation of Binary Tree"
   ]
  },
  {
   "cell_type": "code",
   "execution_count": null,
   "id": "7a36e012",
   "metadata": {},
   "outputs": [],
   "source": [
    "class Node:\n",
    "    def __init__(self,val):\n",
    "        self.val = val\n",
    "        self.right = None\n",
    "        self.left = None\n",
    "\n",
    "root = Node(1)\n",
    "root.left = Node(2)\n",
    "root.right = Node(3)\n",
    "root.left.left = Node(4)\n",
    "root.left.right = Node(5)"
   ]
  },
  {
   "cell_type": "markdown",
   "id": "8d409c03",
   "metadata": {},
   "source": [
    "A Tree Data Structure can be traversed in following ways: <br>\n",
    "    1.Depth First Search or DFS:<br>\n",
    "        * Inorder Traversal<br>\n",
    "        * Preorder Traversal<br>\n",
    "        * Postorder Traversal<br>\n",
    "    2. Level Order Traversal or Breadth First Search or BFS<br>\n",
    "    3. Boundary Traversal<br>\n",
    "    4. Diagonal Traversal<br>"
   ]
  },
  {
   "cell_type": "code",
   "execution_count": 5,
   "id": "1af0c34a",
   "metadata": {},
   "outputs": [
    {
     "name": "stdout",
     "output_type": "stream",
     "text": [
      "Preorde Traversal of Tree:\n",
      "1 2 4 5 3 "
     ]
    }
   ],
   "source": [
    "# Inorder\n",
    "# left subtree -> root > right subtree\n",
    "class Node:\n",
    "    def __init__(self,val):\n",
    "        self.val = val\n",
    "        self.right = None\n",
    "        self.left = None\n",
    "def printInorder(root):\n",
    "    if root:\n",
    "        printInorder(root.left)\n",
    "        print(root.val,end=\" \")\n",
    "        printInorder(root.right)\n",
    "\n",
    "def printPreorder(root):\n",
    "    if root:\n",
    "        print(root.val,end=\" \")\n",
    "        printPreorder(root.left)\n",
    "        printPreorder(root.right)\n",
    "\n",
    "\n",
    "root = Node(1)\n",
    "root.left = Node(2)\n",
    "root.right = Node(3)\n",
    "root.left.left = Node(4)\n",
    "root.left.right = Node(5)\n",
    "print(\"Preorde Traversal of Tree:\")\n",
    "printPreorder(root)"
   ]
  },
  {
   "cell_type": "code",
   "execution_count": 20,
   "id": "64b99972",
   "metadata": {},
   "outputs": [
    {
     "name": "stdout",
     "output_type": "stream",
     "text": [
      "Level Order Traversal of Tree:\n",
      "1 2 3 4 5 7 6 "
     ]
    }
   ],
   "source": [
    "#Level Order Traversal\n",
    "class Node:\n",
    "    def __init__(self,val):\n",
    "        self.val = val\n",
    "        self.right = None\n",
    "        self.left = None\n",
    "        \n",
    "class Queue:\n",
    "    def __init__(self):\n",
    "        self.queue = []\n",
    "    def add_child(self,vals):\n",
    "        self.queue.extend(vals)\n",
    "    def dequeue(self):\n",
    "        if len(self.queue) > 0:\n",
    "            node = self.queue.pop(0)\n",
    "            return node\n",
    "        else:\n",
    "            return None\n",
    "        \n",
    "def get_child_nodes(root):\n",
    "    child_nodes = []\n",
    "    if root.left:\n",
    "        child_nodes.append(root.left)\n",
    "    if root.right:\n",
    "        child_nodes.append(root.right)\n",
    "    return child_nodes\n",
    "        \n",
    "def LevelOrderTraversal(root,queue):\n",
    "    if root:\n",
    "        print(root.val, end=\" \")\n",
    "        child_nodes = get_child_nodes(root)\n",
    "#         for each in child_nodes:\n",
    "#             print(f\"root node: {root.val} child_node {each.val}\",end=\" \")\n",
    "        queue.add_child(child_nodes)\n",
    "        LevelOrderTraversal(queue.dequeue(),queue)\n",
    "\n",
    "\n",
    "root = Node(1)\n",
    "root.left = Node(2)\n",
    "root.right = Node(3)\n",
    "root.left.left = Node(4)\n",
    "root.right.left = Node(5)\n",
    "root.right.left.right = Node(6)\n",
    "root.left.left.left = Node(7)\n",
    "queue = Queue()\n",
    "print(\"Level Order Traversal of Tree:\")\n",
    "LevelOrderTraversal(root,queue)       \n",
    "        \n",
    "        "
   ]
  },
  {
   "cell_type": "code",
   "execution_count": null,
   "id": "e79b025c",
   "metadata": {},
   "outputs": [],
   "source": []
  },
  {
   "cell_type": "code",
   "execution_count": null,
   "id": "ea6d385b",
   "metadata": {},
   "outputs": [],
   "source": []
  },
  {
   "cell_type": "code",
   "execution_count": null,
   "id": "58ded556",
   "metadata": {},
   "outputs": [],
   "source": []
  },
  {
   "cell_type": "code",
   "execution_count": null,
   "id": "1568215a",
   "metadata": {},
   "outputs": [],
   "source": []
  }
 ],
 "metadata": {
  "kernelspec": {
   "display_name": "Python 3 (ipykernel)",
   "language": "python",
   "name": "python3"
  },
  "language_info": {
   "codemirror_mode": {
    "name": "ipython",
    "version": 3
   },
   "file_extension": ".py",
   "mimetype": "text/x-python",
   "name": "python",
   "nbconvert_exporter": "python",
   "pygments_lexer": "ipython3",
   "version": "3.11.3"
  }
 },
 "nbformat": 4,
 "nbformat_minor": 5
}
