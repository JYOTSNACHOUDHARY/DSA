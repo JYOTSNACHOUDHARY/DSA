{
 "cells": [
  {
   "cell_type": "markdown",
   "id": "48a70bc5",
   "metadata": {},
   "source": [
    "#### Implementation of Binary Tree"
   ]
  },
  {
   "cell_type": "code",
   "execution_count": 2,
   "id": "7a36e012",
   "metadata": {},
   "outputs": [],
   "source": [
    "class Node:\n",
    "    def __init__(self,val):\n",
    "        self.val = val\n",
    "        self.right = None\n",
    "        self.left = None\n",
    "\n",
    "root = Node(1)\n",
    "root.left = Node(2)\n",
    "root.right = Node(3)\n",
    "root.left.left = Node(4)\n",
    "root.left.right = Node(5)"
   ]
  },
  {
   "cell_type": "markdown",
   "id": "8d409c03",
   "metadata": {},
   "source": [
    "A Tree Data Structure can be traversed in following ways: <br>\n",
    "    1.Depth First Search or DFS:<br>\n",
    "        * Inorder Traversal<br>\n",
    "        * Preorder Traversal<br>\n",
    "        * Postorder Traversal<br>\n",
    "    2. Level Order Traversal or Breadth First Search or BFS<br>\n",
    "    3. Boundary Traversal<br>\n",
    "    4. Diagonal Traversal<br>"
   ]
  },
  {
   "cell_type": "code",
   "execution_count": 5,
   "id": "1af0c34a",
   "metadata": {},
   "outputs": [
    {
     "name": "stdout",
     "output_type": "stream",
     "text": [
      "Preorde Traversal of Tree:\n",
      "1 2 4 5 3 "
     ]
    }
   ],
   "source": [
    "# Inorder\n",
    "# left subtree -> root > right subtree\n",
    "class Node:\n",
    "    def __init__(self,val):\n",
    "        self.val = val\n",
    "        self.right = None\n",
    "        self.left = None\n",
    "def printInorder(root):\n",
    "    if root:\n",
    "        printInorder(root.left)\n",
    "        print(root.val,end=\" \")\n",
    "        printInorder(root.right)\n",
    "\n",
    "def printPreorder(root):\n",
    "    if root:\n",
    "        print(root.val,end=\" \")\n",
    "        printPreorder(root.left)\n",
    "        printPreorder(root.right)\n",
    "\n",
    "\n",
    "root = Node(1)\n",
    "root.left = Node(2)\n",
    "root.right = Node(3)\n",
    "root.left.left = Node(4)\n",
    "root.left.right = Node(5)\n",
    "print(\"Preorde Traversal of Tree:\")\n",
    "printPreorder(root)"
   ]
  },
  {
   "cell_type": "code",
   "execution_count": 20,
   "id": "64b99972",
   "metadata": {},
   "outputs": [
    {
     "name": "stdout",
     "output_type": "stream",
     "text": [
      "Level Order Traversal of Tree:\n",
      "1 2 3 4 5 7 6 "
     ]
    }
   ],
   "source": [
    "#Level Order Traversal\n",
    "class Node:\n",
    "    def __init__(self,val):\n",
    "        self.val = val\n",
    "        self.right = None\n",
    "        self.left = None\n",
    "        \n",
    "class Queue:\n",
    "    def __init__(self):\n",
    "        self.queue = []\n",
    "    def add_child(self,vals):\n",
    "        self.queue.extend(vals)\n",
    "    def dequeue(self):\n",
    "        if len(self.queue) > 0:\n",
    "            node = self.queue.pop(0)\n",
    "            return node\n",
    "        else:\n",
    "            return None\n",
    "        \n",
    "def get_child_nodes(root):\n",
    "    child_nodes = []\n",
    "    if root.left:\n",
    "        child_nodes.append(root.left)\n",
    "    if root.right:\n",
    "        child_nodes.append(root.right)\n",
    "    return child_nodes\n",
    "        \n",
    "def LevelOrderTraversal(root,queue):\n",
    "    if root:\n",
    "        print(root.val, end=\" \")\n",
    "        child_nodes = get_child_nodes(root)\n",
    "#         for each in child_nodes:\n",
    "#             print(f\"root node: {root.val} child_node {each.val}\",end=\" \")\n",
    "        queue.add_child(child_nodes)\n",
    "        LevelOrderTraversal(queue.dequeue(),queue)\n",
    "\n",
    "\n",
    "root = Node(1)\n",
    "root.left = Node(2)\n",
    "root.right = Node(3)\n",
    "root.left.left = Node(4)\n",
    "root.right.left = Node(5)\n",
    "root.right.left.right = Node(6)\n",
    "root.left.left.left = Node(7)\n",
    "queue = Queue()\n",
    "print(\"Level Order Traversal of Tree:\")\n",
    "LevelOrderTraversal(root,queue)       \n",
    "        \n",
    "        "
   ]
  },
  {
   "cell_type": "markdown",
   "id": "ef7a8af9",
   "metadata": {},
   "source": [
    "# Binary Tree Maximum Path Sum\n",
    "A path in a binary tree is a sequence of nodes where each pair of adjacent nodes in the sequence has an edge connecting them. A node can only appear in the sequence at most once. Note that the path does not need to pass through the root.\n",
    "\n",
    "The path sum of a path is the sum of the node's values in the path\n",
    "\n",
    "Solution:\n",
    "### Intuition\n",
    "My initial thought is that we should determine the highest potential path sum at every node. To do this, we'll recursively examine the maximum sum achieved from the left node followed by the right node.\n",
    "\n",
    "### Approach\n",
    "* First call the function recursively on the left node and right node to get max possible sum at respective nodes.\n",
    "\n",
    "* Given that nodes can hold negative values, I'm utilizing a fixed-size list to retain the output of right and left subtree recursion only when those values are positive.\n",
    "\n",
    "* The sum of positive values stored in the list are compared with global max to get the max sum of the path passing through the current node.\n",
    "\n",
    "* Next, we send back the sum of the root value and the maximum between the left and right subtree values to the parent node.\n",
    "\n",
    "Time complexity: O(n) since each node is visited exactly once\n",
    "\n",
    "Space complexity: O(h) height of recursion tree"
   ]
  },
  {
   "cell_type": "code",
   "execution_count": 3,
   "id": "ea6d385b",
   "metadata": {},
   "outputs": [
    {
     "name": "stdout",
     "output_type": "stream",
     "text": [
      "Max Path sum of Tree:\n"
     ]
    },
    {
     "data": {
      "text/plain": [
       "28"
      ]
     },
     "execution_count": 3,
     "metadata": {},
     "output_type": "execute_result"
    }
   ],
   "source": [
    "def get_max_sum(root, max_sum):\n",
    "        if not root:\n",
    "            return 0\n",
    "        left_st = get_max_sum(root.left, max_sum)\n",
    "        right_st = get_max_sum(root.right, max_sum)\n",
    "\n",
    "        list = [root.val]\n",
    "        if left_st >= 0:\n",
    "            list.append(left_st)\n",
    "        if right_st > 0:\n",
    "            list.append(right_st)\n",
    "\n",
    "        max_sum[0] = max(max_sum[0], sum(list))\n",
    "        \n",
    "        if  max(left_st,right_st) >= 0:\n",
    "            return root.val + max(left_st,right_st)\n",
    "        else:\n",
    "            return root.val\n",
    "\n",
    "def maxPathSum(root):\n",
    "        \"\"\"\n",
    "        :type root: TreeNode\n",
    "        :rtype: int\n",
    "        \"\"\"\n",
    "        max_sum = [float('-inf')]\n",
    "        get_max_sum(root,max_sum)\n",
    "        return max_sum[0]\n",
    "\n",
    "root = Node(1)\n",
    "root.left = Node(2)\n",
    "root.right = Node(3)\n",
    "root.left.left = Node(4)\n",
    "root.right.left = Node(5)\n",
    "root.right.left.right = Node(6)\n",
    "root.left.left.left = Node(7)\n",
    "print(\"Max Path sum of Tree:\")\n",
    "maxPathSum(root)      \n",
    "           "
   ]
  },
  {
   "cell_type": "markdown",
   "id": "fe3d427d",
   "metadata": {},
   "source": [
    "# Given the roots of two binary trees p and q, write a function to check if they are the same or not.\n",
    "\n",
    "Approrach - \n",
    "* The base case is when both trees, p and q, are None. In this case, they are considered identical, so we return True.\n",
    "* If either p or q is None (but not both), it means the trees have different structures, so we return False.\n",
    "* If the values of the current nodes in p and q are not equal, we return False, as the trees cannot be identical.\n",
    "* We recursively check if the left subtrees of p and q are identical, and likewise for the right subtrees.\n",
    "* The function returns True only if all conditions are met.\n",
    "\n",
    "**Complexities:**\n",
    "\n",
    "Time complexity:\n",
    "The function recursively visits every node in both trees once. Therefore, the time complexity is O(n)\n",
    "\n",
    "Space complexity:\n",
    "In the worst case, when the trees are completely unbalanced, the depth could be n. In the best case, for balanced trees, the depth is log(n). Thus, the space complexity is O(n) in the worst case and O(log n) in the best case."
   ]
  },
  {
   "cell_type": "code",
   "execution_count": 4,
   "id": "1568215a",
   "metadata": {},
   "outputs": [],
   "source": [
    "def isSameTree(self, p, q):\n",
    "        \"\"\"\n",
    "        :type p: TreeNode\n",
    "        :type q: TreeNode\n",
    "        :rtype: bool\n",
    "        \"\"\"\n",
    "        if not p and not q:\n",
    "            return True\n",
    "\n",
    "        if not p or not q or p.val != q.val:\n",
    "            return False\n",
    "        \n",
    "\n",
    "        ltree = self.isSameTree(p.left, q.left)\n",
    "        rtree = self.isSameTree(p.right, q.right)\n",
    "\n",
    "        return self.isSameTree(p.left, q.left) and self.isSameTree(p.right, q.right)"
   ]
  }
 ],
 "metadata": {
  "kernelspec": {
   "display_name": "Python 3 (ipykernel)",
   "language": "python",
   "name": "python3"
  },
  "language_info": {
   "codemirror_mode": {
    "name": "ipython",
    "version": 3
   },
   "file_extension": ".py",
   "mimetype": "text/x-python",
   "name": "python",
   "nbconvert_exporter": "python",
   "pygments_lexer": "ipython3",
   "version": "3.11.3"
  }
 },
 "nbformat": 4,
 "nbformat_minor": 5
}
