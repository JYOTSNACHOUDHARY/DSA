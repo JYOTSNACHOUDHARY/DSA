{
 "cells": [
  {
   "cell_type": "markdown",
   "id": "48a70bc5",
   "metadata": {},
   "source": [
    "# Implementation of Binary Tree"
   ]
  },
  {
   "cell_type": "code",
   "execution_count": 5,
   "id": "e566fd19",
   "metadata": {},
   "outputs": [],
   "source": [
    "class Node:\n",
    "    def __init__(self,val):\n",
    "        self.val = val\n",
    "        self.right = None\n",
    "        self.left = None"
   ]
  },
  {
   "cell_type": "code",
   "execution_count": 8,
   "id": "7a36e012",
   "metadata": {},
   "outputs": [],
   "source": [
    "root = Node(1)\n",
    "root.left = Node(2)\n",
    "root.right = Node(3)\n",
    "root.left.left = Node(4)\n",
    "root.left.right = Node(5)"
   ]
  },
  {
   "cell_type": "markdown",
   "id": "8d409c03",
   "metadata": {},
   "source": [
    "**A Tree Data Structure can be traversed in following ways:** <br>\n",
    "    1.Depth First Search or DFS:<br>\n",
    "        * Inorder Traversal<br>\n",
    "        * Preorder Traversal<br>\n",
    "        * Postorder Traversal<br>\n",
    "    2. Level Order Traversal or Breadth First Search or BFS<br>\n",
    "    3. Boundary Traversal<br>\n",
    "    4. Diagonal Traversal<br>"
   ]
  },
  {
   "cell_type": "code",
   "execution_count": 5,
   "id": "1af0c34a",
   "metadata": {},
   "outputs": [
    {
     "name": "stdout",
     "output_type": "stream",
     "text": [
      "Preorde Traversal of Tree:\n",
      "1 2 4 5 3 "
     ]
    }
   ],
   "source": [
    "# Inorder\n",
    "# left subtree -> root > right subtree\n",
    "class Node:\n",
    "    def __init__(self,val):\n",
    "        self.val = val\n",
    "        self.right = None\n",
    "        self.left = None\n",
    "def printInorder(root):\n",
    "    if root:\n",
    "        printInorder(root.left)\n",
    "        print(root.val,end=\" \")\n",
    "        printInorder(root.right)\n",
    "\n",
    "def printPreorder(root):\n",
    "    if root:\n",
    "        print(root.val,end=\" \")\n",
    "        printPreorder(root.left)\n",
    "        printPreorder(root.right)\n",
    "\n",
    "\n",
    "root = Node(1)\n",
    "root.left = Node(2)\n",
    "root.right = Node(3)\n",
    "root.left.left = Node(4)\n",
    "root.left.right = Node(5)\n",
    "print(\"Preorde Traversal of Tree:\")\n",
    "printPreorder(root)"
   ]
  },
  {
   "cell_type": "code",
   "execution_count": 20,
   "id": "64b99972",
   "metadata": {},
   "outputs": [
    {
     "name": "stdout",
     "output_type": "stream",
     "text": [
      "Level Order Traversal of Tree:\n",
      "1 2 3 4 5 7 6 "
     ]
    }
   ],
   "source": [
    "#Level Order Traversal\n",
    "class Node:\n",
    "    def __init__(self,val):\n",
    "        self.val = val\n",
    "        self.right = None\n",
    "        self.left = None\n",
    "        \n",
    "class Queue:\n",
    "    def __init__(self):\n",
    "        self.queue = []\n",
    "    def add_child(self,vals):\n",
    "        self.queue.extend(vals)\n",
    "    def dequeue(self):\n",
    "        if len(self.queue) > 0:\n",
    "            node = self.queue.pop(0)\n",
    "            return node\n",
    "        else:\n",
    "            return None\n",
    "        \n",
    "def get_child_nodes(root):\n",
    "    child_nodes = []\n",
    "    if root.left:\n",
    "        child_nodes.append(root.left)\n",
    "    if root.right:\n",
    "        child_nodes.append(root.right)\n",
    "    return child_nodes\n",
    "        \n",
    "def LevelOrderTraversal(root,queue):\n",
    "    if root:\n",
    "        print(root.val, end=\" \")\n",
    "        child_nodes = get_child_nodes(root)\n",
    "#         for each in child_nodes:\n",
    "#             print(f\"root node: {root.val} child_node {each.val}\",end=\" \")\n",
    "        queue.add_child(child_nodes)\n",
    "        LevelOrderTraversal(queue.dequeue(),queue)\n",
    "\n",
    "\n",
    "root = Node(1)\n",
    "root.left = Node(2)\n",
    "root.right = Node(3)\n",
    "root.left.left = Node(4)\n",
    "root.right.left = Node(5)\n",
    "root.right.left.right = Node(6)\n",
    "root.left.left.left = Node(7)\n",
    "queue = Queue()\n",
    "print(\"Level Order Traversal of Tree:\")\n",
    "LevelOrderTraversal(root,queue)       \n",
    "        \n",
    "        "
   ]
  },
  {
   "cell_type": "markdown",
   "id": "6a4524d4",
   "metadata": {},
   "source": [
    "# Preorder, Inorder, postorder in one Traversal"
   ]
  },
  {
   "cell_type": "code",
   "execution_count": 1,
   "id": "e79b025c",
   "metadata": {},
   "outputs": [],
   "source": [
    "# Iteratively Preorder\n",
    "def preorderTraversal(self, root):\n",
    "        \"\"\"\n",
    "        :type root: TreeNode\n",
    "        :rtype: List[int]\n",
    "        \"\"\"\n",
    "        stack = []\n",
    "        if root:\n",
    "            stack.append(root)\n",
    "        ans = []\n",
    "        while len(stack) > 0:\n",
    "            curr_node = stack.pop()\n",
    "            ans.append(curr_node.val)\n",
    "            if curr_node.right:\n",
    "                stack.append(curr_node.right)\n",
    "            if curr_node.left:\n",
    "                stack.append(curr_node.left)\n",
    "        return ans\n",
    "            "
   ]
  },
  {
   "cell_type": "markdown",
   "id": "be815bde",
   "metadata": {},
   "source": [
    "# Preorder, Inorder, postorder in one Traversal"
   ]
  },
  {
   "cell_type": "code",
   "execution_count": 10,
   "id": "ea6d385b",
   "metadata": {},
   "outputs": [
    {
     "name": "stdout",
     "output_type": "stream",
     "text": [
      "[3, 2, 4, 1, 6, 5, 7] [1, 2, 3, 4, 5, 6, 7] [3, 4, 2, 6, 7, 5, 1]\n"
     ]
    }
   ],
   "source": [
    "class Node:\n",
    "    def __init__(self,val):\n",
    "        self.val = val\n",
    "        self.right = None\n",
    "        self.left = None\n",
    "\n",
    "def traverse_all_3(root):\n",
    "    stack = []\n",
    "    if root:\n",
    "        stack.append((root,1))\n",
    "    inorder = []\n",
    "    preorder = []\n",
    "    postorder = []\n",
    "    \n",
    "    while len(stack) > 0:\n",
    "        curr = stack.pop()\n",
    "        if curr[1] == 1:\n",
    "            preorder.append(curr[0].val)\n",
    "            stack.append((curr[0],2))\n",
    "            if curr[0].left:\n",
    "                stack.append((curr[0].left,1))\n",
    "            \n",
    "        elif curr[1] == 2:\n",
    "            inorder.append(curr[0].val)\n",
    "            stack.append((curr[0],3))\n",
    "            if curr[0].right:\n",
    "                stack.append((curr[0].right,1)) \n",
    "        else:\n",
    "            postorder.append(curr[0].val)\n",
    "    return inorder, preorder, postorder\n",
    "\n",
    "\n",
    "root = Node(1)\n",
    "root.left = Node(2)\n",
    "root.right = Node(5)\n",
    "root.left.left = Node(3)\n",
    "root.left.right = Node(4)\n",
    "root.right.left = Node(6)\n",
    "root.right.right = Node(7)\n",
    "\n",
    "inorder, preorder, postorder = traverse_all_3(root)\n",
    "print(inorder, preorder, postorder)\n",
    "        \n",
    "        \n",
    "        \n",
    "        \n",
    "        \n",
    "        \n",
    "        \n",
    "        "
   ]
  },
  {
   "cell_type": "markdown",
   "id": "8d7050a4",
   "metadata": {},
   "source": [
    "##  Inorder using Stacks"
   ]
  },
  {
   "cell_type": "code",
   "execution_count": 17,
   "id": "58ded556",
   "metadata": {},
   "outputs": [
    {
     "data": {
      "text/plain": [
       "[3, 2, 4, 1, 6, 5, 7]"
      ]
     },
     "execution_count": 17,
     "metadata": {},
     "output_type": "execute_result"
    }
   ],
   "source": [
    "def inorder(root):\n",
    "    stack = []\n",
    "    curr = root\n",
    "    ans = []\n",
    "    while True:\n",
    "        if curr:\n",
    "            stack.append(curr)\n",
    "            curr = curr.left\n",
    "        else:\n",
    "            if len(stack) == 0:\n",
    "                break\n",
    "            curr = stack.pop()\n",
    "            ans.append(curr.val)\n",
    "            curr = curr.right\n",
    "            \n",
    "    return ans\n",
    "\n",
    "root = Node(1)\n",
    "root.left = Node(2)\n",
    "root.right = Node(5)\n",
    "root.left.left = Node(3)\n",
    "root.left.right = Node(4)\n",
    "root.right.left = Node(6)\n",
    "root.right.right = Node(7)\n",
    "inorder(root)            \n",
    "        "
   ]
  },
  {
   "cell_type": "markdown",
   "id": "0d88ed3a",
   "metadata": {},
   "source": [
    "# Find the depth of the Tree\n",
    "\n",
    "* The function maxDepth takes a binary tree node 'root' as input and returns an integer, which is the maximum depth of the tree.\n",
    "* The base case is when 'root' is None, which means the tree is empty and has no depth, so the function returns 0.\n",
    "* If the tree is not empty, the function recursively calculates the maximum depth of the left and right subtrees.\n",
    "* It then takes the maximum of these two values and adds 1 to account for the current level.\n",
    "* The result is the maximum depth of the tree.\n",
    "\n",
    "Complexity\n",
    "\n",
    "Time complexity: O(n) where 'n' is the number of nodes in the tree. The function visits each node exactly once.\n",
    "\n",
    "Space complexity: O(h) where 'h' is the height of the tree. This represents the maximum depth of the call stack during recursion."
   ]
  },
  {
   "cell_type": "code",
   "execution_count": 22,
   "id": "e59c4892",
   "metadata": {},
   "outputs": [
    {
     "data": {
      "text/plain": [
       "3"
      ]
     },
     "execution_count": 22,
     "metadata": {},
     "output_type": "execute_result"
    }
   ],
   "source": [
    "def maxDepth(root):\n",
    "        \"\"\"\n",
    "        :type root: TreeNode\n",
    "        :rtype: int\n",
    "        \"\"\"\n",
    "        if not root:\n",
    "            return 0\n",
    "        \n",
    "        left = 1 + maxDepth(root.left)\n",
    "        right = 1 + maxDepth(root.right)\n",
    "\n",
    "        max_depth = max(left,right)\n",
    "        return max_depth\n",
    "\n",
    "maxDepth(root)"
   ]
  },
  {
   "cell_type": "markdown",
   "id": "2c7d4387",
   "metadata": {},
   "source": [
    "# Check if a Binary Tree is Balanaced\n",
    "### Intuition\n",
    "\n",
    "To determine if a binary tree is balanced, we need to check if the heights of its left and right subtrees differ by at most 1. We can recursively traverse the tree and calculate the height of each subtree, comparing them as we go.\n",
    "\n",
    "* Time complexity: O(n) where 'n' is the number of nodes in the tree. The function visits each node exactly once.\n",
    "* Space complexity: O(h) where 'h' is the height of the tree. This represents the maximum depth of the call stack during recursion."
   ]
  },
  {
   "cell_type": "code",
   "execution_count": 21,
   "id": "8b5af328",
   "metadata": {},
   "outputs": [
    {
     "data": {
      "text/plain": [
       "True"
      ]
     },
     "execution_count": 21,
     "metadata": {},
     "output_type": "execute_result"
    }
   ],
   "source": [
    "def check_if_balanced(root,curr):\n",
    "        if not curr:\n",
    "            return True \n",
    "    \n",
    "        left_depth = check_if_balanced(root, curr.left)\n",
    "        right_depth = check_if_balanced(root, curr.right)\n",
    "        \n",
    "        if left_depth == False or right_depth == False or abs(left_depth - right_depth) > 1:\n",
    "            return False\n",
    "\n",
    "        if curr == root:\n",
    "            return True\n",
    "\n",
    "        return max(left_depth, right_depth) + 1\n",
    "        \n",
    "\n",
    "def isBalanced(root):\n",
    "    \"\"\"\n",
    "    :type root: TreeNode\n",
    "    :rtype: bool\n",
    "    \"\"\"\n",
    "    curr = root\n",
    "    is_balanced = check_if_balanced(root,curr)\n",
    "    return is_balanced \n",
    "\n",
    "isBalanced(root)\n"
   ]
  },
  {
   "cell_type": "markdown",
   "id": "19ffc4a7",
   "metadata": {},
   "source": [
    "# Find the Diameter of the Tree\n",
    "\n",
    "The diameter of a binary tree is the length of the longest path between any two nodes in a tree. This path may or may not pass through the root.\n",
    "\n",
    "The length of a path between two nodes is represented by the number of edges between them.\n",
    "\n",
    "**Approach** -\n",
    "\n",
    "* This function calculates the length of the longest path starting from a given node.\n",
    "* It recursively calls itself on the left and right subtrees to find the longest paths in those directions.\n",
    "* The maximum diameter is updated using max(max_length[0], left_path + right_path).\n",
    "* The function returns 1 + max(left_path, right_path) to represent the depth of the current node.\n",
    "* Function: diameterOfBinaryTree - wrapper function\n",
    "    -- It initializes max_length as a list with a single element\n",
    "    -- It then calls get_longest_path with the root node and the max_length list and the ans is update in max_length array.\n",
    "    Complexity\n",
    "\n",
    "Time complexity:O(n). The code visits each node exactly once.\n",
    "\n",
    "Space complexity: O(h) where 'h' is the height of the binary tree. This represents the maximum depth of the call stack during recursion."
   ]
  },
  {
   "cell_type": "code",
   "execution_count": 24,
   "id": "e21fd22d",
   "metadata": {},
   "outputs": [
    {
     "data": {
      "text/plain": [
       "4"
      ]
     },
     "execution_count": 24,
     "metadata": {},
     "output_type": "execute_result"
    }
   ],
   "source": [
    "def get_longest_path(root, max_length):\n",
    "        if not root:\n",
    "            return 0\n",
    "        left_path = get_longest_path(root.left,max_length)\n",
    "        right_path = get_longest_path(root.right,max_length)\n",
    "        max_length[0] = max(max_length[0],left_path + right_path)\n",
    "        return 1 + max(left_path, right_path)\n",
    "        \n",
    "def diameterOfBinaryTree(root):\n",
    "    max_length = [float(\"-inf\")]\n",
    "    get_longest_path(root, max_length)\n",
    "    return max_length[0]\n",
    "\n",
    "diameterOfBinaryTree(root)"
   ]
  },
  {
   "cell_type": "markdown",
   "id": "a9f1d6b1",
   "metadata": {},
   "source": [
    "# Binary Tree Maximum Path Sum\n",
    "A path in a binary tree is a sequence of nodes where each pair of adjacent nodes in the sequence has an edge connecting them. A node can only appear in the sequence at most once. Note that the path does not need to pass through the root.\n",
    "\n",
    "The path sum of a path is the sum of the node's values in the path\n",
    "\n",
    "Solution:\n",
    "### Intuition\n",
    "My initial thought is that we should determine the highest potential path sum at every node. To do this, we'll recursively examine the maximum sum achieved from the left node followed by the right node.\n",
    "\n",
    "### Approach\n",
    "* First call the function recursively on the left node and right node to get max possible sum at respective nodes.\n",
    "\n",
    "* Given that nodes can hold negative values, I'm utilizing a fixed-size list to retain the output of right and left subtree recursion only when those values are positive.\n",
    "\n",
    "* The sum of positive values stored in the list are compared with global max to get the max sum of the path passing through the current node.\n",
    "\n",
    "* Next, we send back the sum of the root value and the maximum between the left and right subtree values to the parent node.\n",
    "\n",
    "Time complexity: O(n) since each node is visited exactly once\n",
    "\n",
    "Space complexity: O(h) height of recursion tree"
   ]
  },
  {
   "cell_type": "code",
   "execution_count": 3,
   "id": "918763de",
   "metadata": {},
   "outputs": [
    {
     "name": "stdout",
     "output_type": "stream",
     "text": [
      "Max Path sum of Tree:\n"
     ]
    },
    {
     "data": {
      "text/plain": [
       "28"
      ]
     },
     "execution_count": 3,
     "metadata": {},
     "output_type": "execute_result"
    }
   ],
   "source": [
    "def get_max_sum(root, max_sum):\n",
    "        if not root:\n",
    "            return 0\n",
    "        left_st = get_max_sum(root.left, max_sum)\n",
    "        right_st = get_max_sum(root.right, max_sum)\n",
    "\n",
    "        list = [root.val]\n",
    "        if left_st >= 0:\n",
    "            list.append(left_st)\n",
    "        if right_st > 0:\n",
    "            list.append(right_st)\n",
    "\n",
    "        max_sum[0] = max(max_sum[0], sum(list))\n",
    "        \n",
    "        if  max(left_st,right_st) >= 0:\n",
    "            return root.val + max(left_st,right_st)\n",
    "        else:\n",
    "            return root.val\n",
    "\n",
    "def maxPathSum(root):\n",
    "        \"\"\"\n",
    "        :type root: TreeNode\n",
    "        :rtype: int\n",
    "        \"\"\"\n",
    "        max_sum = [float('-inf')]\n",
    "        get_max_sum(root,max_sum)\n",
    "        return max_sum[0]\n",
    "\n",
    "root = Node(1)\n",
    "root.left = Node(2)\n",
    "root.right = Node(3)\n",
    "root.left.left = Node(4)\n",
    "root.right.left = Node(5)\n",
    "root.right.left.right = Node(6)\n",
    "root.left.left.left = Node(7)\n",
    "print(\"Max Path sum of Tree:\")\n",
    "maxPathSum(root)      \n",
    "           "
   ]
  },
  {
   "cell_type": "markdown",
   "id": "de82b2ea",
   "metadata": {},
   "source": [
    "# Given the roots of two binary trees p and q, write a function to check if they are the same or not.\n",
    "\n",
    "Approrach - \n",
    "* The base case is when both trees, p and q, are None. In this case, they are considered identical, so we return True.\n",
    "* If either p or q is None (but not both), it means the trees have different structures, so we return False.\n",
    "* If the values of the current nodes in p and q are not equal, we return False, as the trees cannot be identical.\n",
    "* We recursively check if the left subtrees of p and q are identical, and likewise for the right subtrees.\n",
    "* The function returns True only if all conditions are met.\n",
    "\n",
    "**Complexities:**\n",
    "\n",
    "Time complexity:\n",
    "The function recursively visits every node in both trees once. Therefore, the time complexity is O(n)\n",
    "\n",
    "Space complexity:\n",
    "In the worst case, when the trees are completely unbalanced, the depth could be n. In the best case, for balanced trees, the depth is log(n). Thus, the space complexity is O(n) in the worst case and O(log n) in the best case."
   ]
  },
  {
   "cell_type": "code",
   "execution_count": 4,
   "id": "1568215a",
   "metadata": {},
   "outputs": [],
   "source": [
    "def isSameTree(self, p, q):\n",
    "        \"\"\"\n",
    "        :type p: TreeNode\n",
    "        :type q: TreeNode\n",
    "        :rtype: bool\n",
    "        \"\"\"\n",
    "        if not p and not q:\n",
    "            return True\n",
    "\n",
    "        if not p or not q or p.val != q.val:\n",
    "            return False\n",
    "        \n",
    "\n",
    "        ltree = self.isSameTree(p.left, q.left)\n",
    "        rtree = self.isSameTree(p.right, q.right)\n",
    "\n",
    "        return self.isSameTree(p.left, q.left) and self.isSameTree(p.right, q.right)"
   ]
  },
  {
   "cell_type": "code",
   "execution_count": 5,
   "id": "3f5d9e46",
   "metadata": {},
   "outputs": [
    {
     "name": "stdout",
     "output_type": "stream",
     "text": [
      "Leaf nodes are:\n"
     ]
    },
    {
     "data": {
      "text/plain": [
       "[7, 6]"
      ]
     },
     "execution_count": 5,
     "metadata": {},
     "output_type": "execute_result"
    }
   ],
   "source": [
    "def get_leaf_node(root, leaf_nodes):\n",
    "    if not root:\n",
    "        return 0\n",
    "    left = get_leaf_node(root.left, leaf_nodes)\n",
    "    right = get_leaf_node(root.right, leaf_nodes)\n",
    "    if right == 0 and left == 0:\n",
    "        leaf_nodes.append(root.val)\n",
    "        \n",
    "root = Node(1)\n",
    "root.left = Node(2)\n",
    "root.right = Node(3)\n",
    "root.left.left = Node(4)\n",
    "root.right.left = Node(5)\n",
    "root.right.left.right = Node(6)\n",
    "root.left.left.left = Node(7)\n",
    "print(\"Leaf nodes are:\")\n",
    "leaf_nodes = []\n",
    "get_leaf_node(root, leaf_nodes)\n",
    "leaf_nodes\n"
   ]
  },
  {
   "cell_type": "markdown",
   "id": "4fc6bdf7",
   "metadata": {},
   "source": [
    "# Boundary Traversal\n",
    "\n",
    "Approach: \n",
    "1. Traverse left Boundary except leaves\n",
    "2. Tarverse leaf nodes\n",
    "3. traverse right Boundary nodes and then reverse it\n",
    "4. Add results of 1. 2. 3. in ans [] list"
   ]
  },
  {
   "cell_type": "code",
   "execution_count": 14,
   "id": "664ae04f",
   "metadata": {},
   "outputs": [],
   "source": [
    "def get_leaf_node(root, leaf_nodes):\n",
    "    if not root:\n",
    "        return 0\n",
    "    left = get_leaf_node(root.left, leaf_nodes)\n",
    "    right = get_leaf_node(root.right, leaf_nodes)\n",
    "    if right == 0 and left == 0:\n",
    "        leaf_nodes.append(root.data)\n",
    "\n",
    "\n",
    "\n",
    "def travserse_one_subtree(root, boundary_nodes, is_left=True):\n",
    "    if not root.left and not root.right:\n",
    "        return\n",
    "    if is_left:\n",
    "        boundary_nodes.append(root.data)\n",
    "        if root.left:\n",
    "            travserse_one_subtree(root.left, boundary_nodes, True)\n",
    "        elif root.right:\n",
    "            travserse_one_subtree(root.right, boundary_nodes, True)\n",
    "        else:\n",
    "            boundary_nodes.pop() #it's a leaf node\n",
    "    else:\n",
    "        boundary_nodes.append(root.data)\n",
    "        if root.right:\n",
    "            travserse_one_subtree(root.right, boundary_nodes, False)\n",
    "        elif root.left:\n",
    "            travserse_one_subtree(root.left, boundary_nodes, False)\n",
    "        else:\n",
    "            boundary_nodes.pop() #it's a leaf node\n",
    "        \n",
    "\n",
    "def traverseBoundary(root):\n",
    "    ans = []\n",
    "    if root:\n",
    "        ans.append(root.data)\n",
    "        if root.left:\n",
    "            boundary_nodes = []\n",
    "            travserse_one_subtree(root.left, boundary_nodes, is_left=True)\n",
    "            if len(boundary_nodes) > 0:\n",
    "                ans.extend(boundary_nodes)\n",
    "        leaf_nodes = []\n",
    "        get_leaf_node(root,leaf_nodes)\n",
    "        if len(leaf_nodes) > 0:\n",
    "            ans.extend(leaf_nodes)\n",
    "        if root.right:\n",
    "            boundary_nodes = []\n",
    "            travserse_one_subtree(root.right, boundary_nodes, is_left=False)\n",
    "            if len(boundary_nodes) > 0:\n",
    "                ans.extend(boundary_nodes[::-1])\n",
    "    print(ans)\n",
    "    return ans\n",
    "      "
   ]
  },
  {
   "cell_type": "code",
   "execution_count": 15,
   "id": "32f3525d",
   "metadata": {},
   "outputs": [
    {
     "name": "stdout",
     "output_type": "stream",
     "text": [
      "[1, 2, 4, 7, 6, 5, 3]\n"
     ]
    },
    {
     "data": {
      "text/plain": [
       "[1, 2, 4, 7, 6, 5, 3]"
      ]
     },
     "execution_count": 15,
     "metadata": {},
     "output_type": "execute_result"
    }
   ],
   "source": [
    "root = Node(1)\n",
    "root.left = Node(2)\n",
    "root.right = Node(3)\n",
    "root.left.left = Node(4)\n",
    "root.right.left = Node(5)\n",
    "root.right.left.right = Node(6)\n",
    "root.left.left.left = Node(7)\n",
    "traverseBoundary(root)"
   ]
  },
  {
   "cell_type": "markdown",
   "id": "a30432fe",
   "metadata": {},
   "source": [
    "# Intuition\n",
    "This algorithm essentially performs a BFS traversal while keeping track of the vertical and level positions of nodes. It ensures that nodes are correctly grouped based on these positions. The final result is a list of lists, where each inner list contains nodes at the same vertical position.\n",
    "\n",
    "# Approach\n",
    "* A queue is initialized to perform a breadth-first search (BFS) traversal of the binary tree.\n",
    "* A multimap data structure will be used to store nodes according to their vertical and level positions.\n",
    "While the queue is not empty:\n",
    "\n",
    "**Take the front node from the queue (curr).**\n",
    "\n",
    "* Extract the current node, its vertical position (curr_vertical), and its level (curr_level).\n",
    "\n",
    "* If the current node has a left child:\n",
    "\n",
    "* Enqueue the left child with adjusted vertical and level positions.\n",
    "If the current node has a right child:\n",
    "\n",
    "* Enqueue the right child with adjusted vertical and level positions.\n",
    "Check if the curr_vertical and curr_level combination already exists in the multimap:\n",
    "\n",
    "* If yes, append the current node's value to the existing list and sort it.\n",
    "* If curr_vertical exists in the multimap but curr_level does not:\n",
    "\n",
    "* Create a new list for curr_level and append the current node's value.\n",
    "* If curr_vertical does not exist in the multimap:\n",
    "\n",
    "* Create a new entry for curr_vertical and a new list for curr_level with the current node's value.\n",
    " * Sort the multimap based on vertical positions.\n",
    "\n",
    "Iterate through the sorted multimap:\n",
    "\n",
    "For each vertical position, construct a list (curr) containing values at different levels.\n",
    "Append curr to the final result.\n",
    "\n",
    "# Complexity\n",
    "# Time Complexity\n",
    "\n",
    "* The while loop iterates through the nodes in the binary tree.\n",
    "In the worst case, it visits each node once, resulting in a time complexity of O(n), where 'n' is the number of nodes in the tree.\n",
    "Operations Inside the Loop:\n",
    "\n",
    "* Enqueuing and dequeuing nodes, extracting values, and updating the multimap are all constant-time operations.\n",
    "The sorting of the multimap at the end takes O(m * log(m)) time, where 'm' is the number of distinct vertical positions.\n",
    "Iterating Through the Multimap:\n",
    "\n",
    "* The final loop that constructs the result also takes O(m) time, where 'm' is the number of distinct vertical positions.\n",
    "\n",
    "*Overall, the time complexity of the code is O(n + m * log(m)), where 'n' is the number of nodes in the tree and 'm' is the number of distinct vertical positions.\n",
    "\n",
    "# Space complexity\n",
    "\n",
    "1. Queue:The queue can potentially hold all nodes in the tree, resulting in a space complexity of O(n), where 'n' is the number of nodes.\n",
    "\n",
    "2. Multimap:In the worst case, the multimap can store all nodes based on their vertical and level positions.\n",
    "\n",
    "3. The space complexity for the multimap is O(n * h), where 'n' is the number of nodes and 'h' is the height of the tree in terms of vertical positions.\n",
    "Final Result (ans):\n",
    "\n",
    "The final result is constructed based on the multimap. In the worst case, it could also be O(n * h), where 'n' is the number of nodes and 'h' is the height of the tree in terms of vertical positions.\n"
   ]
  },
  {
   "cell_type": "code",
   "execution_count": 27,
   "id": "9f49d993",
   "metadata": {},
   "outputs": [
    {
     "name": "stdout",
     "output_type": "stream",
     "text": [
      "multimap:  {-3: {3: [7]}, -2: {2: [4]}, -1: {1: [2]}, 0: {0: [1], 2: [5]}, 1: {1: [3], 3: [6]}}\n"
     ]
    },
    {
     "data": {
      "text/plain": [
       "[[7], [4], [2], [1, 5], [3, 6]]"
      ]
     },
     "execution_count": 27,
     "metadata": {},
     "output_type": "execute_result"
    }
   ],
   "source": [
    "def verticalTraversal(root):\n",
    "    queue = []\n",
    "    multimap = {}\n",
    "    if root:\n",
    "        queue.append((root,0,0))\n",
    "    while len(queue) > 0:\n",
    "        curr = queue.pop(0)\n",
    "        curr_node = curr[0]\n",
    "        curr_vertical = curr[1]\n",
    "        curr_level = curr[2]\n",
    "\n",
    "        if curr_node.left:\n",
    "            queue.append((curr_node.left,curr_vertical-1,curr_level+1))\n",
    "        if curr_node.right:\n",
    "            queue.append((curr_node.right,curr_vertical+1,curr_level+1))\n",
    "\n",
    "        if curr_vertical in multimap and curr_level in  multimap[curr_vertical]:\n",
    "            multimap[curr_vertical][curr_level].append(curr_node.val)\n",
    "            multimap[curr_vertical][curr_level].sort()\n",
    "\n",
    "        elif curr_vertical in multimap: \n",
    "            multimap[curr_vertical][curr_level] = []\n",
    "            multimap[curr_vertical][curr_level].append(curr_node.val)\n",
    "        else:\n",
    "            multimap[curr_vertical] = {}\n",
    "            multimap[curr_vertical][curr_level] = []\n",
    "            multimap[curr_vertical][curr_level].append(curr_node.val)\n",
    "\n",
    "\n",
    "    multimap = dict(sorted(multimap.items(), key=lambda x: (x[0])))\n",
    "    \n",
    "    print(\"multimap: \",multimap)\n",
    "    ans = []\n",
    "    for vertical, values in multimap.items():\n",
    "        curr = []\n",
    "        for level,val in values.items():\n",
    "            curr.extend(val)\n",
    "        ans.append(curr)\n",
    "    \n",
    "    return ans\n",
    "\n",
    "class Node:\n",
    "    def __init__(self,val):\n",
    "        self.val = val\n",
    "        self.right = None\n",
    "        self.left = None\n",
    "root = Node(1)\n",
    "root.left = Node(2)\n",
    "root.right = Node(3)\n",
    "root.left.left = Node(4)\n",
    "root.right.left = Node(5)\n",
    "root.right.left.right = Node(6)\n",
    "root.left.left.left = Node(7)\n",
    "verticalTraversal(root)        \n"
   ]
  },
  {
   "cell_type": "markdown",
   "id": "979c200b",
   "metadata": {},
   "source": [
    "# Top View of The Tree\n",
    "\n",
    "When we assign verticals to the tree, the the top view consists of all the first number on each vertcial(first encountered level. So, we can use vertical Traversal code\n",
    "\n",
    "T.C. - O(N)\n",
    "S.C. - o(n)\n",
    "\n",
    "Node - Recursion can't be used"
   ]
  },
  {
   "cell_type": "code",
   "execution_count": 34,
   "id": "d4a14969",
   "metadata": {},
   "outputs": [],
   "source": [
    "def topView(root):\n",
    "    queue = []\n",
    "    multimap = {}\n",
    "    if root:\n",
    "        queue.append((root,0,0))\n",
    "    while len(queue) > 0:\n",
    "        curr = queue.pop(0)\n",
    "        curr_node = curr[0]\n",
    "        curr_vertical = curr[1]\n",
    "        curr_level = curr[2]\n",
    "\n",
    "        if curr_node.left:\n",
    "            queue.append((curr_node.left,curr_vertical-1,curr_level+1))\n",
    "        if curr_node.right:\n",
    "            queue.append((curr_node.right,curr_vertical+1,curr_level+1))\n",
    "\n",
    "        if curr_vertical not in multimap:\n",
    "            multimap[curr_vertical] = curr_node.data\n",
    "            \n",
    "\n",
    "    multimap = dict(sorted(multimap.items(), key=lambda x: x[0]))\n",
    "\n",
    "    ans = list(multimap.values())\n",
    "\n",
    "    return ans\n",
    "      "
   ]
  },
  {
   "cell_type": "code",
   "execution_count": 35,
   "id": "d2b39a87",
   "metadata": {},
   "outputs": [
    {
     "data": {
      "text/plain": [
       "[4, 2, 1, 3, 7]"
      ]
     },
     "execution_count": 35,
     "metadata": {},
     "output_type": "execute_result"
    }
   ],
   "source": [
    "class Node:\n",
    "    def __init__(self,val):\n",
    "        self.data = val\n",
    "        self.right = None\n",
    "        self.left = None\n",
    "root = Node(1)\n",
    "root.left = Node(2)\n",
    "root.right = Node(3)\n",
    "root.left.left = Node(4)\n",
    "root.left.right = Node(5)\n",
    "root.right.left = Node(6)\n",
    "root.right.right = Node(7)\n",
    "topView(root)"
   ]
  },
  {
   "cell_type": "markdown",
   "id": "69cc561c",
   "metadata": {},
   "source": [
    "# Bottom View\n",
    "\n",
    "Just like top view, in bottom view we consider the last level nodes encountered for each vertical"
   ]
  },
  {
   "cell_type": "code",
   "execution_count": 43,
   "id": "bcab150c",
   "metadata": {},
   "outputs": [],
   "source": [
    "from collections import OrderedDict\n",
    "\n",
    "def bottomView(root):\n",
    "    queue = []\n",
    "    multimap = {}\n",
    "    if root:\n",
    "        queue.append((root,0,0))\n",
    "    while len(queue) > 0:\n",
    "        curr = queue.pop(0)\n",
    "        curr_node = curr[0]\n",
    "        curr_vertical = curr[1]\n",
    "        curr_level = curr[2]\n",
    "\n",
    "        if curr_node.left:\n",
    "            queue.append((curr_node.left,curr_vertical-1,curr_level+1))\n",
    "        if curr_node.right:\n",
    "            queue.append((curr_node.right,curr_vertical+1,curr_level+1))\n",
    "\n",
    "        if curr_vertical in multimap and curr_level in  multimap[curr_vertical]:\n",
    "            multimap[curr_vertical][curr_level].append(curr_node.val)\n",
    "            multimap[curr_vertical][curr_level].sort()\n",
    "\n",
    "        elif curr_vertical in multimap: \n",
    "            multimap[curr_vertical][curr_level] = []\n",
    "            multimap[curr_vertical][curr_level].append(curr_node.val)\n",
    "        else:\n",
    "            multimap[curr_vertical] = {}\n",
    "            multimap[curr_vertical][curr_level] = []\n",
    "            multimap[curr_vertical][curr_level].append(curr_node.val)\n",
    "\n",
    "        \n",
    "    multimap = dict(sorted(multimap.items(), key=lambda x: x[0]))\n",
    "    \n",
    "    ans = []\n",
    "    for vertical, values in multimap.items():\n",
    "        curr = []\n",
    "        for level,val in values.items():\n",
    "            curr = val\n",
    "        ans.extend(val)\n",
    "    \n",
    "    return ans\n",
    "        \n",
    "\n",
    "   "
   ]
  },
  {
   "cell_type": "code",
   "execution_count": 44,
   "id": "35209ab5",
   "metadata": {},
   "outputs": [
    {
     "data": {
      "text/plain": [
       "[4, 2, 5, 6, 3, 7]"
      ]
     },
     "execution_count": 44,
     "metadata": {},
     "output_type": "execute_result"
    }
   ],
   "source": [
    "class Node:\n",
    "    def __init__(self,val):\n",
    "        self.val = val\n",
    "        self.right = None\n",
    "        self.left = None\n",
    "root = Node(1)\n",
    "root.left = Node(2)\n",
    "root.right = Node(3)\n",
    "root.left.left = Node(4)\n",
    "root.left.right = Node(5)\n",
    "root.right.left = Node(6)\n",
    "root.right.right = Node(7)\n",
    "bottomView(root)"
   ]
  },
  {
   "cell_type": "markdown",
   "id": "3b877641",
   "metadata": {},
   "source": [
    "# Right View"
   ]
  },
  {
   "cell_type": "code",
   "execution_count": 48,
   "id": "96eb9dd9",
   "metadata": {},
   "outputs": [],
   "source": [
    "from collections import OrderedDict\n",
    "\n",
    "def rightView(root):\n",
    "    queue = []\n",
    "    level_map = OrderedDict()\n",
    "    if root:\n",
    "        queue.append((root,0))\n",
    "    while len(queue) > 0:\n",
    "        curr = queue.pop(0)\n",
    "        curr_node = curr[0]\n",
    "        curr_level = curr[1]\n",
    "\n",
    "        if curr_node.left:\n",
    "            queue.append((curr_node.left,curr_level+1))\n",
    "        if curr_node.right:\n",
    "            queue.append((curr_node.right,curr_level+1))\n",
    "            \n",
    "        if curr_level not in level_map:\n",
    "            level_map[curr_level] = []\n",
    "            \n",
    "        level_map[curr_level].append(curr_node.val)\n",
    "        \n",
    "    \n",
    "    ans = []\n",
    "    for level, values in level_map.items():\n",
    "        ans.append(values[-1])\n",
    "            \n",
    "    return ans"
   ]
  },
  {
   "cell_type": "code",
   "execution_count": 49,
   "id": "8b8be093",
   "metadata": {},
   "outputs": [
    {
     "data": {
      "text/plain": [
       "[1, 3, 7]"
      ]
     },
     "execution_count": 49,
     "metadata": {},
     "output_type": "execute_result"
    }
   ],
   "source": [
    "class Node:\n",
    "    def __init__(self,val):\n",
    "        self.val = val\n",
    "        self.right = None\n",
    "        self.left = None\n",
    "root = Node(1)\n",
    "root.left = Node(2)\n",
    "root.right = Node(3)\n",
    "root.left.left = Node(4)\n",
    "root.left.right = Node(5)\n",
    "root.right.left = Node(6)\n",
    "root.right.right = Node(7)\n",
    "rightView(root)"
   ]
  },
  {
   "cell_type": "markdown",
   "id": "86b264ff",
   "metadata": {},
   "source": [
    "# Check if Tree is Symmetrical"
   ]
  },
  {
   "cell_type": "code",
   "execution_count": 53,
   "id": "0a29c9c2",
   "metadata": {},
   "outputs": [],
   "source": [
    " def check_if_mirror(p, q):\n",
    "        if not p and not q:\n",
    "            return True\n",
    "        elif not p or not q or p.val != q.val:\n",
    "            return False\n",
    "\n",
    "        return check_if_mirror(p.left,q.right) and check_if_mirror(p.right,q.left)\n",
    "    \n",
    "        \n",
    "def isSymmetric(root):\n",
    "    #check if each left node of left tree is equal to every right node of right tree\n",
    "    if root:\n",
    "        if root.left and root.right:\n",
    "            is_symmetrical = check_if_mirror(root.left,root.right)\n",
    "            return is_symmetrical\n",
    "        elif not root.left and not root.right:\n",
    "            return True\n",
    "\n",
    "    return False"
   ]
  },
  {
   "cell_type": "code",
   "execution_count": 55,
   "id": "fa53137f",
   "metadata": {},
   "outputs": [
    {
     "data": {
      "text/plain": [
       "True"
      ]
     },
     "execution_count": 55,
     "metadata": {},
     "output_type": "execute_result"
    }
   ],
   "source": [
    "class Node:\n",
    "    def __init__(self,val):\n",
    "        self.val = val\n",
    "        self.right = None\n",
    "        self.left = None\n",
    "root = Node(1)\n",
    "root.left = Node(2)\n",
    "root.right = Node(2)\n",
    "root.left.left = Node(4)\n",
    "root.left.right = Node(5)\n",
    "root.right.left = Node(5)\n",
    "root.right.right = Node(4)\n",
    "isSymmetric(root)"
   ]
  },
  {
   "cell_type": "markdown",
   "id": "62354146",
   "metadata": {},
   "source": [
    "# Minimum Depth of Binary Tree\n",
    "Given a binary tree, find its minimum depth.\n",
    "\n",
    "The minimum depth is the number of nodes along the shortest path from the root node down to the nearest leaf node.\n",
    "\n",
    "Note: A leaf is a node with no children."
   ]
  },
  {
   "cell_type": "code",
   "execution_count": 56,
   "id": "804b03c9",
   "metadata": {},
   "outputs": [],
   "source": [
    "def minDepth(root):\n",
    "        if not root:\n",
    "            return 0 #if node not there\n",
    "\n",
    "        if not root.right and not root.left: #leaf node\n",
    "            return 1\n",
    "\n",
    "        left , right = float(\"inf\"), float(\"inf\")\n",
    "        \n",
    "        if root.left:\n",
    "            left = minDepth(root.left)\n",
    "        if root.right:\n",
    "            right = minDepth(root.right)\n",
    "        \n",
    "        return 1 + min(left, right)"
   ]
  },
  {
   "cell_type": "code",
   "execution_count": 57,
   "id": "498c5aba",
   "metadata": {},
   "outputs": [
    {
     "data": {
      "text/plain": [
       "2"
      ]
     },
     "execution_count": 57,
     "metadata": {},
     "output_type": "execute_result"
    }
   ],
   "source": [
    "class Node:\n",
    "    def __init__(self,val):\n",
    "        self.val = val\n",
    "        self.right = None\n",
    "        self.left = None\n",
    "root = Node(1)\n",
    "root.left = Node(2)\n",
    "root.right = Node(3)\n",
    "root.left.left = Node(4)\n",
    "root.left.right = Node(5)\n",
    "#root.right.left = Node(6)\n",
    "#root.right.right = Node(7)\n",
    "min_depth = minDepth(root)\n",
    "min_depth"
   ]
  },
  {
   "cell_type": "markdown",
   "id": "003eb4de",
   "metadata": {},
   "source": [
    "# Path Sum\n",
    "Given the root of a binary tree and an integer targetSum, return true if the tree has a root-to-leaf path such that adding up all the values along the path equals targetSum."
   ]
  },
  {
   "cell_type": "code",
   "execution_count": 60,
   "id": "1d2d45fd",
   "metadata": {},
   "outputs": [],
   "source": [
    "def hasPathSum(root, targetSum) -> bool:\n",
    "    if not root:\n",
    "        return False\n",
    "    if not root.left and not root.right:\n",
    "        if targetSum == root.val:\n",
    "            return True\n",
    "        else:\n",
    "            return False\n",
    "    return hasPathSum(root.left,targetSum-root.val) or hasPathSum(root.right,targetSum-root.val)"
   ]
  },
  {
   "cell_type": "code",
   "execution_count": 61,
   "id": "4e9d7480",
   "metadata": {},
   "outputs": [
    {
     "data": {
      "text/plain": [
       "True"
      ]
     },
     "execution_count": 61,
     "metadata": {},
     "output_type": "execute_result"
    }
   ],
   "source": [
    "class Node:\n",
    "    def __init__(self,val):\n",
    "        self.val = val\n",
    "        self.right = None\n",
    "        self.left = None\n",
    "root = Node(1)\n",
    "root.left = Node(2)\n",
    "root.right = Node(3)\n",
    "root.left.left = Node(4)\n",
    "root.left.right = Node(5)\n",
    "#root.right.left = Node(6)\n",
    "#root.right.right = Node(7)\n",
    "min_depth = hasPathSum(root,4)\n",
    "min_depth"
   ]
  },
  {
   "cell_type": "markdown",
   "id": "48d4f6fd",
   "metadata": {},
   "source": [
    "# Print a Path till a node"
   ]
  },
  {
   "cell_type": "code",
   "execution_count": 1,
   "id": "9da08e86",
   "metadata": {},
   "outputs": [],
   "source": [
    "def get_path_to_node(root, target, ans):\n",
    "    if root.val == target:\n",
    "        ans.append(root.val)\n",
    "        return True\n",
    "    left, right = False, False\n",
    "    if root.left: \n",
    "        left = get_path_to_node(root.left, target, ans)\n",
    "    if root.right:\n",
    "        right = get_path_to_node(root.right, target, ans)\n",
    "    \n",
    "    if left or right:\n",
    "        ans.append(root.val)\n",
    "        return True\n"
   ]
  },
  {
   "cell_type": "code",
   "execution_count": 6,
   "id": "e89abc46",
   "metadata": {},
   "outputs": [
    {
     "data": {
      "text/plain": [
       "[1, 2, 5, 7]"
      ]
     },
     "execution_count": 6,
     "metadata": {},
     "output_type": "execute_result"
    }
   ],
   "source": [
    "class Node:\n",
    "    def __init__(self,val):\n",
    "        self.val = val\n",
    "        self.right = None\n",
    "        self.left = None\n",
    "root = Node(1)\n",
    "root.left = Node(2)\n",
    "root.right = Node(3)\n",
    "root.left.left = Node(4)\n",
    "root.left.right = Node(5)\n",
    "root.left.right.left = Node(6)\n",
    "root.left.right.right = Node(7)\n",
    "ans = []\n",
    "get_path_to_node(root, 7, ans)\n",
    "ans = ans[::-1]\n",
    "ans"
   ]
  },
  {
   "cell_type": "markdown",
   "id": "1769b4e5",
   "metadata": {},
   "source": [
    "# Print all the paths from root till leaf\n",
    "\n",
    "Store parents nodes in list and pass it to the recursion calls.\n",
    "* TC - O(N)\n",
    "* SC - O(h)"
   ]
  },
  {
   "cell_type": "code",
   "execution_count": 15,
   "id": "3b735fb6",
   "metadata": {},
   "outputs": [],
   "source": [
    "def print_all_paths(root,parents):\n",
    "    if not root.left and not root.right:\n",
    "        parents.append(root.val)\n",
    "        print(parents)\n",
    "        return\n",
    "    \n",
    "    parents.append(root.val)\n",
    "    if root.left:\n",
    "        print_all_paths(root.left, parents.copy())\n",
    "    if root.right:\n",
    "        print_all_paths(root.right, parents.copy())\n",
    "     "
   ]
  },
  {
   "cell_type": "code",
   "execution_count": 16,
   "id": "c377c26e",
   "metadata": {},
   "outputs": [
    {
     "name": "stdout",
     "output_type": "stream",
     "text": [
      "[1, 2, 4]\n",
      "[1, 2, 5, 6]\n",
      "[1, 2, 5, 7]\n",
      "[1, 3]\n"
     ]
    }
   ],
   "source": [
    "class Node:\n",
    "    def __init__(self,val):\n",
    "        self.val = val\n",
    "        self.right = None\n",
    "        self.left = None\n",
    "root = Node(1)\n",
    "root.left = Node(2)\n",
    "root.right = Node(3)\n",
    "root.left.left = Node(4)\n",
    "root.left.right = Node(5)\n",
    "root.left.right.left = Node(6)\n",
    "root.left.right.right = Node(7)\n",
    "parents = []\n",
    "print_all_paths(root,parents)\n"
   ]
  },
  {
   "cell_type": "markdown",
   "id": "25ba5282",
   "metadata": {},
   "source": [
    "# Find Lowest Common Ancestor ***\n",
    "\n",
    "Intuition: If we found both l and r then that means it's root is the lcs. If only one is found, then we return that and it's parent will find the other node in other branch."
   ]
  },
  {
   "cell_type": "code",
   "execution_count": 22,
   "id": "8a073045",
   "metadata": {},
   "outputs": [],
   "source": [
    "def lowestCommonAncestor(root, p, q):\n",
    "    if not root or root == p or root == q:\n",
    "        return root\n",
    "\n",
    "    l = lowestCommonAncestor(root.left, p, q)\n",
    "    r = lowestCommonAncestor(root.right, p, q)\n",
    "\n",
    "    if l and r:\n",
    "        return root\n",
    "\n",
    "    return l or r"
   ]
  },
  {
   "cell_type": "code",
   "execution_count": 25,
   "id": "e729f255",
   "metadata": {},
   "outputs": [],
   "source": [
    "class Node:\n",
    "    def __init__(self,val):\n",
    "        self.val = val\n",
    "        self.right = None\n",
    "        self.left = None\n",
    "root = Node(1)\n",
    "root.left = Node(2)\n",
    "root.right = Node(3)\n",
    "root.left.left = Node(4)\n",
    "root.left.right = Node(5)\n",
    "root.left.right.left = Node(6)\n",
    "root.left.right.right = Node(7)"
   ]
  },
  {
   "cell_type": "code",
   "execution_count": 29,
   "id": "bbf0c46d",
   "metadata": {},
   "outputs": [
    {
     "data": {
      "text/plain": [
       "1"
      ]
     },
     "execution_count": 29,
     "metadata": {},
     "output_type": "execute_result"
    }
   ],
   "source": [
    "lcs = lowestCommonAncestor(root,root.left,root.right)\n",
    "lcs.val"
   ]
  },
  {
   "cell_type": "markdown",
   "id": "bb75a1da",
   "metadata": {},
   "source": [
    "# Maximum Width of the tree\n",
    "\n",
    "Concept: Level Order Traversal with Indexing"
   ]
  },
  {
   "cell_type": "code",
   "execution_count": 32,
   "id": "f4381500",
   "metadata": {},
   "outputs": [
    {
     "data": {
      "text/plain": [
       "3"
      ]
     },
     "execution_count": 32,
     "metadata": {},
     "output_type": "execute_result"
    }
   ],
   "source": [
    "def maximum_width(root):\n",
    "    queue = []\n",
    "    verticals = []\n",
    "    if root:\n",
    "        queue.append((root,0))\n",
    "    while len(queue) > 0:\n",
    "        curr = queue.pop(0)\n",
    "        curr_node = curr[0]\n",
    "        curr_vertical = curr[1]\n",
    "\n",
    "        if curr_node.left:\n",
    "            queue.append((curr_node.left,curr_vertical-1))\n",
    "        if curr_node.right:\n",
    "            queue.append((curr_node.right,curr_vertical+1))\n",
    "\n",
    "        if curr_vertical not in verticals:\n",
    "            verticals.append(curr_vertical)\n",
    "    \n",
    "    return len(verticals)\n",
    "            \n",
    "\n",
    "\n",
    "\n",
    "class Node:\n",
    "    def __init__(self,val):\n",
    "        self.val = val\n",
    "        self.right = None\n",
    "        self.left = None\n",
    "root = Node(1)\n",
    "root.left = Node(2)\n",
    "root.right = Node(3)\n",
    "# root.left.left = Node(4)\n",
    "# root.right.left = Node(5)\n",
    "# root.right.left.right = Node(6)\n",
    "# root.left.left.left = Node(7)\n",
    "maximum_width(root)        \n"
   ]
  },
  {
   "cell_type": "code",
   "execution_count": null,
   "id": "e7259cb3",
   "metadata": {},
   "outputs": [],
   "source": []
  },
  {
   "cell_type": "code",
   "execution_count": null,
   "id": "16c86ff2",
   "metadata": {},
   "outputs": [],
   "source": []
  },
  {
   "cell_type": "code",
   "execution_count": null,
   "id": "d99b11e4",
   "metadata": {},
   "outputs": [],
   "source": []
  },
  {
   "cell_type": "code",
   "execution_count": null,
   "id": "976491bd",
   "metadata": {},
   "outputs": [],
   "source": []
  },
  {
   "cell_type": "code",
   "execution_count": null,
   "id": "ee7b8b2e",
   "metadata": {},
   "outputs": [],
   "source": []
  },
  {
   "cell_type": "code",
   "execution_count": null,
   "id": "b0d7538e",
   "metadata": {},
   "outputs": [],
   "source": []
  },
  {
   "cell_type": "code",
   "execution_count": null,
   "id": "10895e87",
   "metadata": {},
   "outputs": [],
   "source": []
  },
  {
   "cell_type": "code",
   "execution_count": null,
   "id": "6d631204",
   "metadata": {},
   "outputs": [],
   "source": []
  },
  {
   "cell_type": "code",
   "execution_count": null,
   "id": "c244eebd",
   "metadata": {},
   "outputs": [],
   "source": []
  },
  {
   "cell_type": "code",
   "execution_count": null,
   "id": "a5a45a74",
   "metadata": {},
   "outputs": [],
   "source": []
  },
  {
   "cell_type": "code",
   "execution_count": null,
   "id": "c5d9a166",
   "metadata": {},
   "outputs": [],
   "source": []
  },
  {
   "cell_type": "code",
   "execution_count": null,
   "id": "96fe653e",
   "metadata": {},
   "outputs": [],
   "source": []
  },
  {
   "cell_type": "code",
   "execution_count": null,
   "id": "0511771f",
   "metadata": {},
   "outputs": [],
   "source": []
  }
 ],
 "metadata": {
  "kernelspec": {
   "display_name": "Python 3 (ipykernel)",
   "language": "python",
   "name": "python3"
  },
  "language_info": {
   "codemirror_mode": {
    "name": "ipython",
    "version": 3
   },
   "file_extension": ".py",
   "mimetype": "text/x-python",
   "name": "python",
   "nbconvert_exporter": "python",
   "pygments_lexer": "ipython3",
   "version": "3.10.9"
  }
 },
 "nbformat": 4,
 "nbformat_minor": 5
}
