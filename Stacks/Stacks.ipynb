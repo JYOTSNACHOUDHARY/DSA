{
 "cells": [
  {
   "cell_type": "markdown",
   "id": "79312483",
   "metadata": {},
   "source": [
    "## Implement Stacks using Array"
   ]
  },
  {
   "cell_type": "code",
   "execution_count": 5,
   "id": "c66440b3",
   "metadata": {},
   "outputs": [
    {
     "name": "stdout",
     "output_type": "stream",
     "text": [
      "top of stack 4\n",
      "popped ele from stack 4\n",
      "top of stack 3\n"
     ]
    }
   ],
   "source": [
    "class Stack:\n",
    "    def __init__(self):\n",
    "        self.top = -1\n",
    "        self.size = 1000\n",
    "        self.arr = [0] * self.size\n",
    "    \n",
    "    def push(self, x: int) -> None:\n",
    "        self.top += 1\n",
    "        self.arr[self.top] = x\n",
    "    \n",
    "    def pop(self) -> int:\n",
    "        x = self.arr[self.top]\n",
    "        self.top -= 1\n",
    "        return x\n",
    "    \n",
    "    def Top(self) -> int:\n",
    "        return self.arr[self.top]\n",
    "    \n",
    "    def Size(self) -> int:\n",
    "        return self.top + 1\n",
    "    \n",
    "    \n",
    "s = Stack()\n",
    "s.push(5)\n",
    "s.push(3)\n",
    "s.push(4)\n",
    "print(\"top of stack\", s.Top())\n",
    "print(\"popped ele from stack\", s.pop())\n",
    "print(\"top of stack\", s.Top())"
   ]
  },
  {
   "cell_type": "code",
   "execution_count": 23,
   "id": "1d19d298",
   "metadata": {},
   "outputs": [
    {
     "ename": "AttributeError",
     "evalue": "'Queue' object has no attribute 'end'",
     "output_type": "error",
     "traceback": [
      "\u001b[1;31m---------------------------------------------------------------------------\u001b[0m",
      "\u001b[1;31mAttributeError\u001b[0m                            Traceback (most recent call last)",
      "Cell \u001b[1;32mIn[23], line 47\u001b[0m\n\u001b[0;32m     45\u001b[0m q \u001b[38;5;241m=\u001b[39m Queue()\n\u001b[0;32m     46\u001b[0m q\u001b[38;5;241m.\u001b[39mpush(\u001b[38;5;241m1\u001b[39m)\n\u001b[1;32m---> 47\u001b[0m \u001b[43mq\u001b[49m\u001b[38;5;241;43m.\u001b[39;49m\u001b[43mpush\u001b[49m\u001b[43m(\u001b[49m\u001b[38;5;241;43m2\u001b[39;49m\u001b[43m)\u001b[49m\n\u001b[0;32m     48\u001b[0m q\u001b[38;5;241m.\u001b[39mpush(\u001b[38;5;241m4\u001b[39m)\n\u001b[0;32m     49\u001b[0m q\u001b[38;5;241m.\u001b[39mpush(\u001b[38;5;241m5\u001b[39m)\n",
      "Cell \u001b[1;32mIn[23], line 17\u001b[0m, in \u001b[0;36mQueue.push\u001b[1;34m(self, data)\u001b[0m\n\u001b[0;32m     15\u001b[0m     \u001b[38;5;28mself\u001b[39m\u001b[38;5;241m.\u001b[39mlast \u001b[38;5;241m+\u001b[39m\u001b[38;5;241m=\u001b[39m \u001b[38;5;241m1\u001b[39m\n\u001b[0;32m     16\u001b[0m \u001b[38;5;28;01melse\u001b[39;00m:\n\u001b[1;32m---> 17\u001b[0m     \u001b[38;5;28mself\u001b[39m\u001b[38;5;241m.\u001b[39mend \u001b[38;5;241m=\u001b[39m (\u001b[38;5;28;43mself\u001b[39;49m\u001b[38;5;241;43m.\u001b[39;49m\u001b[43mend\u001b[49m \u001b[38;5;241m+\u001b[39m \u001b[38;5;241m1\u001b[39m) \u001b[38;5;241m%\u001b[39m \u001b[38;5;28mself\u001b[39m\u001b[38;5;241m.\u001b[39mmax_size\n\u001b[0;32m     18\u001b[0m \u001b[38;5;28mself\u001b[39m\u001b[38;5;241m.\u001b[39marr[\u001b[38;5;28mself\u001b[39m\u001b[38;5;241m.\u001b[39mlast] \u001b[38;5;241m=\u001b[39m data\n\u001b[0;32m     19\u001b[0m \u001b[38;5;28mself\u001b[39m\u001b[38;5;241m.\u001b[39mcurr_size \u001b[38;5;241m+\u001b[39m\u001b[38;5;241m=\u001b[39m \u001b[38;5;241m1\u001b[39m\n",
      "\u001b[1;31mAttributeError\u001b[0m: 'Queue' object has no attribute 'end'"
     ]
    }
   ],
   "source": [
    "class Queue:\n",
    "    def __init__(self):\n",
    "        self.first = -1\n",
    "        self.last = -1\n",
    "        self.max_size = 6\n",
    "        self.arr = [0]*self.max_size\n",
    "        self.curr_size = 0\n",
    "    \n",
    "    def push(self, data):\n",
    "        if self.curr_size == self.max_size:\n",
    "            print(\"Queue is full. Exiting....\")\n",
    "            exit(1)\n",
    "        if self.first == -1:\n",
    "            self.first += 1\n",
    "            self.last += 1\n",
    "        else:\n",
    "            self.las = (self.end + 1) % self.max_size\n",
    "        self.arr[self.last] = data\n",
    "        self.curr_size += 1\n",
    "    \n",
    "    def pop(self):\n",
    "        if self.first >= 0:\n",
    "            data = self.arr[self.first]\n",
    "        else:\n",
    "            print(\"Queue is empty\")\n",
    "        \n",
    "        if self.curr_size == 1:\n",
    "            self.first = -1\n",
    "            self.last = -1\n",
    "        else:\n",
    "            self.first = (self.first + 1) % self.max_size\n",
    "        \n",
    "        print(\"first after popping ele\",self.first)\n",
    "        self.curr_size -= 1\n",
    "        return data\n",
    "            \n",
    "       \n",
    "    \n",
    "    def get_first(self):\n",
    "        return self.arr[self.first]\n",
    "    \n",
    "    def get_last(self):\n",
    "        return self.arr[self.last]\n",
    "    \n",
    "q = Queue()\n",
    "q.push(1)\n",
    "q.push(2)\n",
    "q.push(4)\n",
    "q.push(5)\n",
    "q.push(6)\n",
    "q.push(7)\n",
    "q.pop()\n",
    "q.pop()\n",
    "q.pop()\n",
    "q.push(8)\n",
    "q.push(9)\n",
    "q.push(7)\n",
    "print(\"first ele queue\",q.get_first())\n",
    "print(\"popped ele from queue\",q.pop())\n",
    "print(\"first ele queue\",q.get_first())\n",
    "        \n",
    "\n"
   ]
  },
  {
   "cell_type": "code",
   "execution_count": null,
   "id": "dddf4c6d",
   "metadata": {},
   "outputs": [],
   "source": []
  },
  {
   "cell_type": "code",
   "execution_count": null,
   "id": "b4d22653",
   "metadata": {},
   "outputs": [],
   "source": []
  },
  {
   "cell_type": "code",
   "execution_count": null,
   "id": "7addacb4",
   "metadata": {},
   "outputs": [],
   "source": []
  },
  {
   "cell_type": "code",
   "execution_count": null,
   "id": "4f06c215",
   "metadata": {},
   "outputs": [],
   "source": []
  },
  {
   "cell_type": "code",
   "execution_count": null,
   "id": "5a61a29a",
   "metadata": {},
   "outputs": [],
   "source": []
  },
  {
   "cell_type": "code",
   "execution_count": null,
   "id": "772e71d8",
   "metadata": {},
   "outputs": [],
   "source": []
  },
  {
   "cell_type": "code",
   "execution_count": null,
   "id": "b7821c36",
   "metadata": {},
   "outputs": [],
   "source": []
  },
  {
   "cell_type": "code",
   "execution_count": null,
   "id": "02f756b5",
   "metadata": {},
   "outputs": [],
   "source": []
  }
 ],
 "metadata": {
  "kernelspec": {
   "display_name": "Python 3 (ipykernel)",
   "language": "python",
   "name": "python3"
  },
  "language_info": {
   "codemirror_mode": {
    "name": "ipython",
    "version": 3
   },
   "file_extension": ".py",
   "mimetype": "text/x-python",
   "name": "python",
   "nbconvert_exporter": "python",
   "pygments_lexer": "ipython3",
   "version": "3.10.9"
  }
 },
 "nbformat": 4,
 "nbformat_minor": 5
}
