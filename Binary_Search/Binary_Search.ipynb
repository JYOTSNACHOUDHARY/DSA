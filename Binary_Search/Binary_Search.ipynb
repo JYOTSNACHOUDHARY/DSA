{
 "cells": [
  {
   "cell_type": "markdown",
   "id": "01b4ab85",
   "metadata": {},
   "source": [
    "### Binary Search in a sorted Array"
   ]
  },
  {
   "cell_type": "code",
   "execution_count": 7,
   "id": "c272e0da",
   "metadata": {},
   "outputs": [
    {
     "name": "stdout",
     "output_type": "stream",
     "text": [
      "4\n"
     ]
    }
   ],
   "source": [
    "def binary_search(start,end,nums,target):\n",
    "\n",
    "        if start > end:\n",
    "            return -1\n",
    "        \n",
    "        mid = start + (end-start)//2\n",
    "        \n",
    "\n",
    "        if nums[mid] == target:\n",
    "            return mid\n",
    "        \n",
    "        elif target > nums[mid]:\n",
    "            \n",
    "            return binary_search(mid+1,end,nums,target)\n",
    "            \n",
    "        \n",
    "        elif target < nums[mid]:\n",
    "            return binary_search(start,mid-1,nums,target)\n",
    "\n",
    "\n",
    "\n",
    "def search(nums, target):\n",
    "    start = 0\n",
    "    end = len(nums)-1\n",
    "    search_idx = binary_search(start,end,nums,target)\n",
    "\n",
    "    return search_idx\n",
    "\n",
    "target = 9\n",
    "nums = [-1,0,3,5,9,12]\n",
    "print(search(nums,target))"
   ]
  },
  {
   "cell_type": "markdown",
   "id": "025dd9b8",
   "metadata": {},
   "source": [
    "#### Implement Lower Bound\n",
    "The tlargest num in array which is smaller than or equal to target"
   ]
  },
  {
   "cell_type": "code",
   "execution_count": 9,
   "id": "64b15071",
   "metadata": {},
   "outputs": [
    {
     "name": "stdout",
     "output_type": "stream",
     "text": [
      "-1\n"
     ]
    }
   ],
   "source": [
    "def binary_search(start,end,nums,target):\n",
    "\n",
    "        if start > end:\n",
    "            return -1\n",
    "        \n",
    "        if nums[end] < target:\n",
    "            return end\n",
    "            \n",
    "        mid = start + (end-start)//2\n",
    "        \n",
    "\n",
    "        if nums[mid] == target:\n",
    "            return mid\n",
    "        \n",
    "        elif (mid > 0 and nums[mid-1] <= target and nums[mid] > target):\n",
    "            return mid-1\n",
    "        \n",
    "        elif target > nums[mid]:\n",
    "            \n",
    "            return binary_search(mid+1,end,nums,target)\n",
    "            \n",
    "        \n",
    "        elif target < nums[mid]:\n",
    "            return binary_search(start,mid-1,nums,target)\n",
    "    \n",
    "#Complete this function\n",
    "def findFloor(A,N,X):\n",
    "    start = 0\n",
    "    end = N-1\n",
    "    search_idx = binary_search(start,end,A,X)\n",
    "\n",
    "    return search_idx\n",
    "\n",
    "print(findFloor([1, 2, 8, 10, 11, 12, 19],7,0))"
   ]
  },
  {
   "cell_type": "markdown",
   "id": "51f8ef85",
   "metadata": {},
   "source": [
    "#### Given a sorted array of distinct integers and a target value, return the index if the target is found. If not, return the index where it would be if it were inserted in order.\n",
    "\n",
    "at the end of the loop, the left pointer will have passed the right pointer (so l > r) and the target needs to be inserted between them. Inserting at index r actually ends up inserting the target at 1 spot behind the correct spot, so inserting at index l is the correct answer."
   ]
  },
  {
   "cell_type": "code",
   "execution_count": 7,
   "id": "abd3e31a",
   "metadata": {},
   "outputs": [
    {
     "name": "stdout",
     "output_type": "stream",
     "text": [
      "2\n"
     ]
    }
   ],
   "source": [
    "def binary_search(start,end,nums,target):\n",
    "\n",
    "        if start > end:\n",
    "            return start\n",
    "            \n",
    "        mid = (start+end)//2\n",
    "        \n",
    "\n",
    "        if nums[mid] == target:\n",
    "            return mid\n",
    "        \n",
    "        elif target > nums[mid]:\n",
    "            \n",
    "            return binary_search(mid+1,end,nums,target)\n",
    "            \n",
    "        \n",
    "        elif target < nums[mid]:\n",
    "            return binary_search(start,mid-1,nums,target)\n",
    "        \n",
    "\n",
    "\n",
    "\n",
    "def searchInsert(nums, target: int) -> int:\n",
    "    start = 0\n",
    "    end = len(nums)-1\n",
    "    search_idx = binary_search(start,end,nums,target)\n",
    "\n",
    "    return search_idx\n",
    "\n",
    "nums = [1,3,5,6]\n",
    "target = 5\n",
    "print(searchInsert(nums, target))\n"
   ]
  },
  {
   "cell_type": "markdown",
   "id": "9bb3405b",
   "metadata": {},
   "source": [
    "### Single Element in a Sorted Array\n",
    "\n",
    "if the mid element is at odd index and couple element is in the right, then it means the single element is at the left and vice versa "
   ]
  },
  {
   "cell_type": "code",
   "execution_count": 2,
   "id": "4a49c2f0",
   "metadata": {},
   "outputs": [
    {
     "name": "stdout",
     "output_type": "stream",
     "text": [
      "2\n"
     ]
    }
   ],
   "source": [
    "def singleNonDuplicate(nums) -> int:\n",
    "        start = 0\n",
    "        end = len(nums)-1\n",
    "\n",
    "        while start < end:\n",
    "            mid = start + (end-start)//2\n",
    "            if nums[mid] == nums[mid-1]:\n",
    "                if mid%2 == 0:\n",
    "                    end = mid-2\n",
    "                else:\n",
    "                    start = mid+1\n",
    "            \n",
    "            elif nums[mid] == nums[mid+1]:\n",
    "                if mid%2 == 0:\n",
    "                    start = mid+2\n",
    "                else:\n",
    "                    end = mid-1\n",
    "            else:\n",
    "                return nums[mid]\n",
    "        return nums[start]\n",
    "    \n",
    "    \n",
    "arr = [1,1,2,3,3,4,4]\n",
    "print(singleNonDuplicate(arr))"
   ]
  },
  {
   "cell_type": "markdown",
   "id": "372082bf",
   "metadata": {},
   "source": [
    "### Find minimum element in rotated array\n",
    "\n",
    "Approach: we arrange the problem in mask FFFFTTT\n",
    "where condition is if the num is greater than last then it's false and now we need to find the first element\n"
   ]
  },
  {
   "cell_type": "code",
   "execution_count": 3,
   "id": "61b0f70a",
   "metadata": {},
   "outputs": [
    {
     "name": "stdout",
     "output_type": "stream",
     "text": [
      "1\n"
     ]
    }
   ],
   "source": [
    "def findMin(nums) -> int:\n",
    "        start = 0\n",
    "        end = len(nums)-1\n",
    "        ele_to_compare = nums[-1]\n",
    "        while start < end:\n",
    "            mid = start + (end-start)//2\n",
    "            if nums[mid] <= ele_to_compare:\n",
    "                end = mid\n",
    "            else:\n",
    "                start = mid+1\n",
    "        return nums[start]\n",
    "    \n",
    "print(findMin([7,6,5,4,1,2,3]))"
   ]
  },
  {
   "cell_type": "markdown",
   "id": "2eea10e8",
   "metadata": {},
   "source": [
    "###  Search in Rotated Sorted Array\n",
    "\n",
    "Approach: Find the pivot point first: [7,6,5,4,0,1,2,3]. Here 0 is the pivot(first element place after rotation). Then find the number in array before pivot and after pivot"
   ]
  },
  {
   "cell_type": "code",
   "execution_count": 4,
   "id": "9e8f4865",
   "metadata": {},
   "outputs": [
    {
     "name": "stdout",
     "output_type": "stream",
     "text": [
      "pivot 4\n",
      "5\n"
     ]
    }
   ],
   "source": [
    "def get_pivot_point(nums):\n",
    "        start = 0\n",
    "        end = len(nums)-1\n",
    "        num_to_compare = nums[end]\n",
    "        while start < end:\n",
    "            mid = start + (end-start)//2\n",
    "\n",
    "            if nums[mid] < num_to_compare:\n",
    "                end = mid\n",
    "            else:\n",
    "                start = mid+1\n",
    "            \n",
    "        return start\n",
    "    \n",
    "def binary_search(nums, target, start, end):\n",
    "    while start <= end:\n",
    "        mid = start + (end-start)//2\n",
    "        if nums[mid] == target:\n",
    "            return mid\n",
    "        elif nums[mid] > target:\n",
    "            end = mid - 1\n",
    "        elif nums[mid] < target:\n",
    "            start = mid + 1\n",
    "    return -1\n",
    "\n",
    "\n",
    "def search(nums, target) -> int:\n",
    "\n",
    "    pivot = get_pivot_point(nums)\n",
    "    print(\"pivot\",pivot)\n",
    "\n",
    "    # search in array before pivot\n",
    "    idx = binary_search(nums, target, 0, pivot-1)\n",
    "\n",
    "    if idx == -1:\n",
    "        idx =  binary_search(nums, target, pivot, len(nums)-1)\n",
    "\n",
    "    return idx\n",
    "\n",
    "nums = [7,6,5,4,1,2,3]\n",
    "target = 2\n",
    "\n",
    "print(search(nums,target))"
   ]
  },
  {
   "cell_type": "markdown",
   "id": "7ab6cadd",
   "metadata": {},
   "source": [
    "### Find Square root"
   ]
  },
  {
   "cell_type": "code",
   "execution_count": 1,
   "id": "2f0e7ba4",
   "metadata": {},
   "outputs": [
    {
     "data": {
      "text/plain": [
       "2"
      ]
     },
     "execution_count": 1,
     "metadata": {},
     "output_type": "execute_result"
    }
   ],
   "source": [
    "def mySqrt(x):\n",
    "    \"\"\"\n",
    "    :type x: int\n",
    "    :rtype: int\n",
    "    \"\"\"\n",
    "    l, r = 0, x\n",
    "    while l <= r:\n",
    "        mid = l + (r-l)//2\n",
    "\n",
    "        if x >= mid * mid and x < (mid+1) * (mid+1):\n",
    "            return mid\n",
    "        elif x < mid * mid:\n",
    "            r = mid - 1\n",
    "        else:\n",
    "            l = mid + 1\n",
    "    return 0\n",
    "\n",
    "mySqrt(8)"
   ]
  },
  {
   "cell_type": "code",
   "execution_count": null,
   "id": "b4237e31",
   "metadata": {},
   "outputs": [],
   "source": []
  }
 ],
 "metadata": {
  "kernelspec": {
   "display_name": "Python 3 (ipykernel)",
   "language": "python",
   "name": "python3"
  },
  "language_info": {
   "codemirror_mode": {
    "name": "ipython",
    "version": 3
   },
   "file_extension": ".py",
   "mimetype": "text/x-python",
   "name": "python",
   "nbconvert_exporter": "python",
   "pygments_lexer": "ipython3",
   "version": "3.11.3"
  }
 },
 "nbformat": 4,
 "nbformat_minor": 5
}
